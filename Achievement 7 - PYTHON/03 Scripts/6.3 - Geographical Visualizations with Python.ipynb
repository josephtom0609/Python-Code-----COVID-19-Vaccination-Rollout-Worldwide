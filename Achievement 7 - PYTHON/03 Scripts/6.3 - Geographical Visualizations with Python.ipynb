{
 "cells": [
  {
   "cell_type": "markdown",
   "metadata": {},
   "source": [
    "# Task 1 and 3 - Installing and Importing Libraries for Geospatial Analysis"
   ]
  },
  {
   "cell_type": "code",
   "execution_count": 1,
   "metadata": {},
   "outputs": [],
   "source": [
    "# Importing Libraries\n",
    "\n",
    "import pandas as pd\n",
    "import numpy as np\n",
    "import seaborn as sns\n",
    "import matplotlib.pyplot as plt\n",
    "import matplotlib\n",
    "import os\n",
    "import geopandas as gpd\n",
    "import geoplot"
   ]
  },
  {
   "cell_type": "code",
   "execution_count": 2,
   "metadata": {},
   "outputs": [],
   "source": [
    "# This command prompts matplotlib visuals to appear in the notebook.\n",
    "\n",
    "%matplotlib inline"
   ]
  },
  {
   "cell_type": "code",
   "execution_count": 10,
   "metadata": {},
   "outputs": [],
   "source": [
    "# Assigning local folder path of datasets and scripts to a variable\n",
    "\n",
    "path=r'C:\\Users\\LENOVO\\Desktop\\CF - Data Analytics\\Achievement 7\\Achievement 7 - PYTHON\\03 Scripts'"
   ]
  },
  {
   "cell_type": "code",
   "execution_count": 18,
   "metadata": {},
   "outputs": [
    {
     "data": {
      "text/plain": [
       "'C:\\\\Users\\\\LENOVO\\\\Desktop\\\\CF - Data Analytics\\\\Achievement 7\\\\Achievement 7 - PYTHON\\\\03 Scripts'"
      ]
     },
     "execution_count": 18,
     "metadata": {},
     "output_type": "execute_result"
    }
   ],
   "source": [
    "path"
   ]
  },
  {
   "cell_type": "markdown",
   "metadata": {},
   "source": [
    "# Task 4 - Finding shapefile with locations of USA and Vaccinations Dataset"
   ]
  },
  {
   "cell_type": "code",
   "execution_count": 12,
   "metadata": {},
   "outputs": [],
   "source": [
    "# Import \".shp\" file for the U.S. shape outline using the Geopandas `read_csv` command.\n",
    "\n",
    "usa = gpd.read_file(os.path.join(path, 'Data', 'USA_States.shp'))"
   ]
  },
  {
   "cell_type": "code",
   "execution_count": 46,
   "metadata": {},
   "outputs": [
    {
     "data": {
      "text/html": [
       "<div>\n",
       "<style scoped>\n",
       "    .dataframe tbody tr th:only-of-type {\n",
       "        vertical-align: middle;\n",
       "    }\n",
       "\n",
       "    .dataframe tbody tr th {\n",
       "        vertical-align: top;\n",
       "    }\n",
       "\n",
       "    .dataframe thead th {\n",
       "        text-align: right;\n",
       "    }\n",
       "</style>\n",
       "<table border=\"1\" class=\"dataframe\">\n",
       "  <thead>\n",
       "    <tr style=\"text-align: right;\">\n",
       "      <th></th>\n",
       "      <th>STATE_NAME</th>\n",
       "      <th>STATE_FIPS</th>\n",
       "      <th>STATE_ABBR</th>\n",
       "      <th>geometry</th>\n",
       "    </tr>\n",
       "  </thead>\n",
       "  <tbody>\n",
       "    <tr>\n",
       "      <th>0</th>\n",
       "      <td>Washington</td>\n",
       "      <td>53</td>\n",
       "      <td>WA</td>\n",
       "      <td>MULTIPOLYGON (((-122.40202 48.22522, -122.4628...</td>\n",
       "    </tr>\n",
       "    <tr>\n",
       "      <th>1</th>\n",
       "      <td>Montana</td>\n",
       "      <td>30</td>\n",
       "      <td>MT</td>\n",
       "      <td>POLYGON ((-111.47543 44.70216, -111.48080 44.6...</td>\n",
       "    </tr>\n",
       "    <tr>\n",
       "      <th>2</th>\n",
       "      <td>Maine</td>\n",
       "      <td>23</td>\n",
       "      <td>ME</td>\n",
       "      <td>MULTIPOLYGON (((-69.77728 44.07415, -69.85993 ...</td>\n",
       "    </tr>\n",
       "    <tr>\n",
       "      <th>3</th>\n",
       "      <td>North Dakota</td>\n",
       "      <td>38</td>\n",
       "      <td>ND</td>\n",
       "      <td>POLYGON ((-98.73044 45.93827, -99.00683 45.939...</td>\n",
       "    </tr>\n",
       "    <tr>\n",
       "      <th>4</th>\n",
       "      <td>South Dakota</td>\n",
       "      <td>46</td>\n",
       "      <td>SD</td>\n",
       "      <td>POLYGON ((-102.78838 42.99530, -103.00588 42.9...</td>\n",
       "    </tr>\n",
       "    <tr>\n",
       "      <th>5</th>\n",
       "      <td>Wyoming</td>\n",
       "      <td>56</td>\n",
       "      <td>WY</td>\n",
       "      <td>POLYGON ((-104.05362 41.69822, -104.05550 41.5...</td>\n",
       "    </tr>\n",
       "    <tr>\n",
       "      <th>6</th>\n",
       "      <td>Wisconsin</td>\n",
       "      <td>55</td>\n",
       "      <td>WI</td>\n",
       "      <td>MULTIPOLYGON (((-87.74855 44.96162, -87.83999 ...</td>\n",
       "    </tr>\n",
       "    <tr>\n",
       "      <th>7</th>\n",
       "      <td>Idaho</td>\n",
       "      <td>16</td>\n",
       "      <td>ID</td>\n",
       "      <td>POLYGON ((-117.02630 43.67903, -117.02379 43.7...</td>\n",
       "    </tr>\n",
       "    <tr>\n",
       "      <th>8</th>\n",
       "      <td>Vermont</td>\n",
       "      <td>50</td>\n",
       "      <td>VT</td>\n",
       "      <td>POLYGON ((-73.25806 42.74606, -73.26928 42.747...</td>\n",
       "    </tr>\n",
       "    <tr>\n",
       "      <th>9</th>\n",
       "      <td>Minnesota</td>\n",
       "      <td>27</td>\n",
       "      <td>MN</td>\n",
       "      <td>POLYGON ((-91.73037 43.49957, -92.07753 43.499...</td>\n",
       "    </tr>\n",
       "  </tbody>\n",
       "</table>\n",
       "</div>"
      ],
      "text/plain": [
       "     STATE_NAME STATE_FIPS STATE_ABBR  \\\n",
       "0    Washington         53         WA   \n",
       "1       Montana         30         MT   \n",
       "2         Maine         23         ME   \n",
       "3  North Dakota         38         ND   \n",
       "4  South Dakota         46         SD   \n",
       "5       Wyoming         56         WY   \n",
       "6     Wisconsin         55         WI   \n",
       "7         Idaho         16         ID   \n",
       "8       Vermont         50         VT   \n",
       "9     Minnesota         27         MN   \n",
       "\n",
       "                                            geometry  \n",
       "0  MULTIPOLYGON (((-122.40202 48.22522, -122.4628...  \n",
       "1  POLYGON ((-111.47543 44.70216, -111.48080 44.6...  \n",
       "2  MULTIPOLYGON (((-69.77728 44.07415, -69.85993 ...  \n",
       "3  POLYGON ((-98.73044 45.93827, -99.00683 45.939...  \n",
       "4  POLYGON ((-102.78838 42.99530, -103.00588 42.9...  \n",
       "5  POLYGON ((-104.05362 41.69822, -104.05550 41.5...  \n",
       "6  MULTIPOLYGON (((-87.74855 44.96162, -87.83999 ...  \n",
       "7  POLYGON ((-117.02630 43.67903, -117.02379 43.7...  \n",
       "8  POLYGON ((-73.25806 42.74606, -73.26928 42.747...  \n",
       "9  POLYGON ((-91.73037 43.49957, -92.07753 43.499...  "
      ]
     },
     "execution_count": 46,
     "metadata": {},
     "output_type": "execute_result"
    }
   ],
   "source": [
    "usa.head(10)"
   ]
  },
  {
   "cell_type": "code",
   "execution_count": 16,
   "metadata": {},
   "outputs": [],
   "source": [
    "path_1 = r'C:\\Users\\LENOVO\\Desktop\\CF - Data Analytics\\Achievement 7\\Achievement 7 - PYTHON\\02 Data'\n",
    "\n",
    "# Assigning local folder path of datasets and scripts to a variable"
   ]
  },
  {
   "cell_type": "code",
   "execution_count": 19,
   "metadata": {},
   "outputs": [
    {
     "data": {
      "text/plain": [
       "'C:\\\\Users\\\\LENOVO\\\\Desktop\\\\CF - Data Analytics\\\\Achievement 7\\\\Achievement 7 - PYTHON\\\\02 Data'"
      ]
     },
     "execution_count": 19,
     "metadata": {},
     "output_type": "execute_result"
    }
   ],
   "source": [
    "path_1"
   ]
  },
  {
   "cell_type": "code",
   "execution_count": 20,
   "metadata": {},
   "outputs": [],
   "source": [
    "df_vaccs_usa = pd.read_csv(os.path.join(path_1, 'Original Data', 'us_state_vaccinations.csv'))\n",
    "\n",
    "# Importing the USA Vaccinations dataset from the .csv file"
   ]
  },
  {
   "cell_type": "code",
   "execution_count": 21,
   "metadata": {},
   "outputs": [
    {
     "data": {
      "text/html": [
       "<div>\n",
       "<style scoped>\n",
       "    .dataframe tbody tr th:only-of-type {\n",
       "        vertical-align: middle;\n",
       "    }\n",
       "\n",
       "    .dataframe tbody tr th {\n",
       "        vertical-align: top;\n",
       "    }\n",
       "\n",
       "    .dataframe thead th {\n",
       "        text-align: right;\n",
       "    }\n",
       "</style>\n",
       "<table border=\"1\" class=\"dataframe\">\n",
       "  <thead>\n",
       "    <tr style=\"text-align: right;\">\n",
       "      <th></th>\n",
       "      <th>date</th>\n",
       "      <th>location</th>\n",
       "      <th>total_vaccinations</th>\n",
       "      <th>total_distributed</th>\n",
       "      <th>people_vaccinated</th>\n",
       "      <th>people_fully_vaccinated_per_hundred</th>\n",
       "      <th>total_vaccinations_per_hundred</th>\n",
       "      <th>people_fully_vaccinated</th>\n",
       "      <th>people_vaccinated_per_hundred</th>\n",
       "      <th>distributed_per_hundred</th>\n",
       "      <th>daily_vaccinations_raw</th>\n",
       "      <th>daily_vaccinations</th>\n",
       "      <th>daily_vaccinations_per_million</th>\n",
       "      <th>share_doses_used</th>\n",
       "    </tr>\n",
       "  </thead>\n",
       "  <tbody>\n",
       "    <tr>\n",
       "      <th>0</th>\n",
       "      <td>12/01/2021</td>\n",
       "      <td>Alabama</td>\n",
       "      <td>78134.0</td>\n",
       "      <td>377025.0</td>\n",
       "      <td>70861.0</td>\n",
       "      <td>0.15</td>\n",
       "      <td>1.59</td>\n",
       "      <td>7270.0</td>\n",
       "      <td>1.45</td>\n",
       "      <td>7.69</td>\n",
       "      <td>NaN</td>\n",
       "      <td>NaN</td>\n",
       "      <td>NaN</td>\n",
       "      <td>0.207</td>\n",
       "    </tr>\n",
       "    <tr>\n",
       "      <th>1</th>\n",
       "      <td>13/01/2021</td>\n",
       "      <td>Alabama</td>\n",
       "      <td>84040.0</td>\n",
       "      <td>378975.0</td>\n",
       "      <td>74792.0</td>\n",
       "      <td>0.19</td>\n",
       "      <td>1.71</td>\n",
       "      <td>9245.0</td>\n",
       "      <td>1.53</td>\n",
       "      <td>7.73</td>\n",
       "      <td>5906.0</td>\n",
       "      <td>5906.0</td>\n",
       "      <td>1205.0</td>\n",
       "      <td>0.222</td>\n",
       "    </tr>\n",
       "    <tr>\n",
       "      <th>2</th>\n",
       "      <td>14/01/2021</td>\n",
       "      <td>Alabama</td>\n",
       "      <td>92300.0</td>\n",
       "      <td>435350.0</td>\n",
       "      <td>80480.0</td>\n",
       "      <td>NaN</td>\n",
       "      <td>1.88</td>\n",
       "      <td>NaN</td>\n",
       "      <td>1.64</td>\n",
       "      <td>8.88</td>\n",
       "      <td>8260.0</td>\n",
       "      <td>7083.0</td>\n",
       "      <td>1445.0</td>\n",
       "      <td>0.212</td>\n",
       "    </tr>\n",
       "    <tr>\n",
       "      <th>3</th>\n",
       "      <td>15/01/2021</td>\n",
       "      <td>Alabama</td>\n",
       "      <td>100567.0</td>\n",
       "      <td>444650.0</td>\n",
       "      <td>86956.0</td>\n",
       "      <td>0.28</td>\n",
       "      <td>2.05</td>\n",
       "      <td>13488.0</td>\n",
       "      <td>1.77</td>\n",
       "      <td>9.07</td>\n",
       "      <td>8267.0</td>\n",
       "      <td>7478.0</td>\n",
       "      <td>1525.0</td>\n",
       "      <td>0.226</td>\n",
       "    </tr>\n",
       "    <tr>\n",
       "      <th>4</th>\n",
       "      <td>16/01/2021</td>\n",
       "      <td>Alabama</td>\n",
       "      <td>NaN</td>\n",
       "      <td>NaN</td>\n",
       "      <td>NaN</td>\n",
       "      <td>NaN</td>\n",
       "      <td>NaN</td>\n",
       "      <td>NaN</td>\n",
       "      <td>NaN</td>\n",
       "      <td>NaN</td>\n",
       "      <td>7557.0</td>\n",
       "      <td>7498.0</td>\n",
       "      <td>1529.0</td>\n",
       "      <td>NaN</td>\n",
       "    </tr>\n",
       "  </tbody>\n",
       "</table>\n",
       "</div>"
      ],
      "text/plain": [
       "         date location  total_vaccinations  total_distributed  \\\n",
       "0  12/01/2021  Alabama             78134.0           377025.0   \n",
       "1  13/01/2021  Alabama             84040.0           378975.0   \n",
       "2  14/01/2021  Alabama             92300.0           435350.0   \n",
       "3  15/01/2021  Alabama            100567.0           444650.0   \n",
       "4  16/01/2021  Alabama                 NaN                NaN   \n",
       "\n",
       "   people_vaccinated  people_fully_vaccinated_per_hundred  \\\n",
       "0            70861.0                                 0.15   \n",
       "1            74792.0                                 0.19   \n",
       "2            80480.0                                  NaN   \n",
       "3            86956.0                                 0.28   \n",
       "4                NaN                                  NaN   \n",
       "\n",
       "   total_vaccinations_per_hundred  people_fully_vaccinated  \\\n",
       "0                            1.59                   7270.0   \n",
       "1                            1.71                   9245.0   \n",
       "2                            1.88                      NaN   \n",
       "3                            2.05                  13488.0   \n",
       "4                             NaN                      NaN   \n",
       "\n",
       "   people_vaccinated_per_hundred  distributed_per_hundred  \\\n",
       "0                           1.45                     7.69   \n",
       "1                           1.53                     7.73   \n",
       "2                           1.64                     8.88   \n",
       "3                           1.77                     9.07   \n",
       "4                            NaN                      NaN   \n",
       "\n",
       "   daily_vaccinations_raw  daily_vaccinations  daily_vaccinations_per_million  \\\n",
       "0                     NaN                 NaN                             NaN   \n",
       "1                  5906.0              5906.0                          1205.0   \n",
       "2                  8260.0              7083.0                          1445.0   \n",
       "3                  8267.0              7478.0                          1525.0   \n",
       "4                  7557.0              7498.0                          1529.0   \n",
       "\n",
       "   share_doses_used  \n",
       "0             0.207  \n",
       "1             0.222  \n",
       "2             0.212  \n",
       "3             0.226  \n",
       "4               NaN  "
      ]
     },
     "execution_count": 21,
     "metadata": {},
     "output_type": "execute_result"
    }
   ],
   "source": [
    "df_vaccs_usa.head()"
   ]
  },
  {
   "cell_type": "code",
   "execution_count": 22,
   "metadata": {},
   "outputs": [
    {
     "data": {
      "text/plain": [
       "(12438, 14)"
      ]
     },
     "execution_count": 22,
     "metadata": {},
     "output_type": "execute_result"
    }
   ],
   "source": [
    "df_vaccs_usa.shape"
   ]
  },
  {
   "cell_type": "markdown",
   "metadata": {},
   "source": [
    "# Task 5 - Wrangle Project Data"
   ]
  },
  {
   "cell_type": "code",
   "execution_count": 24,
   "metadata": {},
   "outputs": [],
   "source": [
    "# Renaming long columns names into a shorter one\n",
    "\n",
    "df_vacc_usa_1 = df_vaccs_usa.rename(columns = {'location' : 'STATE_NAME', \n",
    "                                              'total_vaccinations' : 'total_vaccs', \n",
    "                                              'people_vaccinated' : 'ppl_vaccd', \n",
    "                                              'people_fully_vaccinated_per_hundred' : 'ppl_fully_vaccd_per_100',\n",
    "                                              'total_vaccinations_per_hundred' : 'total_vaccs_per_100',\n",
    "                                              'daily_vaccinations' : 'daily_vaccs', \n",
    "                                              'people_fully_vaccinated' : 'ppl_fully_vaccd', \n",
    "                                              'daily_vaccinations_per_million' : 'daily_vaccs_per_million'})"
   ]
  },
  {
   "cell_type": "code",
   "execution_count": 25,
   "metadata": {},
   "outputs": [
    {
     "data": {
      "text/html": [
       "<div>\n",
       "<style scoped>\n",
       "    .dataframe tbody tr th:only-of-type {\n",
       "        vertical-align: middle;\n",
       "    }\n",
       "\n",
       "    .dataframe tbody tr th {\n",
       "        vertical-align: top;\n",
       "    }\n",
       "\n",
       "    .dataframe thead th {\n",
       "        text-align: right;\n",
       "    }\n",
       "</style>\n",
       "<table border=\"1\" class=\"dataframe\">\n",
       "  <thead>\n",
       "    <tr style=\"text-align: right;\">\n",
       "      <th></th>\n",
       "      <th>date</th>\n",
       "      <th>STATE_NAME</th>\n",
       "      <th>total_vaccs</th>\n",
       "      <th>total_distributed</th>\n",
       "      <th>ppl_vaccd</th>\n",
       "      <th>ppl_fully_vaccd_per_100</th>\n",
       "      <th>total_vaccs_per_100</th>\n",
       "      <th>ppl_fully_vaccd</th>\n",
       "      <th>people_vaccinated_per_hundred</th>\n",
       "      <th>distributed_per_hundred</th>\n",
       "      <th>daily_vaccinations_raw</th>\n",
       "      <th>daily_vaccs</th>\n",
       "      <th>daily_vaccs_per_million</th>\n",
       "      <th>share_doses_used</th>\n",
       "    </tr>\n",
       "  </thead>\n",
       "  <tbody>\n",
       "    <tr>\n",
       "      <th>0</th>\n",
       "      <td>12/01/2021</td>\n",
       "      <td>Alabama</td>\n",
       "      <td>78134.0</td>\n",
       "      <td>377025.0</td>\n",
       "      <td>70861.0</td>\n",
       "      <td>0.15</td>\n",
       "      <td>1.59</td>\n",
       "      <td>7270.0</td>\n",
       "      <td>1.45</td>\n",
       "      <td>7.69</td>\n",
       "      <td>NaN</td>\n",
       "      <td>NaN</td>\n",
       "      <td>NaN</td>\n",
       "      <td>0.207</td>\n",
       "    </tr>\n",
       "    <tr>\n",
       "      <th>1</th>\n",
       "      <td>13/01/2021</td>\n",
       "      <td>Alabama</td>\n",
       "      <td>84040.0</td>\n",
       "      <td>378975.0</td>\n",
       "      <td>74792.0</td>\n",
       "      <td>0.19</td>\n",
       "      <td>1.71</td>\n",
       "      <td>9245.0</td>\n",
       "      <td>1.53</td>\n",
       "      <td>7.73</td>\n",
       "      <td>5906.0</td>\n",
       "      <td>5906.0</td>\n",
       "      <td>1205.0</td>\n",
       "      <td>0.222</td>\n",
       "    </tr>\n",
       "    <tr>\n",
       "      <th>2</th>\n",
       "      <td>14/01/2021</td>\n",
       "      <td>Alabama</td>\n",
       "      <td>92300.0</td>\n",
       "      <td>435350.0</td>\n",
       "      <td>80480.0</td>\n",
       "      <td>NaN</td>\n",
       "      <td>1.88</td>\n",
       "      <td>NaN</td>\n",
       "      <td>1.64</td>\n",
       "      <td>8.88</td>\n",
       "      <td>8260.0</td>\n",
       "      <td>7083.0</td>\n",
       "      <td>1445.0</td>\n",
       "      <td>0.212</td>\n",
       "    </tr>\n",
       "    <tr>\n",
       "      <th>3</th>\n",
       "      <td>15/01/2021</td>\n",
       "      <td>Alabama</td>\n",
       "      <td>100567.0</td>\n",
       "      <td>444650.0</td>\n",
       "      <td>86956.0</td>\n",
       "      <td>0.28</td>\n",
       "      <td>2.05</td>\n",
       "      <td>13488.0</td>\n",
       "      <td>1.77</td>\n",
       "      <td>9.07</td>\n",
       "      <td>8267.0</td>\n",
       "      <td>7478.0</td>\n",
       "      <td>1525.0</td>\n",
       "      <td>0.226</td>\n",
       "    </tr>\n",
       "    <tr>\n",
       "      <th>4</th>\n",
       "      <td>16/01/2021</td>\n",
       "      <td>Alabama</td>\n",
       "      <td>NaN</td>\n",
       "      <td>NaN</td>\n",
       "      <td>NaN</td>\n",
       "      <td>NaN</td>\n",
       "      <td>NaN</td>\n",
       "      <td>NaN</td>\n",
       "      <td>NaN</td>\n",
       "      <td>NaN</td>\n",
       "      <td>7557.0</td>\n",
       "      <td>7498.0</td>\n",
       "      <td>1529.0</td>\n",
       "      <td>NaN</td>\n",
       "    </tr>\n",
       "  </tbody>\n",
       "</table>\n",
       "</div>"
      ],
      "text/plain": [
       "         date STATE_NAME  total_vaccs  total_distributed  ppl_vaccd  \\\n",
       "0  12/01/2021    Alabama      78134.0           377025.0    70861.0   \n",
       "1  13/01/2021    Alabama      84040.0           378975.0    74792.0   \n",
       "2  14/01/2021    Alabama      92300.0           435350.0    80480.0   \n",
       "3  15/01/2021    Alabama     100567.0           444650.0    86956.0   \n",
       "4  16/01/2021    Alabama          NaN                NaN        NaN   \n",
       "\n",
       "   ppl_fully_vaccd_per_100  total_vaccs_per_100  ppl_fully_vaccd  \\\n",
       "0                     0.15                 1.59           7270.0   \n",
       "1                     0.19                 1.71           9245.0   \n",
       "2                      NaN                 1.88              NaN   \n",
       "3                     0.28                 2.05          13488.0   \n",
       "4                      NaN                  NaN              NaN   \n",
       "\n",
       "   people_vaccinated_per_hundred  distributed_per_hundred  \\\n",
       "0                           1.45                     7.69   \n",
       "1                           1.53                     7.73   \n",
       "2                           1.64                     8.88   \n",
       "3                           1.77                     9.07   \n",
       "4                            NaN                      NaN   \n",
       "\n",
       "   daily_vaccinations_raw  daily_vaccs  daily_vaccs_per_million  \\\n",
       "0                     NaN          NaN                      NaN   \n",
       "1                  5906.0       5906.0                   1205.0   \n",
       "2                  8260.0       7083.0                   1445.0   \n",
       "3                  8267.0       7478.0                   1525.0   \n",
       "4                  7557.0       7498.0                   1529.0   \n",
       "\n",
       "   share_doses_used  \n",
       "0             0.207  \n",
       "1             0.222  \n",
       "2             0.212  \n",
       "3             0.226  \n",
       "4               NaN  "
      ]
     },
     "execution_count": 25,
     "metadata": {},
     "output_type": "execute_result"
    }
   ],
   "source": [
    "df_vacc_usa_1.head()"
   ]
  },
  {
   "cell_type": "code",
   "execution_count": 26,
   "metadata": {},
   "outputs": [],
   "source": [
    "subset_vaccs_usa = df_vacc_usa_1[['STATE_NAME', 'total_vaccs', 'ppl_vaccd', 'ppl_fully_vaccd_per_100', 'total_vaccs_per_100', 'ppl_fully_vaccd', 'daily_vaccs', 'daily_vaccs_per_million']]\n",
    "\n",
    "# Creating a subset of only the required columns"
   ]
  },
  {
   "cell_type": "code",
   "execution_count": 27,
   "metadata": {},
   "outputs": [
    {
     "data": {
      "text/html": [
       "<div>\n",
       "<style scoped>\n",
       "    .dataframe tbody tr th:only-of-type {\n",
       "        vertical-align: middle;\n",
       "    }\n",
       "\n",
       "    .dataframe tbody tr th {\n",
       "        vertical-align: top;\n",
       "    }\n",
       "\n",
       "    .dataframe thead th {\n",
       "        text-align: right;\n",
       "    }\n",
       "</style>\n",
       "<table border=\"1\" class=\"dataframe\">\n",
       "  <thead>\n",
       "    <tr style=\"text-align: right;\">\n",
       "      <th></th>\n",
       "      <th>STATE_NAME</th>\n",
       "      <th>total_vaccs</th>\n",
       "      <th>ppl_vaccd</th>\n",
       "      <th>ppl_fully_vaccd_per_100</th>\n",
       "      <th>total_vaccs_per_100</th>\n",
       "      <th>ppl_fully_vaccd</th>\n",
       "      <th>daily_vaccs</th>\n",
       "      <th>daily_vaccs_per_million</th>\n",
       "    </tr>\n",
       "  </thead>\n",
       "  <tbody>\n",
       "    <tr>\n",
       "      <th>0</th>\n",
       "      <td>Alabama</td>\n",
       "      <td>78134.0</td>\n",
       "      <td>70861.0</td>\n",
       "      <td>0.15</td>\n",
       "      <td>1.59</td>\n",
       "      <td>7270.0</td>\n",
       "      <td>NaN</td>\n",
       "      <td>NaN</td>\n",
       "    </tr>\n",
       "    <tr>\n",
       "      <th>1</th>\n",
       "      <td>Alabama</td>\n",
       "      <td>84040.0</td>\n",
       "      <td>74792.0</td>\n",
       "      <td>0.19</td>\n",
       "      <td>1.71</td>\n",
       "      <td>9245.0</td>\n",
       "      <td>5906.0</td>\n",
       "      <td>1205.0</td>\n",
       "    </tr>\n",
       "    <tr>\n",
       "      <th>2</th>\n",
       "      <td>Alabama</td>\n",
       "      <td>92300.0</td>\n",
       "      <td>80480.0</td>\n",
       "      <td>NaN</td>\n",
       "      <td>1.88</td>\n",
       "      <td>NaN</td>\n",
       "      <td>7083.0</td>\n",
       "      <td>1445.0</td>\n",
       "    </tr>\n",
       "    <tr>\n",
       "      <th>3</th>\n",
       "      <td>Alabama</td>\n",
       "      <td>100567.0</td>\n",
       "      <td>86956.0</td>\n",
       "      <td>0.28</td>\n",
       "      <td>2.05</td>\n",
       "      <td>13488.0</td>\n",
       "      <td>7478.0</td>\n",
       "      <td>1525.0</td>\n",
       "    </tr>\n",
       "    <tr>\n",
       "      <th>4</th>\n",
       "      <td>Alabama</td>\n",
       "      <td>NaN</td>\n",
       "      <td>NaN</td>\n",
       "      <td>NaN</td>\n",
       "      <td>NaN</td>\n",
       "      <td>NaN</td>\n",
       "      <td>7498.0</td>\n",
       "      <td>1529.0</td>\n",
       "    </tr>\n",
       "  </tbody>\n",
       "</table>\n",
       "</div>"
      ],
      "text/plain": [
       "  STATE_NAME  total_vaccs  ppl_vaccd  ppl_fully_vaccd_per_100  \\\n",
       "0    Alabama      78134.0    70861.0                     0.15   \n",
       "1    Alabama      84040.0    74792.0                     0.19   \n",
       "2    Alabama      92300.0    80480.0                      NaN   \n",
       "3    Alabama     100567.0    86956.0                     0.28   \n",
       "4    Alabama          NaN        NaN                      NaN   \n",
       "\n",
       "   total_vaccs_per_100  ppl_fully_vaccd  daily_vaccs  daily_vaccs_per_million  \n",
       "0                 1.59           7270.0          NaN                      NaN  \n",
       "1                 1.71           9245.0       5906.0                   1205.0  \n",
       "2                 1.88              NaN       7083.0                   1445.0  \n",
       "3                 2.05          13488.0       7478.0                   1525.0  \n",
       "4                  NaN              NaN       7498.0                   1529.0  "
      ]
     },
     "execution_count": 27,
     "metadata": {},
     "output_type": "execute_result"
    }
   ],
   "source": [
    "subset_vaccs_usa.head()"
   ]
  },
  {
   "cell_type": "code",
   "execution_count": 28,
   "metadata": {},
   "outputs": [],
   "source": [
    "for col in subset_vaccs_usa.columns.tolist():\n",
    "    weird=(subset_vaccs_usa[[col]].applymap(type) != subset_vaccs_usa[[col]].iloc[0].apply(type)).any(axis=1)\n",
    "    if len(subset_vaccs_usa[weird]) > 0:\n",
    "        print(col)\n",
    "        \n",
    "# Checking for mixed data type in the USA Vaccinations dataset"
   ]
  },
  {
   "cell_type": "markdown",
   "metadata": {},
   "source": [
    "### No mixed data types present in the US Vaccinations subset"
   ]
  },
  {
   "cell_type": "code",
   "execution_count": 29,
   "metadata": {},
   "outputs": [
    {
     "data": {
      "text/plain": [
       "STATE_NAME                    0\n",
       "total_vaccs                 400\n",
       "ppl_vaccd                   607\n",
       "ppl_fully_vaccd_per_100    1274\n",
       "total_vaccs_per_100        1172\n",
       "ppl_fully_vaccd             689\n",
       "daily_vaccs                  65\n",
       "daily_vaccs_per_million     860\n",
       "dtype: int64"
      ]
     },
     "execution_count": 29,
     "metadata": {},
     "output_type": "execute_result"
    }
   ],
   "source": [
    "subset_vaccs_usa.isnull().sum()\n",
    "\n",
    "# Checking for missing values in the subset"
   ]
  },
  {
   "cell_type": "markdown",
   "metadata": {},
   "source": [
    "### Missing Values are present in the subset for various columns\n",
    "\n",
    "### Imputing the missing values with the mean value of each column of the subset for USA Vaccinations Dataset"
   ]
  },
  {
   "cell_type": "code",
   "execution_count": 30,
   "metadata": {},
   "outputs": [
    {
     "data": {
      "text/html": [
       "<div>\n",
       "<style scoped>\n",
       "    .dataframe tbody tr th:only-of-type {\n",
       "        vertical-align: middle;\n",
       "    }\n",
       "\n",
       "    .dataframe tbody tr th {\n",
       "        vertical-align: top;\n",
       "    }\n",
       "\n",
       "    .dataframe thead th {\n",
       "        text-align: right;\n",
       "    }\n",
       "</style>\n",
       "<table border=\"1\" class=\"dataframe\">\n",
       "  <thead>\n",
       "    <tr style=\"text-align: right;\">\n",
       "      <th></th>\n",
       "      <th>total_vaccs</th>\n",
       "      <th>ppl_vaccd</th>\n",
       "      <th>ppl_fully_vaccd_per_100</th>\n",
       "      <th>total_vaccs_per_100</th>\n",
       "      <th>ppl_fully_vaccd</th>\n",
       "      <th>daily_vaccs</th>\n",
       "      <th>daily_vaccs_per_million</th>\n",
       "    </tr>\n",
       "  </thead>\n",
       "  <tbody>\n",
       "    <tr>\n",
       "      <th>count</th>\n",
       "      <td>1.203800e+04</td>\n",
       "      <td>1.183100e+04</td>\n",
       "      <td>11164.000000</td>\n",
       "      <td>11266.000000</td>\n",
       "      <td>1.174900e+04</td>\n",
       "      <td>1.237300e+04</td>\n",
       "      <td>11578.000000</td>\n",
       "    </tr>\n",
       "    <tr>\n",
       "      <th>mean</th>\n",
       "      <td>6.080481e+06</td>\n",
       "      <td>3.591637e+06</td>\n",
       "      <td>24.949051</td>\n",
       "      <td>57.142023</td>\n",
       "      <td>2.628000e+06</td>\n",
       "      <td>5.543052e+04</td>\n",
       "      <td>5088.458715</td>\n",
       "    </tr>\n",
       "    <tr>\n",
       "      <th>std</th>\n",
       "      <td>2.740162e+07</td>\n",
       "      <td>1.596051e+07</td>\n",
       "      <td>17.359202</td>\n",
       "      <td>34.478582</td>\n",
       "      <td>1.250307e+07</td>\n",
       "      <td>2.368149e+05</td>\n",
       "      <td>3057.438780</td>\n",
       "    </tr>\n",
       "    <tr>\n",
       "      <th>min</th>\n",
       "      <td>4.160000e+02</td>\n",
       "      <td>4.010000e+02</td>\n",
       "      <td>0.000000</td>\n",
       "      <td>0.170000</td>\n",
       "      <td>1.000000e+00</td>\n",
       "      <td>-3.511300e+04</td>\n",
       "      <td>-16746.000000</td>\n",
       "    </tr>\n",
       "    <tr>\n",
       "      <th>25%</th>\n",
       "      <td>4.079320e+05</td>\n",
       "      <td>2.752085e+05</td>\n",
       "      <td>8.870000</td>\n",
       "      <td>25.560000</td>\n",
       "      <td>1.111510e+05</td>\n",
       "      <td>4.131000e+03</td>\n",
       "      <td>2687.250000</td>\n",
       "    </tr>\n",
       "    <tr>\n",
       "      <th>50%</th>\n",
       "      <td>1.457666e+06</td>\n",
       "      <td>8.728160e+05</td>\n",
       "      <td>24.885000</td>\n",
       "      <td>59.020000</td>\n",
       "      <td>5.711380e+05</td>\n",
       "      <td>1.388800e+04</td>\n",
       "      <td>4560.000000</td>\n",
       "    </tr>\n",
       "    <tr>\n",
       "      <th>75%</th>\n",
       "      <td>4.194078e+06</td>\n",
       "      <td>2.361900e+06</td>\n",
       "      <td>38.490000</td>\n",
       "      <td>83.930000</td>\n",
       "      <td>1.698193e+06</td>\n",
       "      <td>3.732800e+04</td>\n",
       "      <td>7054.500000</td>\n",
       "    </tr>\n",
       "    <tr>\n",
       "      <th>max</th>\n",
       "      <td>3.391029e+08</td>\n",
       "      <td>1.868194e+08</td>\n",
       "      <td>75.150000</td>\n",
       "      <td>142.890000</td>\n",
       "      <td>1.618950e+08</td>\n",
       "      <td>3.384387e+06</td>\n",
       "      <td>27652.000000</td>\n",
       "    </tr>\n",
       "  </tbody>\n",
       "</table>\n",
       "</div>"
      ],
      "text/plain": [
       "        total_vaccs     ppl_vaccd  ppl_fully_vaccd_per_100  \\\n",
       "count  1.203800e+04  1.183100e+04             11164.000000   \n",
       "mean   6.080481e+06  3.591637e+06                24.949051   \n",
       "std    2.740162e+07  1.596051e+07                17.359202   \n",
       "min    4.160000e+02  4.010000e+02                 0.000000   \n",
       "25%    4.079320e+05  2.752085e+05                 8.870000   \n",
       "50%    1.457666e+06  8.728160e+05                24.885000   \n",
       "75%    4.194078e+06  2.361900e+06                38.490000   \n",
       "max    3.391029e+08  1.868194e+08                75.150000   \n",
       "\n",
       "       total_vaccs_per_100  ppl_fully_vaccd   daily_vaccs  \\\n",
       "count         11266.000000     1.174900e+04  1.237300e+04   \n",
       "mean             57.142023     2.628000e+06  5.543052e+04   \n",
       "std              34.478582     1.250307e+07  2.368149e+05   \n",
       "min               0.170000     1.000000e+00 -3.511300e+04   \n",
       "25%              25.560000     1.111510e+05  4.131000e+03   \n",
       "50%              59.020000     5.711380e+05  1.388800e+04   \n",
       "75%              83.930000     1.698193e+06  3.732800e+04   \n",
       "max             142.890000     1.618950e+08  3.384387e+06   \n",
       "\n",
       "       daily_vaccs_per_million  \n",
       "count             11578.000000  \n",
       "mean               5088.458715  \n",
       "std                3057.438780  \n",
       "min              -16746.000000  \n",
       "25%                2687.250000  \n",
       "50%                4560.000000  \n",
       "75%                7054.500000  \n",
       "max               27652.000000  "
      ]
     },
     "execution_count": 30,
     "metadata": {},
     "output_type": "execute_result"
    }
   ],
   "source": [
    "subset_vaccs_usa.describe()"
   ]
  },
  {
   "cell_type": "code",
   "execution_count": 31,
   "metadata": {},
   "outputs": [
    {
     "name": "stderr",
     "output_type": "stream",
     "text": [
      "C:\\Users\\LENOVO\\anaconda3\\envs\\env\\lib\\site-packages\\pandas\\core\\generic.py:6383: SettingWithCopyWarning: \n",
      "A value is trying to be set on a copy of a slice from a DataFrame\n",
      "\n",
      "See the caveats in the documentation: https://pandas.pydata.org/pandas-docs/stable/user_guide/indexing.html#returning-a-view-versus-a-copy\n",
      "  return self._update_inplace(result)\n"
     ]
    }
   ],
   "source": [
    "subset_vaccs_usa['total_vaccs'].fillna(6080481, inplace=True)\n",
    "\n",
    "# Imputing the missing values with the mean value of the variable 'total_vaccinations'"
   ]
  },
  {
   "cell_type": "code",
   "execution_count": 32,
   "metadata": {},
   "outputs": [],
   "source": [
    "subset_vaccs_usa['ppl_vaccd'].fillna(3591637, inplace=True)\n",
    "\n",
    "# Imputing the missing values with the mean value of the variable 'people_vaccinated'"
   ]
  },
  {
   "cell_type": "code",
   "execution_count": 33,
   "metadata": {},
   "outputs": [],
   "source": [
    "subset_vaccs_usa['ppl_fully_vaccd_per_100'].fillna(24.94, inplace=True)\n",
    "\n",
    "# Imputing the missing values with the mean value of the variable 'people_fully_vaccinated_per_100'"
   ]
  },
  {
   "cell_type": "code",
   "execution_count": 34,
   "metadata": {},
   "outputs": [],
   "source": [
    "subset_vaccs_usa['total_vaccs_per_100'].fillna(57.14, inplace=True)\n",
    "\n",
    "# Imputing the missing values with the mean value of the variable 'total_vaccinations_per_100'"
   ]
  },
  {
   "cell_type": "code",
   "execution_count": 35,
   "metadata": {},
   "outputs": [],
   "source": [
    "subset_vaccs_usa['ppl_fully_vaccd'].fillna(2628000, inplace=True)\n",
    "\n",
    "# Imputing the missing values with the mean value of the variable 'people_fully_vaccinated'"
   ]
  },
  {
   "cell_type": "code",
   "execution_count": 36,
   "metadata": {},
   "outputs": [],
   "source": [
    "subset_vaccs_usa['daily_vaccs'].fillna(55430.52, inplace=True)\n",
    "\n",
    "# Imputing the missing values with the mean value of the variable 'daily_vaccinations'"
   ]
  },
  {
   "cell_type": "code",
   "execution_count": 37,
   "metadata": {},
   "outputs": [],
   "source": [
    "subset_vaccs_usa['daily_vaccs_per_million'].fillna(5088.45, inplace=True)\n",
    "\n",
    "# Imputing the missing values with the mean value of the variable 'daily_vaccinations_per_million'"
   ]
  },
  {
   "cell_type": "code",
   "execution_count": 38,
   "metadata": {},
   "outputs": [
    {
     "data": {
      "text/plain": [
       "STATE_NAME                 0\n",
       "total_vaccs                0\n",
       "ppl_vaccd                  0\n",
       "ppl_fully_vaccd_per_100    0\n",
       "total_vaccs_per_100        0\n",
       "ppl_fully_vaccd            0\n",
       "daily_vaccs                0\n",
       "daily_vaccs_per_million    0\n",
       "dtype: int64"
      ]
     },
     "execution_count": 38,
     "metadata": {},
     "output_type": "execute_result"
    }
   ],
   "source": [
    "subset_vaccs_usa.isnull().sum()\n",
    "\n",
    "# Checking for missing values in the subset"
   ]
  },
  {
   "cell_type": "markdown",
   "metadata": {},
   "source": [
    "### Checking for duplicates"
   ]
  },
  {
   "cell_type": "code",
   "execution_count": 39,
   "metadata": {},
   "outputs": [],
   "source": [
    "df_dups=subset_vaccs_usa[subset_vaccs_usa.duplicated()]"
   ]
  },
  {
   "cell_type": "code",
   "execution_count": 40,
   "metadata": {},
   "outputs": [
    {
     "data": {
      "text/html": [
       "<div>\n",
       "<style scoped>\n",
       "    .dataframe tbody tr th:only-of-type {\n",
       "        vertical-align: middle;\n",
       "    }\n",
       "\n",
       "    .dataframe tbody tr th {\n",
       "        vertical-align: top;\n",
       "    }\n",
       "\n",
       "    .dataframe thead th {\n",
       "        text-align: right;\n",
       "    }\n",
       "</style>\n",
       "<table border=\"1\" class=\"dataframe\">\n",
       "  <thead>\n",
       "    <tr style=\"text-align: right;\">\n",
       "      <th></th>\n",
       "      <th>STATE_NAME</th>\n",
       "      <th>total_vaccs</th>\n",
       "      <th>ppl_vaccd</th>\n",
       "      <th>ppl_fully_vaccd_per_100</th>\n",
       "      <th>total_vaccs_per_100</th>\n",
       "      <th>ppl_fully_vaccd</th>\n",
       "      <th>daily_vaccs</th>\n",
       "      <th>daily_vaccs_per_million</th>\n",
       "    </tr>\n",
       "  </thead>\n",
       "  <tbody>\n",
       "    <tr>\n",
       "      <th>408</th>\n",
       "      <td>American Samoa</td>\n",
       "      <td>12259.0</td>\n",
       "      <td>9779.0</td>\n",
       "      <td>4.45</td>\n",
       "      <td>22.01</td>\n",
       "      <td>2478.0</td>\n",
       "      <td>333.0</td>\n",
       "      <td>5980.0</td>\n",
       "    </tr>\n",
       "    <tr>\n",
       "      <th>415</th>\n",
       "      <td>American Samoa</td>\n",
       "      <td>15382.0</td>\n",
       "      <td>10062.0</td>\n",
       "      <td>9.53</td>\n",
       "      <td>27.62</td>\n",
       "      <td>5308.0</td>\n",
       "      <td>446.0</td>\n",
       "      <td>8009.0</td>\n",
       "    </tr>\n",
       "    <tr>\n",
       "      <th>426</th>\n",
       "      <td>American Samoa</td>\n",
       "      <td>19739.0</td>\n",
       "      <td>11814.0</td>\n",
       "      <td>14.40</td>\n",
       "      <td>35.45</td>\n",
       "      <td>8020.0</td>\n",
       "      <td>496.0</td>\n",
       "      <td>8907.0</td>\n",
       "    </tr>\n",
       "    <tr>\n",
       "      <th>435</th>\n",
       "      <td>American Samoa</td>\n",
       "      <td>21625.0</td>\n",
       "      <td>13468.0</td>\n",
       "      <td>14.82</td>\n",
       "      <td>38.83</td>\n",
       "      <td>8252.0</td>\n",
       "      <td>184.0</td>\n",
       "      <td>3304.0</td>\n",
       "    </tr>\n",
       "    <tr>\n",
       "      <th>441</th>\n",
       "      <td>American Samoa</td>\n",
       "      <td>23696.0</td>\n",
       "      <td>15085.0</td>\n",
       "      <td>15.63</td>\n",
       "      <td>42.55</td>\n",
       "      <td>8706.0</td>\n",
       "      <td>296.0</td>\n",
       "      <td>5315.0</td>\n",
       "    </tr>\n",
       "    <tr>\n",
       "      <th>...</th>\n",
       "      <td>...</td>\n",
       "      <td>...</td>\n",
       "      <td>...</td>\n",
       "      <td>...</td>\n",
       "      <td>...</td>\n",
       "      <td>...</td>\n",
       "      <td>...</td>\n",
       "      <td>...</td>\n",
       "    </tr>\n",
       "    <tr>\n",
       "      <th>10752</th>\n",
       "      <td>Utah</td>\n",
       "      <td>510267.0</td>\n",
       "      <td>307059.0</td>\n",
       "      <td>3.30</td>\n",
       "      <td>15.92</td>\n",
       "      <td>105704.0</td>\n",
       "      <td>15712.0</td>\n",
       "      <td>4901.0</td>\n",
       "    </tr>\n",
       "    <tr>\n",
       "      <th>10755</th>\n",
       "      <td>Utah</td>\n",
       "      <td>532635.0</td>\n",
       "      <td>314844.0</td>\n",
       "      <td>3.68</td>\n",
       "      <td>16.61</td>\n",
       "      <td>118086.0</td>\n",
       "      <td>3195.0</td>\n",
       "      <td>997.0</td>\n",
       "    </tr>\n",
       "    <tr>\n",
       "      <th>12263</th>\n",
       "      <td>Wyoming</td>\n",
       "      <td>43425.0</td>\n",
       "      <td>37963.0</td>\n",
       "      <td>0.94</td>\n",
       "      <td>7.50</td>\n",
       "      <td>5419.0</td>\n",
       "      <td>2017.0</td>\n",
       "      <td>3485.0</td>\n",
       "    </tr>\n",
       "    <tr>\n",
       "      <th>12270</th>\n",
       "      <td>Wyoming</td>\n",
       "      <td>60775.0</td>\n",
       "      <td>49361.0</td>\n",
       "      <td>1.81</td>\n",
       "      <td>10.50</td>\n",
       "      <td>10495.0</td>\n",
       "      <td>2479.0</td>\n",
       "      <td>4283.0</td>\n",
       "    </tr>\n",
       "    <tr>\n",
       "      <th>12277</th>\n",
       "      <td>Wyoming</td>\n",
       "      <td>79515.0</td>\n",
       "      <td>61170.0</td>\n",
       "      <td>3.14</td>\n",
       "      <td>13.74</td>\n",
       "      <td>18180.0</td>\n",
       "      <td>2677.0</td>\n",
       "      <td>4625.0</td>\n",
       "    </tr>\n",
       "  </tbody>\n",
       "</table>\n",
       "<p>143 rows × 8 columns</p>\n",
       "</div>"
      ],
      "text/plain": [
       "           STATE_NAME  total_vaccs  ppl_vaccd  ppl_fully_vaccd_per_100  \\\n",
       "408    American Samoa      12259.0     9779.0                     4.45   \n",
       "415    American Samoa      15382.0    10062.0                     9.53   \n",
       "426    American Samoa      19739.0    11814.0                    14.40   \n",
       "435    American Samoa      21625.0    13468.0                    14.82   \n",
       "441    American Samoa      23696.0    15085.0                    15.63   \n",
       "...               ...          ...        ...                      ...   \n",
       "10752            Utah     510267.0   307059.0                     3.30   \n",
       "10755            Utah     532635.0   314844.0                     3.68   \n",
       "12263         Wyoming      43425.0    37963.0                     0.94   \n",
       "12270         Wyoming      60775.0    49361.0                     1.81   \n",
       "12277         Wyoming      79515.0    61170.0                     3.14   \n",
       "\n",
       "       total_vaccs_per_100  ppl_fully_vaccd  daily_vaccs  \\\n",
       "408                  22.01           2478.0        333.0   \n",
       "415                  27.62           5308.0        446.0   \n",
       "426                  35.45           8020.0        496.0   \n",
       "435                  38.83           8252.0        184.0   \n",
       "441                  42.55           8706.0        296.0   \n",
       "...                    ...              ...          ...   \n",
       "10752                15.92         105704.0      15712.0   \n",
       "10755                16.61         118086.0       3195.0   \n",
       "12263                 7.50           5419.0       2017.0   \n",
       "12270                10.50          10495.0       2479.0   \n",
       "12277                13.74          18180.0       2677.0   \n",
       "\n",
       "       daily_vaccs_per_million  \n",
       "408                     5980.0  \n",
       "415                     8009.0  \n",
       "426                     8907.0  \n",
       "435                     3304.0  \n",
       "441                     5315.0  \n",
       "...                        ...  \n",
       "10752                   4901.0  \n",
       "10755                    997.0  \n",
       "12263                   3485.0  \n",
       "12270                   4283.0  \n",
       "12277                   4625.0  \n",
       "\n",
       "[143 rows x 8 columns]"
      ]
     },
     "execution_count": 40,
     "metadata": {},
     "output_type": "execute_result"
    }
   ],
   "source": [
    "df_dups"
   ]
  },
  {
   "cell_type": "markdown",
   "metadata": {},
   "source": [
    "### Duplicates are present in the dataset.\n",
    "\n",
    "### Creating a new subset which will have no duplicates."
   ]
  },
  {
   "cell_type": "code",
   "execution_count": 41,
   "metadata": {},
   "outputs": [],
   "source": [
    "subset_vaccs_usa_nodups = subset_vaccs_usa.drop_duplicates()\n",
    "\n",
    "# Creating a new subset 'subset_vaccs_usa_nodups' whihc will have no duplicate data"
   ]
  },
  {
   "cell_type": "code",
   "execution_count": 43,
   "metadata": {},
   "outputs": [],
   "source": [
    "df_dups_1 = subset_vaccs_usa_nodups[subset_vaccs_usa_nodups.duplicated()]\n",
    "\n",
    "# Checking if the new subset created has anymore duplicates"
   ]
  },
  {
   "cell_type": "code",
   "execution_count": 44,
   "metadata": {},
   "outputs": [
    {
     "data": {
      "text/html": [
       "<div>\n",
       "<style scoped>\n",
       "    .dataframe tbody tr th:only-of-type {\n",
       "        vertical-align: middle;\n",
       "    }\n",
       "\n",
       "    .dataframe tbody tr th {\n",
       "        vertical-align: top;\n",
       "    }\n",
       "\n",
       "    .dataframe thead th {\n",
       "        text-align: right;\n",
       "    }\n",
       "</style>\n",
       "<table border=\"1\" class=\"dataframe\">\n",
       "  <thead>\n",
       "    <tr style=\"text-align: right;\">\n",
       "      <th></th>\n",
       "      <th>STATE_NAME</th>\n",
       "      <th>total_vaccs</th>\n",
       "      <th>ppl_vaccd</th>\n",
       "      <th>ppl_fully_vaccd_per_100</th>\n",
       "      <th>total_vaccs_per_100</th>\n",
       "      <th>ppl_fully_vaccd</th>\n",
       "      <th>daily_vaccs</th>\n",
       "      <th>daily_vaccs_per_million</th>\n",
       "    </tr>\n",
       "  </thead>\n",
       "  <tbody>\n",
       "  </tbody>\n",
       "</table>\n",
       "</div>"
      ],
      "text/plain": [
       "Empty DataFrame\n",
       "Columns: [STATE_NAME, total_vaccs, ppl_vaccd, ppl_fully_vaccd_per_100, total_vaccs_per_100, ppl_fully_vaccd, daily_vaccs, daily_vaccs_per_million]\n",
       "Index: []"
      ]
     },
     "execution_count": 44,
     "metadata": {},
     "output_type": "execute_result"
    }
   ],
   "source": [
    "df_dups_1"
   ]
  },
  {
   "cell_type": "code",
   "execution_count": 45,
   "metadata": {},
   "outputs": [
    {
     "data": {
      "text/plain": [
       "(12295, 8)"
      ]
     },
     "execution_count": 45,
     "metadata": {},
     "output_type": "execute_result"
    }
   ],
   "source": [
    "subset_vaccs_usa_nodups.shape"
   ]
  },
  {
   "cell_type": "code",
   "execution_count": 50,
   "metadata": {},
   "outputs": [
    {
     "data": {
      "text/plain": [
       "(51, 4)"
      ]
     },
     "execution_count": 50,
     "metadata": {},
     "output_type": "execute_result"
    }
   ],
   "source": [
    "usa.shape"
   ]
  },
  {
   "cell_type": "markdown",
   "metadata": {},
   "source": [
    "# Task 6 - Merge both datasets into a single GeoDataFrame"
   ]
  },
  {
   "cell_type": "code",
   "execution_count": 47,
   "metadata": {},
   "outputs": [],
   "source": [
    "usa_vaccs_merge = usa.merge(subset_vaccs_usa_nodups, on = 'STATE_NAME', how = 'outer', indicator = True)"
   ]
  },
  {
   "cell_type": "code",
   "execution_count": 48,
   "metadata": {},
   "outputs": [
    {
     "data": {
      "text/plain": [
       "geopandas.geodataframe.GeoDataFrame"
      ]
     },
     "execution_count": 48,
     "metadata": {},
     "output_type": "execute_result"
    }
   ],
   "source": [
    "type(usa_vaccs_merge)"
   ]
  },
  {
   "cell_type": "code",
   "execution_count": 49,
   "metadata": {},
   "outputs": [
    {
     "data": {
      "text/plain": [
       "(12296, 12)"
      ]
     },
     "execution_count": 49,
     "metadata": {},
     "output_type": "execute_result"
    }
   ],
   "source": [
    "usa_vaccs_merge.shape"
   ]
  },
  {
   "cell_type": "code",
   "execution_count": 52,
   "metadata": {},
   "outputs": [
    {
     "data": {
      "text/html": [
       "<div>\n",
       "<style scoped>\n",
       "    .dataframe tbody tr th:only-of-type {\n",
       "        vertical-align: middle;\n",
       "    }\n",
       "\n",
       "    .dataframe tbody tr th {\n",
       "        vertical-align: top;\n",
       "    }\n",
       "\n",
       "    .dataframe thead th {\n",
       "        text-align: right;\n",
       "    }\n",
       "</style>\n",
       "<table border=\"1\" class=\"dataframe\">\n",
       "  <thead>\n",
       "    <tr style=\"text-align: right;\">\n",
       "      <th></th>\n",
       "      <th>STATE_NAME</th>\n",
       "      <th>STATE_FIPS</th>\n",
       "      <th>STATE_ABBR</th>\n",
       "      <th>geometry</th>\n",
       "      <th>total_vaccs</th>\n",
       "      <th>ppl_vaccd</th>\n",
       "      <th>ppl_fully_vaccd_per_100</th>\n",
       "      <th>total_vaccs_per_100</th>\n",
       "      <th>ppl_fully_vaccd</th>\n",
       "      <th>daily_vaccs</th>\n",
       "      <th>daily_vaccs_per_million</th>\n",
       "      <th>_merge</th>\n",
       "    </tr>\n",
       "  </thead>\n",
       "  <tbody>\n",
       "    <tr>\n",
       "      <th>0</th>\n",
       "      <td>Washington</td>\n",
       "      <td>53</td>\n",
       "      <td>WA</td>\n",
       "      <td>MULTIPOLYGON (((-122.40202 48.22522, -122.4628...</td>\n",
       "      <td>195567.0</td>\n",
       "      <td>162105.0</td>\n",
       "      <td>0.23</td>\n",
       "      <td>2.57</td>\n",
       "      <td>17689.0</td>\n",
       "      <td>55430.52</td>\n",
       "      <td>5088.45</td>\n",
       "      <td>both</td>\n",
       "    </tr>\n",
       "    <tr>\n",
       "      <th>1</th>\n",
       "      <td>Washington</td>\n",
       "      <td>53</td>\n",
       "      <td>WA</td>\n",
       "      <td>MULTIPOLYGON (((-122.40202 48.22522, -122.4628...</td>\n",
       "      <td>208238.0</td>\n",
       "      <td>169650.0</td>\n",
       "      <td>0.30</td>\n",
       "      <td>2.73</td>\n",
       "      <td>22625.0</td>\n",
       "      <td>12671.00</td>\n",
       "      <td>1664.00</td>\n",
       "      <td>both</td>\n",
       "    </tr>\n",
       "    <tr>\n",
       "      <th>2</th>\n",
       "      <td>Washington</td>\n",
       "      <td>53</td>\n",
       "      <td>WA</td>\n",
       "      <td>MULTIPOLYGON (((-122.40202 48.22522, -122.4628...</td>\n",
       "      <td>225238.0</td>\n",
       "      <td>187450.0</td>\n",
       "      <td>24.94</td>\n",
       "      <td>2.96</td>\n",
       "      <td>2628000.0</td>\n",
       "      <td>14836.00</td>\n",
       "      <td>1948.00</td>\n",
       "      <td>both</td>\n",
       "    </tr>\n",
       "    <tr>\n",
       "      <th>3</th>\n",
       "      <td>Washington</td>\n",
       "      <td>53</td>\n",
       "      <td>WA</td>\n",
       "      <td>MULTIPOLYGON (((-122.40202 48.22522, -122.4628...</td>\n",
       "      <td>242606.0</td>\n",
       "      <td>200682.0</td>\n",
       "      <td>0.41</td>\n",
       "      <td>3.19</td>\n",
       "      <td>31581.0</td>\n",
       "      <td>15680.00</td>\n",
       "      <td>2059.00</td>\n",
       "      <td>both</td>\n",
       "    </tr>\n",
       "    <tr>\n",
       "      <th>4</th>\n",
       "      <td>Washington</td>\n",
       "      <td>53</td>\n",
       "      <td>WA</td>\n",
       "      <td>MULTIPOLYGON (((-122.40202 48.22522, -122.4628...</td>\n",
       "      <td>6080481.0</td>\n",
       "      <td>3591637.0</td>\n",
       "      <td>24.94</td>\n",
       "      <td>57.14</td>\n",
       "      <td>2628000.0</td>\n",
       "      <td>16672.00</td>\n",
       "      <td>2189.00</td>\n",
       "      <td>both</td>\n",
       "    </tr>\n",
       "  </tbody>\n",
       "</table>\n",
       "</div>"
      ],
      "text/plain": [
       "   STATE_NAME STATE_FIPS STATE_ABBR  \\\n",
       "0  Washington         53         WA   \n",
       "1  Washington         53         WA   \n",
       "2  Washington         53         WA   \n",
       "3  Washington         53         WA   \n",
       "4  Washington         53         WA   \n",
       "\n",
       "                                            geometry  total_vaccs  ppl_vaccd  \\\n",
       "0  MULTIPOLYGON (((-122.40202 48.22522, -122.4628...     195567.0   162105.0   \n",
       "1  MULTIPOLYGON (((-122.40202 48.22522, -122.4628...     208238.0   169650.0   \n",
       "2  MULTIPOLYGON (((-122.40202 48.22522, -122.4628...     225238.0   187450.0   \n",
       "3  MULTIPOLYGON (((-122.40202 48.22522, -122.4628...     242606.0   200682.0   \n",
       "4  MULTIPOLYGON (((-122.40202 48.22522, -122.4628...    6080481.0  3591637.0   \n",
       "\n",
       "   ppl_fully_vaccd_per_100  total_vaccs_per_100  ppl_fully_vaccd  daily_vaccs  \\\n",
       "0                     0.23                 2.57          17689.0     55430.52   \n",
       "1                     0.30                 2.73          22625.0     12671.00   \n",
       "2                    24.94                 2.96        2628000.0     14836.00   \n",
       "3                     0.41                 3.19          31581.0     15680.00   \n",
       "4                    24.94                57.14        2628000.0     16672.00   \n",
       "\n",
       "   daily_vaccs_per_million _merge  \n",
       "0                  5088.45   both  \n",
       "1                  1664.00   both  \n",
       "2                  1948.00   both  \n",
       "3                  2059.00   both  \n",
       "4                  2189.00   both  "
      ]
     },
     "execution_count": 52,
     "metadata": {},
     "output_type": "execute_result"
    }
   ],
   "source": [
    "usa_vaccs_merge.head()"
   ]
  },
  {
   "cell_type": "markdown",
   "metadata": {},
   "source": [
    "# Task 7 - Cleaning the newly created GeoDataFrame"
   ]
  },
  {
   "cell_type": "markdown",
   "metadata": {},
   "source": [
    "### Checking for Missing Values in the newly merged dataset"
   ]
  },
  {
   "cell_type": "code",
   "execution_count": 53,
   "metadata": {},
   "outputs": [
    {
     "data": {
      "text/plain": [
       "both          9536\n",
       "right_only    2759\n",
       "left_only        1\n",
       "Name: _merge, dtype: int64"
      ]
     },
     "execution_count": 53,
     "metadata": {},
     "output_type": "execute_result"
    }
   ],
   "source": [
    "usa_vaccs_merge['_merge'].value_counts()\n",
    "\n",
    "# Checking the match count after merging both datasets"
   ]
  },
  {
   "cell_type": "code",
   "execution_count": 54,
   "metadata": {},
   "outputs": [
    {
     "data": {
      "text/plain": [
       "STATE_NAME                    0\n",
       "STATE_FIPS                 2759\n",
       "STATE_ABBR                 2759\n",
       "geometry                   2759\n",
       "total_vaccs                   1\n",
       "ppl_vaccd                     1\n",
       "ppl_fully_vaccd_per_100       1\n",
       "total_vaccs_per_100           1\n",
       "ppl_fully_vaccd               1\n",
       "daily_vaccs                   1\n",
       "daily_vaccs_per_million       1\n",
       "_merge                        0\n",
       "dtype: int64"
      ]
     },
     "execution_count": 54,
     "metadata": {},
     "output_type": "execute_result"
    }
   ],
   "source": [
    "# checking for missing values\n",
    "\n",
    "usa_vaccs_merge.isnull().sum()"
   ]
  },
  {
   "cell_type": "code",
   "execution_count": 60,
   "metadata": {},
   "outputs": [],
   "source": [
    "# Removing the 2759 observations that do not have data in the columns 'STATE_FIPS', 'STATE_ABBR' and 'geometry'\n",
    "\n",
    "# Removing data in one column will remove the data in the other 2 columns too\n",
    "\n",
    "# Some of the location data present in the shapefile includes places like 'Bureau of Prisons', 'Dept of Defense' and so on\n",
    "\n",
    "usa_merge_clean = usa_vaccs_merge[usa_vaccs_merge['STATE_FIPS'].isnull() == False]"
   ]
  },
  {
   "cell_type": "code",
   "execution_count": 61,
   "metadata": {},
   "outputs": [
    {
     "data": {
      "text/plain": [
       "STATE_NAME                 0\n",
       "STATE_FIPS                 0\n",
       "STATE_ABBR                 0\n",
       "geometry                   0\n",
       "total_vaccs                1\n",
       "ppl_vaccd                  1\n",
       "ppl_fully_vaccd_per_100    1\n",
       "total_vaccs_per_100        1\n",
       "ppl_fully_vaccd            1\n",
       "daily_vaccs                1\n",
       "daily_vaccs_per_million    1\n",
       "_merge                     0\n",
       "dtype: int64"
      ]
     },
     "execution_count": 61,
     "metadata": {},
     "output_type": "execute_result"
    }
   ],
   "source": [
    "usa_merge_clean.isnull().sum()\n",
    "\n",
    "# checking for more missing values in the dataset"
   ]
  },
  {
   "cell_type": "code",
   "execution_count": 62,
   "metadata": {},
   "outputs": [],
   "source": [
    "usa_merge_clean_1 = usa_merge_clean[usa_merge_clean['total_vaccs'].isnull() == False]\n",
    "\n",
    "# Removed one row of missing values from the column 'total vaccinations - total_vaccs'"
   ]
  },
  {
   "cell_type": "code",
   "execution_count": 63,
   "metadata": {},
   "outputs": [
    {
     "data": {
      "text/plain": [
       "STATE_NAME                 0\n",
       "STATE_FIPS                 0\n",
       "STATE_ABBR                 0\n",
       "geometry                   0\n",
       "total_vaccs                0\n",
       "ppl_vaccd                  0\n",
       "ppl_fully_vaccd_per_100    0\n",
       "total_vaccs_per_100        0\n",
       "ppl_fully_vaccd            0\n",
       "daily_vaccs                0\n",
       "daily_vaccs_per_million    0\n",
       "_merge                     0\n",
       "dtype: int64"
      ]
     },
     "execution_count": 63,
     "metadata": {},
     "output_type": "execute_result"
    }
   ],
   "source": [
    "usa_merge_clean_1.isnull().sum()"
   ]
  },
  {
   "cell_type": "code",
   "execution_count": 64,
   "metadata": {},
   "outputs": [
    {
     "data": {
      "text/plain": [
       "both          9536\n",
       "left_only        0\n",
       "right_only       0\n",
       "Name: _merge, dtype: int64"
      ]
     },
     "execution_count": 64,
     "metadata": {},
     "output_type": "execute_result"
    }
   ],
   "source": [
    "usa_merge_clean_1['_merge'].value_counts()"
   ]
  },
  {
   "cell_type": "markdown",
   "metadata": {},
   "source": [
    "### Duplicates Check"
   ]
  },
  {
   "cell_type": "code",
   "execution_count": 67,
   "metadata": {},
   "outputs": [],
   "source": [
    "df_dups_check = usa_merge_clean_1[usa_merge_clean_1.duplicated()]\n",
    "\n",
    "# Check for duplicates in the GeoDataframe"
   ]
  },
  {
   "cell_type": "code",
   "execution_count": 68,
   "metadata": {},
   "outputs": [
    {
     "data": {
      "text/html": [
       "<div>\n",
       "<style scoped>\n",
       "    .dataframe tbody tr th:only-of-type {\n",
       "        vertical-align: middle;\n",
       "    }\n",
       "\n",
       "    .dataframe tbody tr th {\n",
       "        vertical-align: top;\n",
       "    }\n",
       "\n",
       "    .dataframe thead th {\n",
       "        text-align: right;\n",
       "    }\n",
       "</style>\n",
       "<table border=\"1\" class=\"dataframe\">\n",
       "  <thead>\n",
       "    <tr style=\"text-align: right;\">\n",
       "      <th></th>\n",
       "      <th>STATE_NAME</th>\n",
       "      <th>STATE_FIPS</th>\n",
       "      <th>STATE_ABBR</th>\n",
       "      <th>geometry</th>\n",
       "      <th>total_vaccs</th>\n",
       "      <th>ppl_vaccd</th>\n",
       "      <th>ppl_fully_vaccd_per_100</th>\n",
       "      <th>total_vaccs_per_100</th>\n",
       "      <th>ppl_fully_vaccd</th>\n",
       "      <th>daily_vaccs</th>\n",
       "      <th>daily_vaccs_per_million</th>\n",
       "      <th>_merge</th>\n",
       "    </tr>\n",
       "  </thead>\n",
       "  <tbody>\n",
       "  </tbody>\n",
       "</table>\n",
       "</div>"
      ],
      "text/plain": [
       "Empty GeoDataFrame\n",
       "Columns: [STATE_NAME, STATE_FIPS, STATE_ABBR, geometry, total_vaccs, ppl_vaccd, ppl_fully_vaccd_per_100, total_vaccs_per_100, ppl_fully_vaccd, daily_vaccs, daily_vaccs_per_million, _merge]\n",
       "Index: []"
      ]
     },
     "execution_count": 68,
     "metadata": {},
     "output_type": "execute_result"
    }
   ],
   "source": [
    "df_dups_check\n",
    "\n",
    "# No duplicates present"
   ]
  },
  {
   "cell_type": "markdown",
   "metadata": {},
   "source": [
    "### Extreme Values Check"
   ]
  },
  {
   "cell_type": "code",
   "execution_count": 71,
   "metadata": {},
   "outputs": [
    {
     "name": "stderr",
     "output_type": "stream",
     "text": [
      "C:\\Users\\LENOVO\\anaconda3\\envs\\env\\lib\\site-packages\\seaborn\\distributions.py:2557: FutureWarning: `distplot` is a deprecated function and will be removed in a future version. Please adapt your code to use either `displot` (a figure-level function with similar flexibility) or `histplot` (an axes-level function for histograms).\n",
      "  warnings.warn(msg, FutureWarning)\n"
     ]
    },
    {
     "data": {
      "text/plain": [
       "<AxesSubplot:xlabel='ppl_fully_vaccd_per_100', ylabel='Density'>"
      ]
     },
     "execution_count": 71,
     "metadata": {},
     "output_type": "execute_result"
    },
    {
     "data": {
      "image/png": "[encoded data removed]",
      "text/plain": [
       "<Figure size 432x288 with 1 Axes>"
      ]
     },
     "metadata": {
      "needs_background": "light"
     },
     "output_type": "display_data"
    }
   ],
   "source": [
    "sns.distplot(usa_merge_clean_1['ppl_fully_vaccd_per_100'], bins=30) \n",
    "\n",
    "# Shows extreme values for \"ppl_fully_vaccinated\""
   ]
  },
  {
   "cell_type": "markdown",
   "metadata": {},
   "source": [
    "# Task 8 - Creating a Choropleth Map"
   ]
  },
  {
   "cell_type": "markdown",
   "metadata": {},
   "source": [
    "### Saving the GeoDataFrame"
   ]
  },
  {
   "cell_type": "code",
   "execution_count": 72,
   "metadata": {},
   "outputs": [
    {
     "name": "stderr",
     "output_type": "stream",
     "text": [
      "C:\\Users\\LENOVO\\anaconda3\\envs\\env\\lib\\site-packages\\pandas\\core\\frame.py:4901: SettingWithCopyWarning: \n",
      "A value is trying to be set on a copy of a slice from a DataFrame\n",
      "\n",
      "See the caveats in the documentation: https://pandas.pydata.org/pandas-docs/stable/user_guide/indexing.html#returning-a-view-versus-a-copy\n",
      "  return super().drop(\n"
     ]
    }
   ],
   "source": [
    "usa_merge_clean_1.drop(columns =\"_merge\", inplace = True) "
   ]
  },
  {
   "cell_type": "code",
   "execution_count": 73,
   "metadata": {},
   "outputs": [
    {
     "data": {
      "text/html": [
       "<div>\n",
       "<style scoped>\n",
       "    .dataframe tbody tr th:only-of-type {\n",
       "        vertical-align: middle;\n",
       "    }\n",
       "\n",
       "    .dataframe tbody tr th {\n",
       "        vertical-align: top;\n",
       "    }\n",
       "\n",
       "    .dataframe thead th {\n",
       "        text-align: right;\n",
       "    }\n",
       "</style>\n",
       "<table border=\"1\" class=\"dataframe\">\n",
       "  <thead>\n",
       "    <tr style=\"text-align: right;\">\n",
       "      <th></th>\n",
       "      <th>STATE_NAME</th>\n",
       "      <th>STATE_FIPS</th>\n",
       "      <th>STATE_ABBR</th>\n",
       "      <th>geometry</th>\n",
       "      <th>total_vaccs</th>\n",
       "      <th>ppl_vaccd</th>\n",
       "      <th>ppl_fully_vaccd_per_100</th>\n",
       "      <th>total_vaccs_per_100</th>\n",
       "      <th>ppl_fully_vaccd</th>\n",
       "      <th>daily_vaccs</th>\n",
       "      <th>daily_vaccs_per_million</th>\n",
       "    </tr>\n",
       "  </thead>\n",
       "  <tbody>\n",
       "    <tr>\n",
       "      <th>0</th>\n",
       "      <td>Washington</td>\n",
       "      <td>53</td>\n",
       "      <td>WA</td>\n",
       "      <td>MULTIPOLYGON (((-122.40202 48.22522, -122.4628...</td>\n",
       "      <td>195567.0</td>\n",
       "      <td>162105.0</td>\n",
       "      <td>0.23</td>\n",
       "      <td>2.57</td>\n",
       "      <td>17689.0</td>\n",
       "      <td>55430.52</td>\n",
       "      <td>5088.45</td>\n",
       "    </tr>\n",
       "    <tr>\n",
       "      <th>1</th>\n",
       "      <td>Washington</td>\n",
       "      <td>53</td>\n",
       "      <td>WA</td>\n",
       "      <td>MULTIPOLYGON (((-122.40202 48.22522, -122.4628...</td>\n",
       "      <td>208238.0</td>\n",
       "      <td>169650.0</td>\n",
       "      <td>0.30</td>\n",
       "      <td>2.73</td>\n",
       "      <td>22625.0</td>\n",
       "      <td>12671.00</td>\n",
       "      <td>1664.00</td>\n",
       "    </tr>\n",
       "    <tr>\n",
       "      <th>2</th>\n",
       "      <td>Washington</td>\n",
       "      <td>53</td>\n",
       "      <td>WA</td>\n",
       "      <td>MULTIPOLYGON (((-122.40202 48.22522, -122.4628...</td>\n",
       "      <td>225238.0</td>\n",
       "      <td>187450.0</td>\n",
       "      <td>24.94</td>\n",
       "      <td>2.96</td>\n",
       "      <td>2628000.0</td>\n",
       "      <td>14836.00</td>\n",
       "      <td>1948.00</td>\n",
       "    </tr>\n",
       "    <tr>\n",
       "      <th>3</th>\n",
       "      <td>Washington</td>\n",
       "      <td>53</td>\n",
       "      <td>WA</td>\n",
       "      <td>MULTIPOLYGON (((-122.40202 48.22522, -122.4628...</td>\n",
       "      <td>242606.0</td>\n",
       "      <td>200682.0</td>\n",
       "      <td>0.41</td>\n",
       "      <td>3.19</td>\n",
       "      <td>31581.0</td>\n",
       "      <td>15680.00</td>\n",
       "      <td>2059.00</td>\n",
       "    </tr>\n",
       "    <tr>\n",
       "      <th>4</th>\n",
       "      <td>Washington</td>\n",
       "      <td>53</td>\n",
       "      <td>WA</td>\n",
       "      <td>MULTIPOLYGON (((-122.40202 48.22522, -122.4628...</td>\n",
       "      <td>6080481.0</td>\n",
       "      <td>3591637.0</td>\n",
       "      <td>24.94</td>\n",
       "      <td>57.14</td>\n",
       "      <td>2628000.0</td>\n",
       "      <td>16672.00</td>\n",
       "      <td>2189.00</td>\n",
       "    </tr>\n",
       "  </tbody>\n",
       "</table>\n",
       "</div>"
      ],
      "text/plain": [
       "   STATE_NAME STATE_FIPS STATE_ABBR  \\\n",
       "0  Washington         53         WA   \n",
       "1  Washington         53         WA   \n",
       "2  Washington         53         WA   \n",
       "3  Washington         53         WA   \n",
       "4  Washington         53         WA   \n",
       "\n",
       "                                            geometry  total_vaccs  ppl_vaccd  \\\n",
       "0  MULTIPOLYGON (((-122.40202 48.22522, -122.4628...     195567.0   162105.0   \n",
       "1  MULTIPOLYGON (((-122.40202 48.22522, -122.4628...     208238.0   169650.0   \n",
       "2  MULTIPOLYGON (((-122.40202 48.22522, -122.4628...     225238.0   187450.0   \n",
       "3  MULTIPOLYGON (((-122.40202 48.22522, -122.4628...     242606.0   200682.0   \n",
       "4  MULTIPOLYGON (((-122.40202 48.22522, -122.4628...    6080481.0  3591637.0   \n",
       "\n",
       "   ppl_fully_vaccd_per_100  total_vaccs_per_100  ppl_fully_vaccd  daily_vaccs  \\\n",
       "0                     0.23                 2.57          17689.0     55430.52   \n",
       "1                     0.30                 2.73          22625.0     12671.00   \n",
       "2                    24.94                 2.96        2628000.0     14836.00   \n",
       "3                     0.41                 3.19          31581.0     15680.00   \n",
       "4                    24.94                57.14        2628000.0     16672.00   \n",
       "\n",
       "   daily_vaccs_per_million  \n",
       "0                  5088.45  \n",
       "1                  1664.00  \n",
       "2                  1948.00  \n",
       "3                  2059.00  \n",
       "4                  2189.00  "
      ]
     },
     "execution_count": 73,
     "metadata": {},
     "output_type": "execute_result"
    }
   ],
   "source": [
    "usa_merge_clean_1.head()"
   ]
  },
  {
   "cell_type": "code",
   "execution_count": 74,
   "metadata": {},
   "outputs": [
    {
     "name": "stderr",
     "output_type": "stream",
     "text": [
      "<ipython-input-74-00e0cec4cbc9>:2: UserWarning: Column names longer than 10 characters will be truncated when saved to ESRI Shapefile.\n",
      "  usa_merge_clean_1.to_file(out)\n"
     ]
    }
   ],
   "source": [
    "out = r\"C:\\Users\\LENOVO\\Desktop\\CF - Data Analytics\\Achievement 7\\Achievement 7 - PYTHON\\02 Data\\Prepared Data\\People_Vaccinated.shp\"\n",
    "usa_merge_clean_1.to_file(out)"
   ]
  },
  {
   "cell_type": "markdown",
   "metadata": {},
   "source": [
    "### Creating a Choropleth Map"
   ]
  },
  {
   "cell_type": "code",
   "execution_count": 75,
   "metadata": {},
   "outputs": [
    {
     "data": {
      "image/png": "[encoded data removed]",
      "text/plain": [
       "<Figure size 1080x1080 with 1 Axes>"
      ]
     },
     "metadata": {
      "needs_background": "light"
     },
     "output_type": "display_data"
    }
   ],
   "source": [
    "gp = geoplot.choropleth(\n",
    "    usa_merge_clean_1, hue = usa_merge_clean_1['ppl_fully_vaccd_per_100'], scheme = None,\n",
    "    cmap='Reds', figsize=(15, 15)\n",
    ")"
   ]
  },
  {
   "cell_type": "markdown",
   "metadata": {},
   "source": [
    "# Task 9 - Hypothesis"
   ]
  },
  {
   "cell_type": "markdown",
   "metadata": {},
   "source": [
    "### If the number of vaccinations per day is increased, then the number of people who are fully vaccinated per 100 will also increase"
   ]
  }
 ],
 "metadata": {
  "kernelspec": {
   "display_name": "Python 3",
   "language": "python",
   "name": "python3"
  },
  "language_info": {
   "codemirror_mode": {
    "name": "ipython",
    "version": 3
   },
   "file_extension": ".py",
   "mimetype": "text/x-python",
   "name": "python",
   "nbconvert_exporter": "python",
   "pygments_lexer": "ipython3",
   "version": "3.8.5"
  }
 },
 "nbformat": 4,
 "nbformat_minor": 4
}
