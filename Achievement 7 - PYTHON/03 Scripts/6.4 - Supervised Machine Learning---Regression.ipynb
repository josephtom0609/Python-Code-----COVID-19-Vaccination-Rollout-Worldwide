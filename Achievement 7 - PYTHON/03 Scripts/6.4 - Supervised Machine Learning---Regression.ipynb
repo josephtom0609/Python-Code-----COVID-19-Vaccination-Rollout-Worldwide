{
 "cells": [
  {
   "cell_type": "markdown",
   "metadata": {},
   "source": [
    "# Task 1 - scikit-learn library was installed"
   ]
  },
  {
   "cell_type": "code",
   "execution_count": null,
   "metadata": {},
   "outputs": [],
   "source": [
    "# ran the following command in the PC's terminal \n",
    "\n",
    "python -m pip install scikit-learn"
   ]
  },
  {
   "cell_type": "markdown",
   "metadata": {},
   "source": [
    "# Task 2 - Importing relevant libraries for regression testing and modules from scikit-learn"
   ]
  },
  {
   "cell_type": "code",
   "execution_count": 2,
   "metadata": {},
   "outputs": [],
   "source": [
    "import pandas as pd\n",
    "import numpy as np\n",
    "import seaborn as sns\n",
    "import matplotlib\n",
    "import matplotlib.pyplot as plt\n",
    "import os\n",
    "import sklearn\n",
    "from sklearn.model_selection import train_test_split\n",
    "from sklearn.linear_model import LinearRegression\n",
    "from sklearn.metrics import mean_squared_error, r2_score"
   ]
  },
  {
   "cell_type": "code",
   "execution_count": 3,
   "metadata": {},
   "outputs": [],
   "source": [
    "# This option ensures that the graphs created are displayed within the notebook without the need to \"call\" them specifically.\n",
    "\n",
    "%matplotlib inline"
   ]
  },
  {
   "cell_type": "code",
   "execution_count": 4,
   "metadata": {},
   "outputs": [],
   "source": [
    "# Assigning local folder path of dataset to a variable\n",
    "\n",
    "path=r'C:\\Users\\LENOVO\\Desktop\\CF - Data Analytics\\Achievement 7\\Achievement 7 - PYTHON'"
   ]
  },
  {
   "cell_type": "code",
   "execution_count": 5,
   "metadata": {},
   "outputs": [],
   "source": [
    "# Importing dataset - Country Vaccinations\n",
    "\n",
    "df_vacc_country=pd.read_csv(os.path.join(path, '02 Data', 'Prepared Data', 'country_vaccinations_cleaned.csv'), index_col=False)"
   ]
  },
  {
   "cell_type": "markdown",
   "metadata": {},
   "source": [
    "# Task 3 - Cleaning data for analysis"
   ]
  },
  {
   "cell_type": "code",
   "execution_count": 6,
   "metadata": {},
   "outputs": [
    {
     "data": {
      "text/plain": [
       "Index(['Unnamed: 0', 'country', 'iso_code', 'date', 'total_vaccinations',\n",
       "       'people_vaccinated', 'people_fully_vaccinated', 'daily_vaccinations',\n",
       "       'total_vaccinations_per_hundred', 'people_fully_vaccinated_per_hundred',\n",
       "       'daily_vaccinations_per_million', 'vaccines'],\n",
       "      dtype='object')"
      ]
     },
     "execution_count": 6,
     "metadata": {},
     "output_type": "execute_result"
    }
   ],
   "source": [
    "df_vacc_country.columns"
   ]
  },
  {
   "cell_type": "code",
   "execution_count": 7,
   "metadata": {},
   "outputs": [
    {
     "data": {
      "text/plain": [
       "(29412, 12)"
      ]
     },
     "execution_count": 7,
     "metadata": {},
     "output_type": "execute_result"
    }
   ],
   "source": [
    "df_vacc_country.shape"
   ]
  },
  {
   "cell_type": "code",
   "execution_count": 8,
   "metadata": {},
   "outputs": [],
   "source": [
    "# Renaming long columns names into a shorter one\n",
    "\n",
    "df_vacc_country_1 = df_vacc_country.rename(columns = {'total_vaccinations' : 'total_vaccs', 'people_vaccinated' : 'ppl_vaccd', 'daily_vaccinations' : 'daily_vaccs', 'people_fully_vaccinated' : 'ppl_fully_vaccd', 'total_vaccinations_per_hundred' : 'total_vaccs_per_100', 'people_fully_vaccinated_per_hundred' : 'ppl_fully_vaccd_per_100', 'daily_vaccinations_per_million' : 'daily_vaccs_per_million'})"
   ]
  },
  {
   "cell_type": "code",
   "execution_count": 9,
   "metadata": {},
   "outputs": [
    {
     "data": {
      "text/html": [
       "<div>\n",
       "<style scoped>\n",
       "    .dataframe tbody tr th:only-of-type {\n",
       "        vertical-align: middle;\n",
       "    }\n",
       "\n",
       "    .dataframe tbody tr th {\n",
       "        vertical-align: top;\n",
       "    }\n",
       "\n",
       "    .dataframe thead th {\n",
       "        text-align: right;\n",
       "    }\n",
       "</style>\n",
       "<table border=\"1\" class=\"dataframe\">\n",
       "  <thead>\n",
       "    <tr style=\"text-align: right;\">\n",
       "      <th></th>\n",
       "      <th>Unnamed: 0</th>\n",
       "      <th>country</th>\n",
       "      <th>iso_code</th>\n",
       "      <th>date</th>\n",
       "      <th>total_vaccs</th>\n",
       "      <th>ppl_vaccd</th>\n",
       "      <th>ppl_fully_vaccd</th>\n",
       "      <th>daily_vaccs</th>\n",
       "      <th>total_vaccs_per_100</th>\n",
       "      <th>ppl_fully_vaccd_per_100</th>\n",
       "      <th>daily_vaccs_per_million</th>\n",
       "      <th>vaccines</th>\n",
       "    </tr>\n",
       "  </thead>\n",
       "  <tbody>\n",
       "    <tr>\n",
       "      <th>0</th>\n",
       "      <td>0</td>\n",
       "      <td>Afghanistan</td>\n",
       "      <td>AFG</td>\n",
       "      <td>22/02/2021</td>\n",
       "      <td>0.00</td>\n",
       "      <td>0.00</td>\n",
       "      <td>3041823.96</td>\n",
       "      <td>112209.42</td>\n",
       "      <td>0.00</td>\n",
       "      <td>11.26</td>\n",
       "      <td>3376.55</td>\n",
       "      <td>Oxford/AstraZeneca, Pfizer/BioNTech, Sinopharm...</td>\n",
       "    </tr>\n",
       "    <tr>\n",
       "      <th>1</th>\n",
       "      <td>1</td>\n",
       "      <td>Afghanistan</td>\n",
       "      <td>AFG</td>\n",
       "      <td>23/02/2021</td>\n",
       "      <td>1094522.96</td>\n",
       "      <td>5341596.08</td>\n",
       "      <td>3041823.96</td>\n",
       "      <td>1367.00</td>\n",
       "      <td>27.29</td>\n",
       "      <td>11.26</td>\n",
       "      <td>35.00</td>\n",
       "      <td>Oxford/AstraZeneca, Pfizer/BioNTech, Sinopharm...</td>\n",
       "    </tr>\n",
       "    <tr>\n",
       "      <th>2</th>\n",
       "      <td>2</td>\n",
       "      <td>Afghanistan</td>\n",
       "      <td>AFG</td>\n",
       "      <td>24/02/2021</td>\n",
       "      <td>1094522.96</td>\n",
       "      <td>5341596.08</td>\n",
       "      <td>3041823.96</td>\n",
       "      <td>1367.00</td>\n",
       "      <td>27.29</td>\n",
       "      <td>11.26</td>\n",
       "      <td>35.00</td>\n",
       "      <td>Oxford/AstraZeneca, Pfizer/BioNTech, Sinopharm...</td>\n",
       "    </tr>\n",
       "    <tr>\n",
       "      <th>3</th>\n",
       "      <td>3</td>\n",
       "      <td>Afghanistan</td>\n",
       "      <td>AFG</td>\n",
       "      <td>25/02/2021</td>\n",
       "      <td>1094522.96</td>\n",
       "      <td>5341596.08</td>\n",
       "      <td>3041823.96</td>\n",
       "      <td>1367.00</td>\n",
       "      <td>27.29</td>\n",
       "      <td>11.26</td>\n",
       "      <td>35.00</td>\n",
       "      <td>Oxford/AstraZeneca, Pfizer/BioNTech, Sinopharm...</td>\n",
       "    </tr>\n",
       "    <tr>\n",
       "      <th>4</th>\n",
       "      <td>4</td>\n",
       "      <td>Afghanistan</td>\n",
       "      <td>AFG</td>\n",
       "      <td>26/02/2021</td>\n",
       "      <td>1094522.96</td>\n",
       "      <td>5341596.08</td>\n",
       "      <td>3041823.96</td>\n",
       "      <td>1367.00</td>\n",
       "      <td>27.29</td>\n",
       "      <td>11.26</td>\n",
       "      <td>35.00</td>\n",
       "      <td>Oxford/AstraZeneca, Pfizer/BioNTech, Sinopharm...</td>\n",
       "    </tr>\n",
       "  </tbody>\n",
       "</table>\n",
       "</div>"
      ],
      "text/plain": [
       "   Unnamed: 0      country iso_code        date  total_vaccs   ppl_vaccd  \\\n",
       "0           0  Afghanistan      AFG  22/02/2021         0.00        0.00   \n",
       "1           1  Afghanistan      AFG  23/02/2021   1094522.96  5341596.08   \n",
       "2           2  Afghanistan      AFG  24/02/2021   1094522.96  5341596.08   \n",
       "3           3  Afghanistan      AFG  25/02/2021   1094522.96  5341596.08   \n",
       "4           4  Afghanistan      AFG  26/02/2021   1094522.96  5341596.08   \n",
       "\n",
       "   ppl_fully_vaccd  daily_vaccs  total_vaccs_per_100  ppl_fully_vaccd_per_100  \\\n",
       "0       3041823.96    112209.42                 0.00                    11.26   \n",
       "1       3041823.96      1367.00                27.29                    11.26   \n",
       "2       3041823.96      1367.00                27.29                    11.26   \n",
       "3       3041823.96      1367.00                27.29                    11.26   \n",
       "4       3041823.96      1367.00                27.29                    11.26   \n",
       "\n",
       "   daily_vaccs_per_million                                           vaccines  \n",
       "0                  3376.55  Oxford/AstraZeneca, Pfizer/BioNTech, Sinopharm...  \n",
       "1                    35.00  Oxford/AstraZeneca, Pfizer/BioNTech, Sinopharm...  \n",
       "2                    35.00  Oxford/AstraZeneca, Pfizer/BioNTech, Sinopharm...  \n",
       "3                    35.00  Oxford/AstraZeneca, Pfizer/BioNTech, Sinopharm...  \n",
       "4                    35.00  Oxford/AstraZeneca, Pfizer/BioNTech, Sinopharm...  "
      ]
     },
     "execution_count": 9,
     "metadata": {},
     "output_type": "execute_result"
    }
   ],
   "source": [
    "df_vacc_country_1.head()"
   ]
  },
  {
   "cell_type": "markdown",
   "metadata": {},
   "source": [
    "### Missing Values check"
   ]
  },
  {
   "cell_type": "code",
   "execution_count": 10,
   "metadata": {},
   "outputs": [
    {
     "data": {
      "text/plain": [
       "Unnamed: 0                 0\n",
       "country                    0\n",
       "iso_code                   0\n",
       "date                       0\n",
       "total_vaccs                0\n",
       "ppl_vaccd                  0\n",
       "ppl_fully_vaccd            0\n",
       "daily_vaccs                0\n",
       "total_vaccs_per_100        0\n",
       "ppl_fully_vaccd_per_100    0\n",
       "daily_vaccs_per_million    0\n",
       "vaccines                   0\n",
       "dtype: int64"
      ]
     },
     "execution_count": 10,
     "metadata": {},
     "output_type": "execute_result"
    }
   ],
   "source": [
    "# Check for missing values\n",
    "\n",
    "df_vacc_country_1.isnull().sum()\n",
    "\n",
    "# No missing values to handle"
   ]
  },
  {
   "cell_type": "markdown",
   "metadata": {},
   "source": [
    "### Duplicates check"
   ]
  },
  {
   "cell_type": "code",
   "execution_count": 11,
   "metadata": {},
   "outputs": [],
   "source": [
    "dups = df_vacc_country_1.duplicated()"
   ]
  },
  {
   "cell_type": "code",
   "execution_count": 12,
   "metadata": {},
   "outputs": [
    {
     "data": {
      "text/plain": [
       "(29412,)"
      ]
     },
     "execution_count": 12,
     "metadata": {},
     "output_type": "execute_result"
    }
   ],
   "source": [
    "dups.shape  \n",
    "\n",
    "# NO DUPLICATES found"
   ]
  },
  {
   "cell_type": "markdown",
   "metadata": {},
   "source": [
    "### Extreme Values check"
   ]
  },
  {
   "cell_type": "code",
   "execution_count": 15,
   "metadata": {},
   "outputs": [
    {
     "name": "stderr",
     "output_type": "stream",
     "text": [
      "C:\\Users\\LENOVO\\anaconda3\\lib\\site-packages\\seaborn\\distributions.py:2551: FutureWarning: `distplot` is a deprecated function and will be removed in a future version. Please adapt your code to use either `displot` (a figure-level function with similar flexibility) or `histplot` (an axes-level function for histograms).\n",
      "  warnings.warn(msg, FutureWarning)\n"
     ]
    },
    {
     "data": {
      "text/plain": [
       "<AxesSubplot:xlabel='ppl_fully_vaccd', ylabel='Density'>"
      ]
     },
     "execution_count": 15,
     "metadata": {},
     "output_type": "execute_result"
    },
    {
     "data": {
      "image/png": "[encoded data removed]",
      "text/plain": [
       "<Figure size 432x288 with 1 Axes>"
      ]
     },
     "metadata": {
      "needs_background": "light"
     },
     "output_type": "display_data"
    }
   ],
   "source": [
    "sns.distplot(df_vacc_country_1['ppl_fully_vaccd'], bins=25) \n",
    "\n",
    "# Shows extreme values\n"
   ]
  },
  {
   "cell_type": "code",
   "execution_count": 13,
   "metadata": {},
   "outputs": [
    {
     "data": {
      "text/plain": [
       "3041823.9612647244"
      ]
     },
     "execution_count": 13,
     "metadata": {},
     "output_type": "execute_result"
    }
   ],
   "source": [
    "df_vacc_country_1['ppl_fully_vaccd'].mean() \n",
    "\n",
    "# Checking the MEAN value of the variable 'ppl_fully_vaccd'"
   ]
  },
  {
   "cell_type": "code",
   "execution_count": 14,
   "metadata": {},
   "outputs": [
    {
     "data": {
      "text/plain": [
       "3041823.96"
      ]
     },
     "execution_count": 14,
     "metadata": {},
     "output_type": "execute_result"
    }
   ],
   "source": [
    "df_vacc_country_1['ppl_fully_vaccd'].median()\n",
    "\n",
    "# Checking the MEDIAN value of the variable 'ppl_fully_vaccd'"
   ]
  },
  {
   "cell_type": "code",
   "execution_count": 30,
   "metadata": {},
   "outputs": [
    {
     "data": {
      "text/plain": [
       "223299000.0"
      ]
     },
     "execution_count": 30,
     "metadata": {},
     "output_type": "execute_result"
    }
   ],
   "source": [
    "df_vacc_country_1['ppl_fully_vaccd'].max()"
   ]
  },
  {
   "cell_type": "markdown",
   "metadata": {},
   "source": [
    "# Task 4 - Using scatterplot to explore data visually"
   ]
  },
  {
   "cell_type": "code",
   "execution_count": 19,
   "metadata": {},
   "outputs": [
    {
     "data": {
      "image/png": "[encoded data removed]",
      "text/plain": [
       "<Figure size 432x288 with 1 Axes>"
      ]
     },
     "metadata": {
      "needs_background": "light"
     },
     "output_type": "display_data"
    }
   ],
   "source": [
    "# Chose the variables 'Daily Vaccinations' (daily_vaccs) and 'People Fully Vaccinated' 'ppl_fully_vaccd' for analysis\n",
    " \n",
    "# Create a scatterplot using matplotlib for another look at how the chosen variables plot against each other.\n",
    "\n",
    "df_vacc_country_1.plot(x = 'daily_vaccs', y='ppl_fully_vaccd',style='o')\n",
    "plt.title('Daily Vaccinations vs People Fully Vaccinated')  \n",
    "plt.xlabel('Daily Vaccinations')  \n",
    "plt.ylabel('People Fully Vaccinated')  \n",
    "plt.show()\n",
    "\n",
    "# The style option creates a scatterplot; without it, we only have lines."
   ]
  },
  {
   "cell_type": "markdown",
   "metadata": {},
   "source": [
    "# Task 5 - State hypothesis"
   ]
  },
  {
   "cell_type": "markdown",
   "metadata": {},
   "source": [
    "### If the number of vaccinations are increased everyday for all countries, then the number of people who want to get fully vaccinated will also increase"
   ]
  },
  {
   "cell_type": "markdown",
   "metadata": {},
   "source": [
    "# Task 6 - Reshape the variables into NumPy arrays"
   ]
  },
  {
   "cell_type": "code",
   "execution_count": 20,
   "metadata": {},
   "outputs": [],
   "source": [
    "# Reshape the variables into NumPy arrays and putting them into separate objects.\n",
    "\n",
    "X = df_vacc_country_1['daily_vaccs'].values.reshape(-1,1)\n",
    "y = df_vacc_country_1['ppl_fully_vaccd'].values.reshape(-1,1)"
   ]
  },
  {
   "cell_type": "code",
   "execution_count": 21,
   "metadata": {},
   "outputs": [
    {
     "data": {
      "text/plain": [
       "array([[112209.42],\n",
       "       [  1367.  ],\n",
       "       [  1367.  ],\n",
       "       ...,\n",
       "       [ 15726.  ],\n",
       "       [ 12279.  ],\n",
       "       [ 10040.  ]])"
      ]
     },
     "execution_count": 21,
     "metadata": {},
     "output_type": "execute_result"
    }
   ],
   "source": [
    "X"
   ]
  },
  {
   "cell_type": "code",
   "execution_count": 22,
   "metadata": {},
   "outputs": [
    {
     "data": {
      "text/plain": [
       "array([[3041823.96],\n",
       "       [3041823.96],\n",
       "       [3041823.96],\n",
       "       ...,\n",
       "       [ 567686.  ],\n",
       "       [ 568133.  ],\n",
       "       [ 571721.  ]])"
      ]
     },
     "execution_count": 22,
     "metadata": {},
     "output_type": "execute_result"
    }
   ],
   "source": [
    "y"
   ]
  },
  {
   "cell_type": "markdown",
   "metadata": {},
   "source": [
    "# Task 7 - Split the data into a training set and a test set"
   ]
  },
  {
   "cell_type": "code",
   "execution_count": 23,
   "metadata": {},
   "outputs": [],
   "source": [
    "# Split data into a training set and a test set.\n",
    "# Test set will have 30% of the data\n",
    "# Train set will have 70% of the data\n",
    "\n",
    "X_train, X_test, y_train, y_test = train_test_split(X, y, test_size=0.3, random_state=0)"
   ]
  },
  {
   "cell_type": "markdown",
   "metadata": {},
   "source": [
    "# Task 8 - Running Linear Regression on the dataset"
   ]
  },
  {
   "cell_type": "code",
   "execution_count": 24,
   "metadata": {},
   "outputs": [],
   "source": [
    "# Create a regression object\n",
    "# This is the regression object, which will be fit onto the training set.\n",
    "\n",
    "regression = LinearRegression()  "
   ]
  },
  {
   "cell_type": "code",
   "execution_count": 25,
   "metadata": {},
   "outputs": [
    {
     "data": {
      "text/plain": [
       "LinearRegression()"
      ]
     },
     "execution_count": 25,
     "metadata": {},
     "output_type": "execute_result"
    }
   ],
   "source": [
    "# Fit the regression object onto the training set.\n",
    "# Creating the model\n",
    "\n",
    "regression.fit(X_train, y_train)"
   ]
  },
  {
   "cell_type": "code",
   "execution_count": 26,
   "metadata": {},
   "outputs": [],
   "source": [
    "# Predict the values of y using X.\n",
    "\n",
    "y_predicted = regression.predict(X_test)"
   ]
  },
  {
   "cell_type": "markdown",
   "metadata": {},
   "source": [
    "# Task 9 - Create a plot that shows the regression line on the test set"
   ]
  },
  {
   "cell_type": "code",
   "execution_count": 28,
   "metadata": {},
   "outputs": [
    {
     "data": {
      "image/png": "[encoded data removed]",
      "text/plain": [
       "<Figure size 432x288 with 1 Axes>"
      ]
     },
     "metadata": {
      "needs_background": "light"
     },
     "output_type": "display_data"
    }
   ],
   "source": [
    "# Create a plot that shows the regression line from the model on the test set.\n",
    "\n",
    "plot_test = plt\n",
    "plot_test.scatter(X_test, y_test, color='gray', s = 15)\n",
    "plot_test.plot(X_test, y_predicted, color='red', linewidth =3)\n",
    "plot_test.title('Daily Vaccinations vs People Fully Vaccinated (Test set)')\n",
    "plot_test.xlabel('Daily Vaccinations')\n",
    "plot_test.ylabel('People Fully Vaccinated')\n",
    "plot_test.show()"
   ]
  },
  {
   "cell_type": "markdown",
   "metadata": {},
   "source": [
    " # Task 10 - Regression line interpretation"
   ]
  },
  {
   "cell_type": "markdown",
   "metadata": {},
   "source": [
    "### The linear model represented by the red regression line does not perfectly cover all the data points.\n",
    "\n",
    "### In the area where the number of daily vaccinations is approx 3,000,000, the number of people getting fully vaccinated does seem to increase but only in a very small number."
   ]
  },
  {
   "cell_type": "markdown",
   "metadata": {},
   "source": [
    "# Task 11 - Model performance statistics (MSE) and (R2)"
   ]
  },
  {
   "cell_type": "code",
   "execution_count": 31,
   "metadata": {},
   "outputs": [],
   "source": [
    "# Create objects that contain the model summary statistics.\n",
    "\n",
    "rmse = mean_squared_error(y_test, y_predicted) \n",
    "# This is the mean squared error\n",
    "\n",
    "r2 = r2_score(y_test, y_predicted) \n",
    "# This is the R2 score. "
   ]
  },
  {
   "cell_type": "code",
   "execution_count": 32,
   "metadata": {},
   "outputs": [
    {
     "name": "stdout",
     "output_type": "stream",
     "text": [
      "Slope: [[1.67496183]]\n",
      "Mean squared error:  52909422239293.414\n",
      "R2 score:  0.06644763368742201\n"
     ]
    }
   ],
   "source": [
    "# Print the model summary statistics, to evaluate the performance of the model.\n",
    "\n",
    "print('Slope:' ,regression.coef_)\n",
    "print('Mean squared error: ', rmse)\n",
    "print('R2 score: ', r2)"
   ]
  },
  {
   "cell_type": "markdown",
   "metadata": {},
   "source": [
    "# Task 12 - Compare the predicted 'y' values with the actual 'y' values in a dataframe"
   ]
  },
  {
   "cell_type": "code",
   "execution_count": 33,
   "metadata": {},
   "outputs": [
    {
     "data": {
      "text/plain": [
       "array([[2882967.31597883],\n",
       "       [2989161.57120207],\n",
       "       [2898772.25584235],\n",
       "       ...,\n",
       "       [2874687.97963448],\n",
       "       [2932857.72915969],\n",
       "       [2869140.50604101]])"
      ]
     },
     "execution_count": 33,
     "metadata": {},
     "output_type": "execute_result"
    }
   ],
   "source": [
    "y_predicted"
   ]
  },
  {
   "cell_type": "code",
   "execution_count": 34,
   "metadata": {},
   "outputs": [
    {
     "data": {
      "text/html": [
       "<div>\n",
       "<style scoped>\n",
       "    .dataframe tbody tr th:only-of-type {\n",
       "        vertical-align: middle;\n",
       "    }\n",
       "\n",
       "    .dataframe tbody tr th {\n",
       "        vertical-align: top;\n",
       "    }\n",
       "\n",
       "    .dataframe thead th {\n",
       "        text-align: right;\n",
       "    }\n",
       "</style>\n",
       "<table border=\"1\" class=\"dataframe\">\n",
       "  <thead>\n",
       "    <tr style=\"text-align: right;\">\n",
       "      <th></th>\n",
       "      <th>Actual</th>\n",
       "      <th>Predicted</th>\n",
       "    </tr>\n",
       "  </thead>\n",
       "  <tbody>\n",
       "    <tr>\n",
       "      <th>0</th>\n",
       "      <td>3041823.96</td>\n",
       "      <td>2.882967e+06</td>\n",
       "    </tr>\n",
       "    <tr>\n",
       "      <th>1</th>\n",
       "      <td>1039642.00</td>\n",
       "      <td>2.989162e+06</td>\n",
       "    </tr>\n",
       "    <tr>\n",
       "      <th>2</th>\n",
       "      <td>3041823.96</td>\n",
       "      <td>2.898772e+06</td>\n",
       "    </tr>\n",
       "    <tr>\n",
       "      <th>3</th>\n",
       "      <td>1424107.00</td>\n",
       "      <td>3.057609e+06</td>\n",
       "    </tr>\n",
       "    <tr>\n",
       "      <th>4</th>\n",
       "      <td>4868666.00</td>\n",
       "      <td>2.906120e+06</td>\n",
       "    </tr>\n",
       "    <tr>\n",
       "      <th>5</th>\n",
       "      <td>270754.00</td>\n",
       "      <td>2.876775e+06</td>\n",
       "    </tr>\n",
       "    <tr>\n",
       "      <th>6</th>\n",
       "      <td>657975.00</td>\n",
       "      <td>2.887791e+06</td>\n",
       "    </tr>\n",
       "    <tr>\n",
       "      <th>7</th>\n",
       "      <td>3448.00</td>\n",
       "      <td>2.868489e+06</td>\n",
       "    </tr>\n",
       "    <tr>\n",
       "      <th>8</th>\n",
       "      <td>3519105.00</td>\n",
       "      <td>3.648098e+06</td>\n",
       "    </tr>\n",
       "    <tr>\n",
       "      <th>9</th>\n",
       "      <td>3041823.96</td>\n",
       "      <td>2.870961e+06</td>\n",
       "    </tr>\n",
       "    <tr>\n",
       "      <th>10</th>\n",
       "      <td>361053.00</td>\n",
       "      <td>2.891761e+06</td>\n",
       "    </tr>\n",
       "    <tr>\n",
       "      <th>11</th>\n",
       "      <td>19829015.00</td>\n",
       "      <td>3.653286e+06</td>\n",
       "    </tr>\n",
       "    <tr>\n",
       "      <th>12</th>\n",
       "      <td>3041823.96</td>\n",
       "      <td>2.894618e+06</td>\n",
       "    </tr>\n",
       "    <tr>\n",
       "      <th>13</th>\n",
       "      <td>165515.00</td>\n",
       "      <td>2.911731e+06</td>\n",
       "    </tr>\n",
       "    <tr>\n",
       "      <th>14</th>\n",
       "      <td>964537.00</td>\n",
       "      <td>2.922133e+06</td>\n",
       "    </tr>\n",
       "    <tr>\n",
       "      <th>15</th>\n",
       "      <td>3041823.96</td>\n",
       "      <td>2.888431e+06</td>\n",
       "    </tr>\n",
       "    <tr>\n",
       "      <th>16</th>\n",
       "      <td>293264.00</td>\n",
       "      <td>2.877725e+06</td>\n",
       "    </tr>\n",
       "    <tr>\n",
       "      <th>17</th>\n",
       "      <td>32789.00</td>\n",
       "      <td>2.870497e+06</td>\n",
       "    </tr>\n",
       "    <tr>\n",
       "      <th>18</th>\n",
       "      <td>149719.00</td>\n",
       "      <td>2.903951e+06</td>\n",
       "    </tr>\n",
       "    <tr>\n",
       "      <th>19</th>\n",
       "      <td>3041823.96</td>\n",
       "      <td>2.898489e+06</td>\n",
       "    </tr>\n",
       "    <tr>\n",
       "      <th>20</th>\n",
       "      <td>7689449.00</td>\n",
       "      <td>3.252940e+06</td>\n",
       "    </tr>\n",
       "    <tr>\n",
       "      <th>21</th>\n",
       "      <td>4369236.00</td>\n",
       "      <td>3.340026e+06</td>\n",
       "    </tr>\n",
       "    <tr>\n",
       "      <th>22</th>\n",
       "      <td>11297.00</td>\n",
       "      <td>2.875556e+06</td>\n",
       "    </tr>\n",
       "    <tr>\n",
       "      <th>23</th>\n",
       "      <td>536828.00</td>\n",
       "      <td>2.930178e+06</td>\n",
       "    </tr>\n",
       "    <tr>\n",
       "      <th>24</th>\n",
       "      <td>220195.00</td>\n",
       "      <td>2.899898e+06</td>\n",
       "    </tr>\n",
       "    <tr>\n",
       "      <th>25</th>\n",
       "      <td>260755.00</td>\n",
       "      <td>2.946874e+06</td>\n",
       "    </tr>\n",
       "    <tr>\n",
       "      <th>26</th>\n",
       "      <td>903500.00</td>\n",
       "      <td>2.906685e+06</td>\n",
       "    </tr>\n",
       "    <tr>\n",
       "      <th>27</th>\n",
       "      <td>492989.00</td>\n",
       "      <td>2.907567e+06</td>\n",
       "    </tr>\n",
       "    <tr>\n",
       "      <th>28</th>\n",
       "      <td>2228772.00</td>\n",
       "      <td>3.843302e+06</td>\n",
       "    </tr>\n",
       "    <tr>\n",
       "      <th>29</th>\n",
       "      <td>3041823.96</td>\n",
       "      <td>2.867394e+06</td>\n",
       "    </tr>\n",
       "  </tbody>\n",
       "</table>\n",
       "</div>"
      ],
      "text/plain": [
       "         Actual     Predicted\n",
       "0    3041823.96  2.882967e+06\n",
       "1    1039642.00  2.989162e+06\n",
       "2    3041823.96  2.898772e+06\n",
       "3    1424107.00  3.057609e+06\n",
       "4    4868666.00  2.906120e+06\n",
       "5     270754.00  2.876775e+06\n",
       "6     657975.00  2.887791e+06\n",
       "7       3448.00  2.868489e+06\n",
       "8    3519105.00  3.648098e+06\n",
       "9    3041823.96  2.870961e+06\n",
       "10    361053.00  2.891761e+06\n",
       "11  19829015.00  3.653286e+06\n",
       "12   3041823.96  2.894618e+06\n",
       "13    165515.00  2.911731e+06\n",
       "14    964537.00  2.922133e+06\n",
       "15   3041823.96  2.888431e+06\n",
       "16    293264.00  2.877725e+06\n",
       "17     32789.00  2.870497e+06\n",
       "18    149719.00  2.903951e+06\n",
       "19   3041823.96  2.898489e+06\n",
       "20   7689449.00  3.252940e+06\n",
       "21   4369236.00  3.340026e+06\n",
       "22     11297.00  2.875556e+06\n",
       "23    536828.00  2.930178e+06\n",
       "24    220195.00  2.899898e+06\n",
       "25    260755.00  2.946874e+06\n",
       "26    903500.00  2.906685e+06\n",
       "27    492989.00  2.907567e+06\n",
       "28   2228772.00  3.843302e+06\n",
       "29   3041823.96  2.867394e+06"
      ]
     },
     "execution_count": 34,
     "metadata": {},
     "output_type": "execute_result"
    }
   ],
   "source": [
    "# Create a dataframe comparing the actual and predicted values of y.\n",
    "\n",
    "data = pd.DataFrame({'Actual': y_test.flatten(), 'Predicted': y_predicted.flatten()})\n",
    "data.head(30)"
   ]
  },
  {
   "cell_type": "markdown",
   "metadata": {},
   "source": [
    "# Task 13 "
   ]
  },
  {
   "cell_type": "markdown",
   "metadata": {},
   "source": [
    "### The model does not do a great job of explaining the relationship between the variables 'People Fully vaccinated' and 'Daily Vaccinations'\n",
    "\n",
    "### R2 score is approx. 0.0664 which implies that the model is not a good fit\n",
    "\n",
    "### A high value for MSE also implies that the regression line is farther away from the data points and this indicates that the regression line is not an accurate representation of the data.\n",
    "\n",
    "### Potential bias that could be present here is the faking of vaccination numbers by few countries in order to show that their vaccination program is progressing well in order to show the world."
   ]
  }
 ],
 "metadata": {
  "kernelspec": {
   "display_name": "Python 3",
   "language": "python",
   "name": "python3"
  },
  "language_info": {
   "codemirror_mode": {
    "name": "ipython",
    "version": 3
   },
   "file_extension": ".py",
   "mimetype": "text/x-python",
   "name": "python",
   "nbconvert_exporter": "python",
   "pygments_lexer": "ipython3",
   "version": "3.8.5"
  }
 },
 "nbformat": 4,
 "nbformat_minor": 4
}
