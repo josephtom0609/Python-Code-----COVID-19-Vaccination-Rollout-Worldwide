{
 "cells": [
  {
   "cell_type": "markdown",
   "metadata": {},
   "source": [
    "# Importing Libraries"
   ]
  },
  {
   "cell_type": "code",
   "execution_count": 1,
   "metadata": {},
   "outputs": [],
   "source": [
    "# Importing Libaries\n",
    "\n",
    "import pandas as pd\n",
    "import numpy as np\n",
    "import os"
   ]
  },
  {
   "cell_type": "markdown",
   "metadata": {},
   "source": [
    "# Importing Datasets"
   ]
  },
  {
   "cell_type": "code",
   "execution_count": 2,
   "metadata": {},
   "outputs": [],
   "source": [
    "# Assigning local path of dataset to a variable\n",
    "\n",
    "path=r'C:\\Users\\LENOVO\\Desktop\\CF - Data Analytics\\Achievement 7\\7.1 - Sourcing Open Data'"
   ]
  },
  {
   "cell_type": "code",
   "execution_count": 3,
   "metadata": {},
   "outputs": [],
   "source": [
    "# Importing dataset - Country Vaccinations by Manufacturer\n",
    "\n",
    "df_VACC_MANUFAC=pd.read_csv(os.path.join(path, 'country_vaccinations_by_manufacturer.csv'), index_col=False)"
   ]
  },
  {
   "cell_type": "code",
   "execution_count": 4,
   "metadata": {},
   "outputs": [],
   "source": [
    "# Importing dataset - Country Vaccinations\n",
    "\n",
    "df_VACC_COUNTRY=pd.read_csv(os.path.join(path, 'country_vaccinations.csv'), index_col=False)"
   ]
  },
  {
   "cell_type": "code",
   "execution_count": 5,
   "metadata": {},
   "outputs": [
    {
     "data": {
      "text/html": [
       "<div>\n",
       "<style scoped>\n",
       "    .dataframe tbody tr th:only-of-type {\n",
       "        vertical-align: middle;\n",
       "    }\n",
       "\n",
       "    .dataframe tbody tr th {\n",
       "        vertical-align: top;\n",
       "    }\n",
       "\n",
       "    .dataframe thead th {\n",
       "        text-align: right;\n",
       "    }\n",
       "</style>\n",
       "<table border=\"1\" class=\"dataframe\">\n",
       "  <thead>\n",
       "    <tr style=\"text-align: right;\">\n",
       "      <th></th>\n",
       "      <th>location</th>\n",
       "      <th>date</th>\n",
       "      <th>vaccine</th>\n",
       "      <th>total_vaccinations</th>\n",
       "    </tr>\n",
       "  </thead>\n",
       "  <tbody>\n",
       "    <tr>\n",
       "      <th>0</th>\n",
       "      <td>Austria</td>\n",
       "      <td>8/01/2021</td>\n",
       "      <td>Johnson&amp;Johnson</td>\n",
       "      <td>0</td>\n",
       "    </tr>\n",
       "    <tr>\n",
       "      <th>1</th>\n",
       "      <td>Austria</td>\n",
       "      <td>8/01/2021</td>\n",
       "      <td>Moderna</td>\n",
       "      <td>0</td>\n",
       "    </tr>\n",
       "    <tr>\n",
       "      <th>2</th>\n",
       "      <td>Austria</td>\n",
       "      <td>8/01/2021</td>\n",
       "      <td>Oxford/AstraZeneca</td>\n",
       "      <td>0</td>\n",
       "    </tr>\n",
       "    <tr>\n",
       "      <th>3</th>\n",
       "      <td>Austria</td>\n",
       "      <td>8/01/2021</td>\n",
       "      <td>Pfizer/BioNTech</td>\n",
       "      <td>30938</td>\n",
       "    </tr>\n",
       "    <tr>\n",
       "      <th>4</th>\n",
       "      <td>Austria</td>\n",
       "      <td>15/01/2021</td>\n",
       "      <td>Johnson&amp;Johnson</td>\n",
       "      <td>0</td>\n",
       "    </tr>\n",
       "  </tbody>\n",
       "</table>\n",
       "</div>"
      ],
      "text/plain": [
       "  location        date             vaccine  total_vaccinations\n",
       "0  Austria   8/01/2021     Johnson&Johnson                   0\n",
       "1  Austria   8/01/2021             Moderna                   0\n",
       "2  Austria   8/01/2021  Oxford/AstraZeneca                   0\n",
       "3  Austria   8/01/2021     Pfizer/BioNTech               30938\n",
       "4  Austria  15/01/2021     Johnson&Johnson                   0"
      ]
     },
     "execution_count": 5,
     "metadata": {},
     "output_type": "execute_result"
    }
   ],
   "source": [
    "df_VACC_MANUFAC.head()\n",
    "\n",
    "# Checking the data present in the Country Vaccinations by Manufacturer dataset"
   ]
  },
  {
   "cell_type": "code",
   "execution_count": 6,
   "metadata": {},
   "outputs": [
    {
     "data": {
      "text/plain": [
       "<bound method NDFrame.head of            country iso_code        date  total_vaccinations  \\\n",
       "0      Afghanistan      AFG  22/02/2021                 0.0   \n",
       "1      Afghanistan      AFG  23/02/2021                 NaN   \n",
       "2      Afghanistan      AFG  24/02/2021                 NaN   \n",
       "3      Afghanistan      AFG  25/02/2021                 NaN   \n",
       "4      Afghanistan      AFG  26/02/2021                 NaN   \n",
       "...            ...      ...         ...                 ...   \n",
       "29407     Zimbabwe      ZWE   1/07/2021           1341960.0   \n",
       "29408     Zimbabwe      ZWE   2/07/2021           1352718.0   \n",
       "29409     Zimbabwe      ZWE   3/07/2021           1359587.0   \n",
       "29410     Zimbabwe      ZWE   4/07/2021           1361210.0   \n",
       "29411     Zimbabwe      ZWE   5/07/2021           1369436.0   \n",
       "\n",
       "       people_vaccinated  people_fully_vaccinated  daily_vaccinations_raw  \\\n",
       "0                    0.0                      NaN                     NaN   \n",
       "1                    NaN                      NaN                     NaN   \n",
       "2                    NaN                      NaN                     NaN   \n",
       "3                    NaN                      NaN                     NaN   \n",
       "4                    NaN                      NaN                     NaN   \n",
       "...                  ...                      ...                     ...   \n",
       "29407           782698.0                 559262.0                  9522.0   \n",
       "29408           788004.0                 564714.0                 10758.0   \n",
       "29409           791901.0                 567686.0                  6869.0   \n",
       "29410           793077.0                 568133.0                  1623.0   \n",
       "29411           797715.0                 571721.0                  8226.0   \n",
       "\n",
       "       daily_vaccinations  total_vaccinations_per_hundred  \\\n",
       "0                     NaN                            0.00   \n",
       "1                  1367.0                             NaN   \n",
       "2                  1367.0                             NaN   \n",
       "3                  1367.0                             NaN   \n",
       "4                  1367.0                             NaN   \n",
       "...                   ...                             ...   \n",
       "29407             21235.0                            9.03   \n",
       "29408             18686.0                            9.10   \n",
       "29409             15726.0                            9.15   \n",
       "29410             12279.0                            9.16   \n",
       "29411             10040.0                            9.21   \n",
       "\n",
       "       people_vaccinated_per_hundred  people_fully_vaccinated_per_hundred  \\\n",
       "0                               0.00                                  NaN   \n",
       "1                                NaN                                  NaN   \n",
       "2                                NaN                                  NaN   \n",
       "3                                NaN                                  NaN   \n",
       "4                                NaN                                  NaN   \n",
       "...                              ...                                  ...   \n",
       "29407                           5.27                                 3.76   \n",
       "29408                           5.30                                 3.80   \n",
       "29409                           5.33                                 3.82   \n",
       "29410                           5.34                                 3.82   \n",
       "29411                           5.37                                 3.85   \n",
       "\n",
       "       daily_vaccinations_per_million  \\\n",
       "0                                 NaN   \n",
       "1                                35.0   \n",
       "2                                35.0   \n",
       "3                                35.0   \n",
       "4                                35.0   \n",
       "...                               ...   \n",
       "29407                          1429.0   \n",
       "29408                          1257.0   \n",
       "29409                          1058.0   \n",
       "29410                           826.0   \n",
       "29411                           676.0   \n",
       "\n",
       "                                                vaccines  \\\n",
       "0      Oxford/AstraZeneca, Pfizer/BioNTech, Sinopharm...   \n",
       "1      Oxford/AstraZeneca, Pfizer/BioNTech, Sinopharm...   \n",
       "2      Oxford/AstraZeneca, Pfizer/BioNTech, Sinopharm...   \n",
       "3      Oxford/AstraZeneca, Pfizer/BioNTech, Sinopharm...   \n",
       "4      Oxford/AstraZeneca, Pfizer/BioNTech, Sinopharm...   \n",
       "...                                                  ...   \n",
       "29407                                  Sinopharm/Beijing   \n",
       "29408                                  Sinopharm/Beijing   \n",
       "29409                                  Sinopharm/Beijing   \n",
       "29410                                  Sinopharm/Beijing   \n",
       "29411                                  Sinopharm/Beijing   \n",
       "\n",
       "                     source_name  \\\n",
       "0      World Health Organization   \n",
       "1      World Health Organization   \n",
       "2      World Health Organization   \n",
       "3      World Health Organization   \n",
       "4      World Health Organization   \n",
       "...                          ...   \n",
       "29407         Ministry of Health   \n",
       "29408         Ministry of Health   \n",
       "29409         Ministry of Health   \n",
       "29410         Ministry of Health   \n",
       "29411         Ministry of Health   \n",
       "\n",
       "                                          source_website  \n",
       "0                               https://covid19.who.int/  \n",
       "1                               https://covid19.who.int/  \n",
       "2                               https://covid19.who.int/  \n",
       "3                               https://covid19.who.int/  \n",
       "4                               https://covid19.who.int/  \n",
       "...                                                  ...  \n",
       "29407  https://twitter.com/MoHCCZim/status/1412138853...  \n",
       "29408  https://twitter.com/MoHCCZim/status/1412138853...  \n",
       "29409  https://twitter.com/MoHCCZim/status/1412138853...  \n",
       "29410  https://twitter.com/MoHCCZim/status/1412138853...  \n",
       "29411  https://twitter.com/MoHCCZim/status/1412138853...  \n",
       "\n",
       "[29412 rows x 15 columns]>"
      ]
     },
     "execution_count": 6,
     "metadata": {},
     "output_type": "execute_result"
    }
   ],
   "source": [
    "df_VACC_COUNTRY.head\n",
    "\n",
    "# Checking the data present in the Country Vaccinations dataset"
   ]
  },
  {
   "cell_type": "markdown",
   "metadata": {},
   "source": [
    "# Dropping Unwanted Columns"
   ]
  },
  {
   "cell_type": "code",
   "execution_count": 8,
   "metadata": {},
   "outputs": [],
   "source": [
    "df_VACC_COUNTRY_1=df_VACC_COUNTRY.drop(columns=['source_name', 'source_website', 'daily_vaccinations_raw', 'people_vaccinated_per_hundred'])\n",
    "\n",
    "# Dropping the foillowing columns from Country Vaccinations dataset\n",
    "# 'source_name'\n",
    "# 'source_website'\n",
    "# 'daily_vaccinations_raw'\n",
    "# 'people_vaccinated_per_hundred' "
   ]
  },
  {
   "cell_type": "code",
   "execution_count": 39,
   "metadata": {},
   "outputs": [
    {
     "data": {
      "text/html": [
       "<div>\n",
       "<style scoped>\n",
       "    .dataframe tbody tr th:only-of-type {\n",
       "        vertical-align: middle;\n",
       "    }\n",
       "\n",
       "    .dataframe tbody tr th {\n",
       "        vertical-align: top;\n",
       "    }\n",
       "\n",
       "    .dataframe thead th {\n",
       "        text-align: right;\n",
       "    }\n",
       "</style>\n",
       "<table border=\"1\" class=\"dataframe\">\n",
       "  <thead>\n",
       "    <tr style=\"text-align: right;\">\n",
       "      <th></th>\n",
       "      <th>country</th>\n",
       "      <th>iso_code</th>\n",
       "      <th>date</th>\n",
       "      <th>total_vaccinations</th>\n",
       "      <th>people_vaccinated</th>\n",
       "      <th>people_fully_vaccinated</th>\n",
       "      <th>daily_vaccinations</th>\n",
       "      <th>total_vaccinations_per_hundred</th>\n",
       "      <th>people_fully_vaccinated_per_hundred</th>\n",
       "      <th>daily_vaccinations_per_million</th>\n",
       "      <th>vaccines</th>\n",
       "    </tr>\n",
       "  </thead>\n",
       "  <tbody>\n",
       "    <tr>\n",
       "      <th>0</th>\n",
       "      <td>Afghanistan</td>\n",
       "      <td>AFG</td>\n",
       "      <td>22/02/2021</td>\n",
       "      <td>0.00</td>\n",
       "      <td>0.00</td>\n",
       "      <td>3041823.96</td>\n",
       "      <td>112209.42</td>\n",
       "      <td>0.00</td>\n",
       "      <td>11.26</td>\n",
       "      <td>3376.55</td>\n",
       "      <td>Oxford/AstraZeneca, Pfizer/BioNTech, Sinopharm...</td>\n",
       "    </tr>\n",
       "    <tr>\n",
       "      <th>1</th>\n",
       "      <td>Afghanistan</td>\n",
       "      <td>AFG</td>\n",
       "      <td>23/02/2021</td>\n",
       "      <td>1094522.96</td>\n",
       "      <td>5341596.08</td>\n",
       "      <td>3041823.96</td>\n",
       "      <td>1367.00</td>\n",
       "      <td>27.29</td>\n",
       "      <td>11.26</td>\n",
       "      <td>35.00</td>\n",
       "      <td>Oxford/AstraZeneca, Pfizer/BioNTech, Sinopharm...</td>\n",
       "    </tr>\n",
       "    <tr>\n",
       "      <th>2</th>\n",
       "      <td>Afghanistan</td>\n",
       "      <td>AFG</td>\n",
       "      <td>24/02/2021</td>\n",
       "      <td>1094522.96</td>\n",
       "      <td>5341596.08</td>\n",
       "      <td>3041823.96</td>\n",
       "      <td>1367.00</td>\n",
       "      <td>27.29</td>\n",
       "      <td>11.26</td>\n",
       "      <td>35.00</td>\n",
       "      <td>Oxford/AstraZeneca, Pfizer/BioNTech, Sinopharm...</td>\n",
       "    </tr>\n",
       "    <tr>\n",
       "      <th>3</th>\n",
       "      <td>Afghanistan</td>\n",
       "      <td>AFG</td>\n",
       "      <td>25/02/2021</td>\n",
       "      <td>1094522.96</td>\n",
       "      <td>5341596.08</td>\n",
       "      <td>3041823.96</td>\n",
       "      <td>1367.00</td>\n",
       "      <td>27.29</td>\n",
       "      <td>11.26</td>\n",
       "      <td>35.00</td>\n",
       "      <td>Oxford/AstraZeneca, Pfizer/BioNTech, Sinopharm...</td>\n",
       "    </tr>\n",
       "    <tr>\n",
       "      <th>4</th>\n",
       "      <td>Afghanistan</td>\n",
       "      <td>AFG</td>\n",
       "      <td>26/02/2021</td>\n",
       "      <td>1094522.96</td>\n",
       "      <td>5341596.08</td>\n",
       "      <td>3041823.96</td>\n",
       "      <td>1367.00</td>\n",
       "      <td>27.29</td>\n",
       "      <td>11.26</td>\n",
       "      <td>35.00</td>\n",
       "      <td>Oxford/AstraZeneca, Pfizer/BioNTech, Sinopharm...</td>\n",
       "    </tr>\n",
       "  </tbody>\n",
       "</table>\n",
       "</div>"
      ],
      "text/plain": [
       "       country iso_code        date  total_vaccinations  people_vaccinated  \\\n",
       "0  Afghanistan      AFG  22/02/2021                0.00               0.00   \n",
       "1  Afghanistan      AFG  23/02/2021          1094522.96         5341596.08   \n",
       "2  Afghanistan      AFG  24/02/2021          1094522.96         5341596.08   \n",
       "3  Afghanistan      AFG  25/02/2021          1094522.96         5341596.08   \n",
       "4  Afghanistan      AFG  26/02/2021          1094522.96         5341596.08   \n",
       "\n",
       "   people_fully_vaccinated  daily_vaccinations  \\\n",
       "0               3041823.96           112209.42   \n",
       "1               3041823.96             1367.00   \n",
       "2               3041823.96             1367.00   \n",
       "3               3041823.96             1367.00   \n",
       "4               3041823.96             1367.00   \n",
       "\n",
       "   total_vaccinations_per_hundred  people_fully_vaccinated_per_hundred  \\\n",
       "0                            0.00                                11.26   \n",
       "1                           27.29                                11.26   \n",
       "2                           27.29                                11.26   \n",
       "3                           27.29                                11.26   \n",
       "4                           27.29                                11.26   \n",
       "\n",
       "   daily_vaccinations_per_million  \\\n",
       "0                         3376.55   \n",
       "1                           35.00   \n",
       "2                           35.00   \n",
       "3                           35.00   \n",
       "4                           35.00   \n",
       "\n",
       "                                            vaccines  \n",
       "0  Oxford/AstraZeneca, Pfizer/BioNTech, Sinopharm...  \n",
       "1  Oxford/AstraZeneca, Pfizer/BioNTech, Sinopharm...  \n",
       "2  Oxford/AstraZeneca, Pfizer/BioNTech, Sinopharm...  \n",
       "3  Oxford/AstraZeneca, Pfizer/BioNTech, Sinopharm...  \n",
       "4  Oxford/AstraZeneca, Pfizer/BioNTech, Sinopharm...  "
      ]
     },
     "execution_count": 39,
     "metadata": {},
     "output_type": "execute_result"
    }
   ],
   "source": [
    "df_VACC_COUNTRY_1.head()"
   ]
  },
  {
   "cell_type": "code",
   "execution_count": 10,
   "metadata": {},
   "outputs": [
    {
     "data": {
      "text/plain": [
       "country                                 object\n",
       "iso_code                                object\n",
       "date                                    object\n",
       "total_vaccinations                     float64\n",
       "people_vaccinated                      float64\n",
       "people_fully_vaccinated                float64\n",
       "daily_vaccinations                     float64\n",
       "total_vaccinations_per_hundred         float64\n",
       "people_fully_vaccinated_per_hundred    float64\n",
       "daily_vaccinations_per_million         float64\n",
       "vaccines                                object\n",
       "dtype: object"
      ]
     },
     "execution_count": 10,
     "metadata": {},
     "output_type": "execute_result"
    }
   ],
   "source": [
    "df_VACC_COUNTRY_1.dtypes\n",
    "\n",
    "# Checking the datatypes of all variables present in the Country Vaccinations dataset "
   ]
  },
  {
   "cell_type": "code",
   "execution_count": 11,
   "metadata": {},
   "outputs": [
    {
     "data": {
      "text/plain": [
       "location              object\n",
       "date                  object\n",
       "vaccine               object\n",
       "total_vaccinations     int64\n",
       "dtype: object"
      ]
     },
     "execution_count": 11,
     "metadata": {},
     "output_type": "execute_result"
    }
   ],
   "source": [
    "df_VACC_MANUFAC.dtypes\n",
    "\n",
    "# Checking the datatypes of all variables present in the Country Vaccinations by Manufacturer dataset "
   ]
  },
  {
   "cell_type": "markdown",
   "metadata": {},
   "source": [
    "# Data Consistency Check"
   ]
  },
  {
   "cell_type": "markdown",
   "metadata": {},
   "source": [
    "## 1.Check for Mixed Type Data"
   ]
  },
  {
   "cell_type": "code",
   "execution_count": 12,
   "metadata": {},
   "outputs": [],
   "source": [
    "for col in df_VACC_COUNTRY_1.columns.tolist():\n",
    "    weird=(df_VACC_COUNTRY_1[[col]].applymap(type) != df_VACC_COUNTRY_1[[col]].iloc[0].apply(type)).any(axis=1)\n",
    "    if len(df_VACC_COUNTRY_1[weird]) > 0:\n",
    "        print(col)\n",
    "        \n",
    "# Checking for mixed data type in the Country Vaccinations dataset"
   ]
  },
  {
   "cell_type": "code",
   "execution_count": 13,
   "metadata": {},
   "outputs": [],
   "source": [
    "for col in df_VACC_MANUFAC.columns.tolist():\n",
    "    weird=(df_VACC_MANUFAC[[col]].applymap(type) != df_VACC_MANUFAC[[col]].iloc[0].apply(type)).any(axis=1)\n",
    "    if len(df_VACC_MANUFAC[weird]) > 0:\n",
    "        print(col)\n",
    "        \n",
    "# Checking for mixed data type in the Country Vaccinations by Manufacturer dataset"
   ]
  },
  {
   "cell_type": "markdown",
   "metadata": {},
   "source": [
    "   ## There are NO Mixed Type Data in both datasets"
   ]
  },
  {
   "cell_type": "markdown",
   "metadata": {},
   "source": [
    "## 2.Check for Missing Values"
   ]
  },
  {
   "cell_type": "code",
   "execution_count": 14,
   "metadata": {},
   "outputs": [
    {
     "data": {
      "text/plain": [
       "country                                    0\n",
       "iso_code                                   0\n",
       "date                                       0\n",
       "total_vaccinations                     13019\n",
       "people_vaccinated                      13851\n",
       "people_fully_vaccinated                16582\n",
       "daily_vaccinations                       241\n",
       "total_vaccinations_per_hundred         13019\n",
       "people_fully_vaccinated_per_hundred    16582\n",
       "daily_vaccinations_per_million           241\n",
       "vaccines                                   0\n",
       "dtype: int64"
      ]
     },
     "execution_count": 14,
     "metadata": {},
     "output_type": "execute_result"
    }
   ],
   "source": [
    "df_VACC_COUNTRY_1.isnull().sum()\n",
    "\n",
    "# Checking for missing values in the Country Vaccinations dataset"
   ]
  },
  {
   "cell_type": "code",
   "execution_count": 16,
   "metadata": {},
   "outputs": [
    {
     "data": {
      "text/html": [
       "<div>\n",
       "<style scoped>\n",
       "    .dataframe tbody tr th:only-of-type {\n",
       "        vertical-align: middle;\n",
       "    }\n",
       "\n",
       "    .dataframe tbody tr th {\n",
       "        vertical-align: top;\n",
       "    }\n",
       "\n",
       "    .dataframe thead th {\n",
       "        text-align: right;\n",
       "    }\n",
       "</style>\n",
       "<table border=\"1\" class=\"dataframe\">\n",
       "  <thead>\n",
       "    <tr style=\"text-align: right;\">\n",
       "      <th></th>\n",
       "      <th>total_vaccinations</th>\n",
       "      <th>people_vaccinated</th>\n",
       "      <th>people_fully_vaccinated</th>\n",
       "      <th>daily_vaccinations</th>\n",
       "      <th>total_vaccinations_per_hundred</th>\n",
       "      <th>people_fully_vaccinated_per_hundred</th>\n",
       "      <th>daily_vaccinations_per_million</th>\n",
       "    </tr>\n",
       "  </thead>\n",
       "  <tbody>\n",
       "    <tr>\n",
       "      <th>count</th>\n",
       "      <td>1.639300e+04</td>\n",
       "      <td>1.556100e+04</td>\n",
       "      <td>1.283000e+04</td>\n",
       "      <td>2.917100e+04</td>\n",
       "      <td>16393.000000</td>\n",
       "      <td>12830.000000</td>\n",
       "      <td>29171.000000</td>\n",
       "    </tr>\n",
       "    <tr>\n",
       "      <th>mean</th>\n",
       "      <td>1.094522e+07</td>\n",
       "      <td>5.341596e+06</td>\n",
       "      <td>3.041824e+06</td>\n",
       "      <td>1.122094e+05</td>\n",
       "      <td>27.294751</td>\n",
       "      <td>11.262784</td>\n",
       "      <td>3376.552466</td>\n",
       "    </tr>\n",
       "    <tr>\n",
       "      <th>std</th>\n",
       "      <td>5.910068e+07</td>\n",
       "      <td>1.997982e+07</td>\n",
       "      <td>1.178863e+07</td>\n",
       "      <td>8.438880e+05</td>\n",
       "      <td>33.387913</td>\n",
       "      <td>14.902168</td>\n",
       "      <td>4488.337095</td>\n",
       "    </tr>\n",
       "    <tr>\n",
       "      <th>min</th>\n",
       "      <td>0.000000e+00</td>\n",
       "      <td>0.000000e+00</td>\n",
       "      <td>1.000000e+00</td>\n",
       "      <td>0.000000e+00</td>\n",
       "      <td>0.000000</td>\n",
       "      <td>0.000000</td>\n",
       "      <td>0.000000</td>\n",
       "    </tr>\n",
       "    <tr>\n",
       "      <th>25%</th>\n",
       "      <td>1.176960e+05</td>\n",
       "      <td>9.026700e+04</td>\n",
       "      <td>4.400600e+04</td>\n",
       "      <td>8.460000e+02</td>\n",
       "      <td>2.720000</td>\n",
       "      <td>1.170000</td>\n",
       "      <td>393.000000</td>\n",
       "    </tr>\n",
       "    <tr>\n",
       "      <th>50%</th>\n",
       "      <td>8.241700e+05</td>\n",
       "      <td>5.981360e+05</td>\n",
       "      <td>3.350540e+05</td>\n",
       "      <td>6.355000e+03</td>\n",
       "      <td>13.270000</td>\n",
       "      <td>4.930000</td>\n",
       "      <td>1804.000000</td>\n",
       "    </tr>\n",
       "    <tr>\n",
       "      <th>75%</th>\n",
       "      <td>3.842474e+06</td>\n",
       "      <td>2.553837e+06</td>\n",
       "      <td>1.455536e+06</td>\n",
       "      <td>3.484350e+04</td>\n",
       "      <td>40.530000</td>\n",
       "      <td>15.317500</td>\n",
       "      <td>5051.000000</td>\n",
       "    </tr>\n",
       "    <tr>\n",
       "      <th>max</th>\n",
       "      <td>1.331669e+09</td>\n",
       "      <td>6.220000e+08</td>\n",
       "      <td>2.232990e+08</td>\n",
       "      <td>2.242429e+07</td>\n",
       "      <td>231.890000</td>\n",
       "      <td>115.360000</td>\n",
       "      <td>118759.000000</td>\n",
       "    </tr>\n",
       "  </tbody>\n",
       "</table>\n",
       "</div>"
      ],
      "text/plain": [
       "       total_vaccinations  people_vaccinated  people_fully_vaccinated  \\\n",
       "count        1.639300e+04       1.556100e+04             1.283000e+04   \n",
       "mean         1.094522e+07       5.341596e+06             3.041824e+06   \n",
       "std          5.910068e+07       1.997982e+07             1.178863e+07   \n",
       "min          0.000000e+00       0.000000e+00             1.000000e+00   \n",
       "25%          1.176960e+05       9.026700e+04             4.400600e+04   \n",
       "50%          8.241700e+05       5.981360e+05             3.350540e+05   \n",
       "75%          3.842474e+06       2.553837e+06             1.455536e+06   \n",
       "max          1.331669e+09       6.220000e+08             2.232990e+08   \n",
       "\n",
       "       daily_vaccinations  total_vaccinations_per_hundred  \\\n",
       "count        2.917100e+04                    16393.000000   \n",
       "mean         1.122094e+05                       27.294751   \n",
       "std          8.438880e+05                       33.387913   \n",
       "min          0.000000e+00                        0.000000   \n",
       "25%          8.460000e+02                        2.720000   \n",
       "50%          6.355000e+03                       13.270000   \n",
       "75%          3.484350e+04                       40.530000   \n",
       "max          2.242429e+07                      231.890000   \n",
       "\n",
       "       people_fully_vaccinated_per_hundred  daily_vaccinations_per_million  \n",
       "count                         12830.000000                    29171.000000  \n",
       "mean                             11.262784                     3376.552466  \n",
       "std                              14.902168                     4488.337095  \n",
       "min                               0.000000                        0.000000  \n",
       "25%                               1.170000                      393.000000  \n",
       "50%                               4.930000                     1804.000000  \n",
       "75%                              15.317500                     5051.000000  \n",
       "max                             115.360000                   118759.000000  "
      ]
     },
     "execution_count": 16,
     "metadata": {},
     "output_type": "execute_result"
    }
   ],
   "source": [
    "df_VACC_COUNTRY_1.describe()\n",
    "\n",
    "# Perform basic descriptive analysis for Country Vaccinations dataset"
   ]
  },
  {
   "cell_type": "markdown",
   "metadata": {},
   "source": [
    "## Imputing Mean values for the columns having missing values in the Countries Vaccination dataset"
   ]
  },
  {
   "cell_type": "code",
   "execution_count": 18,
   "metadata": {},
   "outputs": [],
   "source": [
    "df_VACC_COUNTRY_1['total_vaccinations'].fillna(1094522.96, inplace=True)\n",
    "\n",
    "# Imputing the missing values with the mean value of the variable 'total_vaccinations'"
   ]
  },
  {
   "cell_type": "code",
   "execution_count": 20,
   "metadata": {},
   "outputs": [],
   "source": [
    "df_VACC_COUNTRY_1['people_vaccinated'].fillna(5341596.08, inplace=True)\n",
    "\n",
    "# Imputing the missing values with the mean value of the variable 'people_vaccinated'"
   ]
  },
  {
   "cell_type": "code",
   "execution_count": 22,
   "metadata": {},
   "outputs": [],
   "source": [
    "df_VACC_COUNTRY_1['people_fully_vaccinated'].fillna(3041823.96, inplace=True)\n",
    "\n",
    "# Imputing the missing values with the mean value of the variable 'people_fully_vaccinated'"
   ]
  },
  {
   "cell_type": "code",
   "execution_count": 23,
   "metadata": {},
   "outputs": [],
   "source": [
    "df_VACC_COUNTRY_1['daily_vaccinations'].fillna(112209.42, inplace=True)\n",
    "\n",
    "# Imputing the missing values with the mean value of the variable 'daily_vaccinations'"
   ]
  },
  {
   "cell_type": "code",
   "execution_count": 24,
   "metadata": {},
   "outputs": [],
   "source": [
    "df_VACC_COUNTRY_1['total_vaccinations_per_hundred'].fillna(27.29, inplace=True)\n",
    "\n",
    "# Imputing the missing values with the mean value of the variable 'total_vaccinations_per_hundred'"
   ]
  },
  {
   "cell_type": "code",
   "execution_count": 25,
   "metadata": {},
   "outputs": [],
   "source": [
    "df_VACC_COUNTRY_1['people_fully_vaccinated_per_hundred'].fillna(11.26, inplace=True)\n",
    "\n",
    "# Imputing the missing values with the mean value of the variable 'people_fully_vaccinated_per_hundred'"
   ]
  },
  {
   "cell_type": "code",
   "execution_count": 26,
   "metadata": {},
   "outputs": [],
   "source": [
    "df_VACC_COUNTRY_1['daily_vaccinations_per_million'].fillna(3376.55, inplace=True)\n",
    "\n",
    "# Imputing the missing values with the mean value of the variable 'daily_vaccinations_per_million'"
   ]
  },
  {
   "cell_type": "code",
   "execution_count": 31,
   "metadata": {},
   "outputs": [
    {
     "data": {
      "text/plain": [
       "0    3376.55\n",
       "1      35.00\n",
       "2      35.00\n",
       "3      35.00\n",
       "4      35.00\n",
       "Name: daily_vaccinations_per_million, dtype: float64"
      ]
     },
     "execution_count": 31,
     "metadata": {},
     "output_type": "execute_result"
    }
   ],
   "source": [
    "df_VACC_COUNTRY_1['daily_vaccinations_per_million'].head()"
   ]
  },
  {
   "cell_type": "code",
   "execution_count": 32,
   "metadata": {},
   "outputs": [
    {
     "data": {
      "text/plain": [
       "location              0\n",
       "date                  0\n",
       "vaccine               0\n",
       "total_vaccinations    0\n",
       "dtype: int64"
      ]
     },
     "execution_count": 32,
     "metadata": {},
     "output_type": "execute_result"
    }
   ],
   "source": [
    "df_VACC_MANUFAC.isnull().sum()\n",
    "\n",
    "# Checking for missing values in the Country Vaccinations by Manufacturer dataset"
   ]
  },
  {
   "cell_type": "markdown",
   "metadata": {},
   "source": [
    "## No missing values found in the Country Vaccinations by Manufacturer dataset"
   ]
  },
  {
   "cell_type": "markdown",
   "metadata": {},
   "source": [
    "## 3.Check for Duplicates"
   ]
  },
  {
   "cell_type": "code",
   "execution_count": 33,
   "metadata": {},
   "outputs": [],
   "source": [
    "df_dups_1=df_VACC_COUNTRY_1[df_VACC_COUNTRY_1.duplicated()]\n",
    "\n",
    "# Creating a new subset of Country Vaccinations dataset which only contain its duplicate values "
   ]
  },
  {
   "cell_type": "code",
   "execution_count": 34,
   "metadata": {},
   "outputs": [
    {
     "data": {
      "text/html": [
       "<div>\n",
       "<style scoped>\n",
       "    .dataframe tbody tr th:only-of-type {\n",
       "        vertical-align: middle;\n",
       "    }\n",
       "\n",
       "    .dataframe tbody tr th {\n",
       "        vertical-align: top;\n",
       "    }\n",
       "\n",
       "    .dataframe thead th {\n",
       "        text-align: right;\n",
       "    }\n",
       "</style>\n",
       "<table border=\"1\" class=\"dataframe\">\n",
       "  <thead>\n",
       "    <tr style=\"text-align: right;\">\n",
       "      <th></th>\n",
       "      <th>country</th>\n",
       "      <th>iso_code</th>\n",
       "      <th>date</th>\n",
       "      <th>total_vaccinations</th>\n",
       "      <th>people_vaccinated</th>\n",
       "      <th>people_fully_vaccinated</th>\n",
       "      <th>daily_vaccinations</th>\n",
       "      <th>total_vaccinations_per_hundred</th>\n",
       "      <th>people_fully_vaccinated_per_hundred</th>\n",
       "      <th>daily_vaccinations_per_million</th>\n",
       "      <th>vaccines</th>\n",
       "    </tr>\n",
       "  </thead>\n",
       "  <tbody>\n",
       "  </tbody>\n",
       "</table>\n",
       "</div>"
      ],
      "text/plain": [
       "Empty DataFrame\n",
       "Columns: [country, iso_code, date, total_vaccinations, people_vaccinated, people_fully_vaccinated, daily_vaccinations, total_vaccinations_per_hundred, people_fully_vaccinated_per_hundred, daily_vaccinations_per_million, vaccines]\n",
       "Index: []"
      ]
     },
     "execution_count": 34,
     "metadata": {},
     "output_type": "execute_result"
    }
   ],
   "source": [
    "df_dups_1.head()"
   ]
  },
  {
   "cell_type": "code",
   "execution_count": 35,
   "metadata": {},
   "outputs": [],
   "source": [
    "df_dups_2=df_VACC_MANUFAC[df_VACC_MANUFAC.duplicated()]\n",
    "\n",
    "# Creating a new subset of Country Vaccinations by Manufacturer dataset which only contain its duplicate values "
   ]
  },
  {
   "cell_type": "code",
   "execution_count": 36,
   "metadata": {},
   "outputs": [
    {
     "data": {
      "text/html": [
       "<div>\n",
       "<style scoped>\n",
       "    .dataframe tbody tr th:only-of-type {\n",
       "        vertical-align: middle;\n",
       "    }\n",
       "\n",
       "    .dataframe tbody tr th {\n",
       "        vertical-align: top;\n",
       "    }\n",
       "\n",
       "    .dataframe thead th {\n",
       "        text-align: right;\n",
       "    }\n",
       "</style>\n",
       "<table border=\"1\" class=\"dataframe\">\n",
       "  <thead>\n",
       "    <tr style=\"text-align: right;\">\n",
       "      <th></th>\n",
       "      <th>location</th>\n",
       "      <th>date</th>\n",
       "      <th>vaccine</th>\n",
       "      <th>total_vaccinations</th>\n",
       "    </tr>\n",
       "  </thead>\n",
       "  <tbody>\n",
       "  </tbody>\n",
       "</table>\n",
       "</div>"
      ],
      "text/plain": [
       "Empty DataFrame\n",
       "Columns: [location, date, vaccine, total_vaccinations]\n",
       "Index: []"
      ]
     },
     "execution_count": 36,
     "metadata": {},
     "output_type": "execute_result"
    }
   ],
   "source": [
    "df_dups_2.head()"
   ]
  },
  {
   "cell_type": "markdown",
   "metadata": {},
   "source": [
    "## No Duplicates found in both datasets"
   ]
  },
  {
   "cell_type": "markdown",
   "metadata": {},
   "source": [
    "# Basic Descriptive Statistics"
   ]
  },
  {
   "cell_type": "code",
   "execution_count": 37,
   "metadata": {},
   "outputs": [
    {
     "data": {
      "text/html": [
       "<div>\n",
       "<style scoped>\n",
       "    .dataframe tbody tr th:only-of-type {\n",
       "        vertical-align: middle;\n",
       "    }\n",
       "\n",
       "    .dataframe tbody tr th {\n",
       "        vertical-align: top;\n",
       "    }\n",
       "\n",
       "    .dataframe thead th {\n",
       "        text-align: right;\n",
       "    }\n",
       "</style>\n",
       "<table border=\"1\" class=\"dataframe\">\n",
       "  <thead>\n",
       "    <tr style=\"text-align: right;\">\n",
       "      <th></th>\n",
       "      <th>total_vaccinations</th>\n",
       "      <th>people_vaccinated</th>\n",
       "      <th>people_fully_vaccinated</th>\n",
       "      <th>daily_vaccinations</th>\n",
       "      <th>total_vaccinations_per_hundred</th>\n",
       "      <th>people_fully_vaccinated_per_hundred</th>\n",
       "      <th>daily_vaccinations_per_million</th>\n",
       "    </tr>\n",
       "  </thead>\n",
       "  <tbody>\n",
       "    <tr>\n",
       "      <th>count</th>\n",
       "      <td>2.941200e+04</td>\n",
       "      <td>2.941200e+04</td>\n",
       "      <td>2.941200e+04</td>\n",
       "      <td>2.941200e+04</td>\n",
       "      <td>29412.000000</td>\n",
       "      <td>29412.000000</td>\n",
       "      <td>29412.000000</td>\n",
       "    </tr>\n",
       "    <tr>\n",
       "      <th>mean</th>\n",
       "      <td>6.584885e+06</td>\n",
       "      <td>5.341596e+06</td>\n",
       "      <td>3.041824e+06</td>\n",
       "      <td>1.122094e+05</td>\n",
       "      <td>27.292648</td>\n",
       "      <td>11.261214</td>\n",
       "      <td>3376.552446</td>\n",
       "    </tr>\n",
       "    <tr>\n",
       "      <th>std</th>\n",
       "      <td>4.439231e+07</td>\n",
       "      <td>1.453254e+07</td>\n",
       "      <td>7.785826e+06</td>\n",
       "      <td>8.404234e+05</td>\n",
       "      <td>24.925872</td>\n",
       "      <td>9.842172</td>\n",
       "      <td>4469.910073</td>\n",
       "    </tr>\n",
       "    <tr>\n",
       "      <th>min</th>\n",
       "      <td>0.000000e+00</td>\n",
       "      <td>0.000000e+00</td>\n",
       "      <td>1.000000e+00</td>\n",
       "      <td>0.000000e+00</td>\n",
       "      <td>0.000000</td>\n",
       "      <td>0.000000</td>\n",
       "      <td>0.000000</td>\n",
       "    </tr>\n",
       "    <tr>\n",
       "      <th>25%</th>\n",
       "      <td>5.935905e+05</td>\n",
       "      <td>5.037772e+05</td>\n",
       "      <td>5.070498e+05</td>\n",
       "      <td>8.540000e+02</td>\n",
       "      <td>10.090000</td>\n",
       "      <td>7.000000</td>\n",
       "      <td>400.000000</td>\n",
       "    </tr>\n",
       "    <tr>\n",
       "      <th>50%</th>\n",
       "      <td>1.094523e+06</td>\n",
       "      <td>5.341596e+06</td>\n",
       "      <td>3.041824e+06</td>\n",
       "      <td>6.588500e+03</td>\n",
       "      <td>27.290000</td>\n",
       "      <td>11.260000</td>\n",
       "      <td>1838.000000</td>\n",
       "    </tr>\n",
       "    <tr>\n",
       "      <th>75%</th>\n",
       "      <td>1.120357e+06</td>\n",
       "      <td>5.341596e+06</td>\n",
       "      <td>3.041824e+06</td>\n",
       "      <td>3.631750e+04</td>\n",
       "      <td>27.290000</td>\n",
       "      <td>11.260000</td>\n",
       "      <td>5001.250000</td>\n",
       "    </tr>\n",
       "    <tr>\n",
       "      <th>max</th>\n",
       "      <td>1.331669e+09</td>\n",
       "      <td>6.220000e+08</td>\n",
       "      <td>2.232990e+08</td>\n",
       "      <td>2.242429e+07</td>\n",
       "      <td>231.890000</td>\n",
       "      <td>115.360000</td>\n",
       "      <td>118759.000000</td>\n",
       "    </tr>\n",
       "  </tbody>\n",
       "</table>\n",
       "</div>"
      ],
      "text/plain": [
       "       total_vaccinations  people_vaccinated  people_fully_vaccinated  \\\n",
       "count        2.941200e+04       2.941200e+04             2.941200e+04   \n",
       "mean         6.584885e+06       5.341596e+06             3.041824e+06   \n",
       "std          4.439231e+07       1.453254e+07             7.785826e+06   \n",
       "min          0.000000e+00       0.000000e+00             1.000000e+00   \n",
       "25%          5.935905e+05       5.037772e+05             5.070498e+05   \n",
       "50%          1.094523e+06       5.341596e+06             3.041824e+06   \n",
       "75%          1.120357e+06       5.341596e+06             3.041824e+06   \n",
       "max          1.331669e+09       6.220000e+08             2.232990e+08   \n",
       "\n",
       "       daily_vaccinations  total_vaccinations_per_hundred  \\\n",
       "count        2.941200e+04                    29412.000000   \n",
       "mean         1.122094e+05                       27.292648   \n",
       "std          8.404234e+05                       24.925872   \n",
       "min          0.000000e+00                        0.000000   \n",
       "25%          8.540000e+02                       10.090000   \n",
       "50%          6.588500e+03                       27.290000   \n",
       "75%          3.631750e+04                       27.290000   \n",
       "max          2.242429e+07                      231.890000   \n",
       "\n",
       "       people_fully_vaccinated_per_hundred  daily_vaccinations_per_million  \n",
       "count                         29412.000000                    29412.000000  \n",
       "mean                             11.261214                     3376.552446  \n",
       "std                               9.842172                     4469.910073  \n",
       "min                               0.000000                        0.000000  \n",
       "25%                               7.000000                      400.000000  \n",
       "50%                              11.260000                     1838.000000  \n",
       "75%                              11.260000                     5001.250000  \n",
       "max                             115.360000                   118759.000000  "
      ]
     },
     "execution_count": 37,
     "metadata": {},
     "output_type": "execute_result"
    }
   ],
   "source": [
    "df_VACC_COUNTRY_1.describe()\n",
    "\n",
    "# Perform basic descriptive analysis for Country Vaccinations dataset"
   ]
  },
  {
   "cell_type": "code",
   "execution_count": 39,
   "metadata": {},
   "outputs": [
    {
     "data": {
      "text/html": [
       "<div>\n",
       "<style scoped>\n",
       "    .dataframe tbody tr th:only-of-type {\n",
       "        vertical-align: middle;\n",
       "    }\n",
       "\n",
       "    .dataframe tbody tr th {\n",
       "        vertical-align: top;\n",
       "    }\n",
       "\n",
       "    .dataframe thead th {\n",
       "        text-align: right;\n",
       "    }\n",
       "</style>\n",
       "<table border=\"1\" class=\"dataframe\">\n",
       "  <thead>\n",
       "    <tr style=\"text-align: right;\">\n",
       "      <th></th>\n",
       "      <th>total_vaccinations</th>\n",
       "    </tr>\n",
       "  </thead>\n",
       "  <tbody>\n",
       "    <tr>\n",
       "      <th>count</th>\n",
       "      <td>8.638000e+03</td>\n",
       "    </tr>\n",
       "    <tr>\n",
       "      <th>mean</th>\n",
       "      <td>5.612332e+06</td>\n",
       "    </tr>\n",
       "    <tr>\n",
       "      <th>std</th>\n",
       "      <td>2.013875e+07</td>\n",
       "    </tr>\n",
       "    <tr>\n",
       "      <th>min</th>\n",
       "      <td>0.000000e+00</td>\n",
       "    </tr>\n",
       "    <tr>\n",
       "      <th>25%</th>\n",
       "      <td>3.660050e+04</td>\n",
       "    </tr>\n",
       "    <tr>\n",
       "      <th>50%</th>\n",
       "      <td>3.047565e+05</td>\n",
       "    </tr>\n",
       "    <tr>\n",
       "      <th>75%</th>\n",
       "      <td>2.106189e+06</td>\n",
       "    </tr>\n",
       "    <tr>\n",
       "      <th>max</th>\n",
       "      <td>1.829201e+08</td>\n",
       "    </tr>\n",
       "  </tbody>\n",
       "</table>\n",
       "</div>"
      ],
      "text/plain": [
       "       total_vaccinations\n",
       "count        8.638000e+03\n",
       "mean         5.612332e+06\n",
       "std          2.013875e+07\n",
       "min          0.000000e+00\n",
       "25%          3.660050e+04\n",
       "50%          3.047565e+05\n",
       "75%          2.106189e+06\n",
       "max          1.829201e+08"
      ]
     },
     "execution_count": 39,
     "metadata": {},
     "output_type": "execute_result"
    }
   ],
   "source": [
    "df_VACC_MANUFAC.describe()\n",
    "\n",
    "# Perform basic descriptive analysis for Country Vaccinations by Manufacturer dataset"
   ]
  },
  {
   "cell_type": "markdown",
   "metadata": {},
   "source": [
    "# Exporting the cleaned dataset - Country Vaccinations"
   ]
  },
  {
   "cell_type": "code",
   "execution_count": 38,
   "metadata": {},
   "outputs": [],
   "source": [
    "df_VACC_COUNTRY_1.to_csv(os.path.join(path, 'country_vaccinations_cleaned.csv'))"
   ]
  },
  {
   "cell_type": "code",
   "execution_count": null,
   "metadata": {},
   "outputs": [],
   "source": []
  }
 ],
 "metadata": {
  "kernelspec": {
   "display_name": "Python 3",
   "language": "python",
   "name": "python3"
  },
  "language_info": {
   "codemirror_mode": {
    "name": "ipython",
    "version": 3
   },
   "file_extension": ".py",
   "mimetype": "text/x-python",
   "name": "python",
   "nbconvert_exporter": "python",
   "pygments_lexer": "ipython3",
   "version": "3.9.6"
  }
 },
 "nbformat": 4,
 "nbformat_minor": 4
}
