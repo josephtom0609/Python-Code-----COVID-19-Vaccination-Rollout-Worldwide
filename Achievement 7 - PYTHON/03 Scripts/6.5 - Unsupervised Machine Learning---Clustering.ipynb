{
 "cells": [
  {
   "cell_type": "markdown",
   "metadata": {},
   "source": [
    "# Task 1 - Install and import all necessary libraries in your Jupyter notebook"
   ]
  },
  {
   "cell_type": "code",
   "execution_count": 1,
   "metadata": {},
   "outputs": [],
   "source": [
    "import pandas as pd\n",
    "import numpy as np\n",
    "import seaborn as sns\n",
    "import matplotlib\n",
    "import matplotlib.pyplot as plt\n",
    "import os\n",
    "import sklearn\n",
    "from sklearn.cluster import KMeans # To import the k-means algorithm from scikit-learn.\n",
    "import pylab as pl                 # PyLab is a convenience module that bulk imports matplotlib."
   ]
  },
  {
   "cell_type": "code",
   "execution_count": 2,
   "metadata": {},
   "outputs": [],
   "source": [
    "# Graphs created are displayed in your notebook without the need to \"call\" them specifically.\n",
    "\n",
    "%matplotlib inline"
   ]
  },
  {
   "cell_type": "markdown",
   "metadata": {},
   "source": [
    "# Task 2 - Import your data and conduct any necessary cleaning, manipulations, and reprocessing (such as renaming)."
   ]
  },
  {
   "cell_type": "code",
   "execution_count": 3,
   "metadata": {},
   "outputs": [],
   "source": [
    "# Assigning local folder path of dataset to a variable\n",
    "\n",
    "path=r'C:\\Users\\LENOVO\\Desktop\\CF - Data Analytics\\Achievement 7\\Achievement 7 - PYTHON'"
   ]
  },
  {
   "cell_type": "code",
   "execution_count": 4,
   "metadata": {},
   "outputs": [],
   "source": [
    "# Importing dataset - Country Vaccinations\n",
    "\n",
    "df_vacc_country=pd.read_csv(os.path.join(path, '02 Data', 'Prepared Data', 'country_vaccinations_cleaned.csv'), index_col=False)"
   ]
  },
  {
   "cell_type": "code",
   "execution_count": 5,
   "metadata": {},
   "outputs": [
    {
     "data": {
      "text/html": [
       "<div>\n",
       "<style scoped>\n",
       "    .dataframe tbody tr th:only-of-type {\n",
       "        vertical-align: middle;\n",
       "    }\n",
       "\n",
       "    .dataframe tbody tr th {\n",
       "        vertical-align: top;\n",
       "    }\n",
       "\n",
       "    .dataframe thead th {\n",
       "        text-align: right;\n",
       "    }\n",
       "</style>\n",
       "<table border=\"1\" class=\"dataframe\">\n",
       "  <thead>\n",
       "    <tr style=\"text-align: right;\">\n",
       "      <th></th>\n",
       "      <th>Unnamed: 0</th>\n",
       "      <th>country</th>\n",
       "      <th>iso_code</th>\n",
       "      <th>date</th>\n",
       "      <th>total_vaccinations</th>\n",
       "      <th>people_vaccinated</th>\n",
       "      <th>people_fully_vaccinated</th>\n",
       "      <th>daily_vaccinations</th>\n",
       "      <th>total_vaccinations_per_hundred</th>\n",
       "      <th>people_fully_vaccinated_per_hundred</th>\n",
       "      <th>daily_vaccinations_per_million</th>\n",
       "      <th>vaccines</th>\n",
       "    </tr>\n",
       "  </thead>\n",
       "  <tbody>\n",
       "    <tr>\n",
       "      <th>0</th>\n",
       "      <td>0</td>\n",
       "      <td>Afghanistan</td>\n",
       "      <td>AFG</td>\n",
       "      <td>22/02/2021</td>\n",
       "      <td>0.00</td>\n",
       "      <td>0.00</td>\n",
       "      <td>3041823.96</td>\n",
       "      <td>112209.42</td>\n",
       "      <td>0.00</td>\n",
       "      <td>11.26</td>\n",
       "      <td>3376.55</td>\n",
       "      <td>Oxford/AstraZeneca, Pfizer/BioNTech, Sinopharm...</td>\n",
       "    </tr>\n",
       "    <tr>\n",
       "      <th>1</th>\n",
       "      <td>1</td>\n",
       "      <td>Afghanistan</td>\n",
       "      <td>AFG</td>\n",
       "      <td>23/02/2021</td>\n",
       "      <td>1094522.96</td>\n",
       "      <td>5341596.08</td>\n",
       "      <td>3041823.96</td>\n",
       "      <td>1367.00</td>\n",
       "      <td>27.29</td>\n",
       "      <td>11.26</td>\n",
       "      <td>35.00</td>\n",
       "      <td>Oxford/AstraZeneca, Pfizer/BioNTech, Sinopharm...</td>\n",
       "    </tr>\n",
       "    <tr>\n",
       "      <th>2</th>\n",
       "      <td>2</td>\n",
       "      <td>Afghanistan</td>\n",
       "      <td>AFG</td>\n",
       "      <td>24/02/2021</td>\n",
       "      <td>1094522.96</td>\n",
       "      <td>5341596.08</td>\n",
       "      <td>3041823.96</td>\n",
       "      <td>1367.00</td>\n",
       "      <td>27.29</td>\n",
       "      <td>11.26</td>\n",
       "      <td>35.00</td>\n",
       "      <td>Oxford/AstraZeneca, Pfizer/BioNTech, Sinopharm...</td>\n",
       "    </tr>\n",
       "    <tr>\n",
       "      <th>3</th>\n",
       "      <td>3</td>\n",
       "      <td>Afghanistan</td>\n",
       "      <td>AFG</td>\n",
       "      <td>25/02/2021</td>\n",
       "      <td>1094522.96</td>\n",
       "      <td>5341596.08</td>\n",
       "      <td>3041823.96</td>\n",
       "      <td>1367.00</td>\n",
       "      <td>27.29</td>\n",
       "      <td>11.26</td>\n",
       "      <td>35.00</td>\n",
       "      <td>Oxford/AstraZeneca, Pfizer/BioNTech, Sinopharm...</td>\n",
       "    </tr>\n",
       "    <tr>\n",
       "      <th>4</th>\n",
       "      <td>4</td>\n",
       "      <td>Afghanistan</td>\n",
       "      <td>AFG</td>\n",
       "      <td>26/02/2021</td>\n",
       "      <td>1094522.96</td>\n",
       "      <td>5341596.08</td>\n",
       "      <td>3041823.96</td>\n",
       "      <td>1367.00</td>\n",
       "      <td>27.29</td>\n",
       "      <td>11.26</td>\n",
       "      <td>35.00</td>\n",
       "      <td>Oxford/AstraZeneca, Pfizer/BioNTech, Sinopharm...</td>\n",
       "    </tr>\n",
       "  </tbody>\n",
       "</table>\n",
       "</div>"
      ],
      "text/plain": [
       "   Unnamed: 0      country iso_code        date  total_vaccinations  \\\n",
       "0           0  Afghanistan      AFG  22/02/2021                0.00   \n",
       "1           1  Afghanistan      AFG  23/02/2021          1094522.96   \n",
       "2           2  Afghanistan      AFG  24/02/2021          1094522.96   \n",
       "3           3  Afghanistan      AFG  25/02/2021          1094522.96   \n",
       "4           4  Afghanistan      AFG  26/02/2021          1094522.96   \n",
       "\n",
       "   people_vaccinated  people_fully_vaccinated  daily_vaccinations  \\\n",
       "0               0.00               3041823.96           112209.42   \n",
       "1         5341596.08               3041823.96             1367.00   \n",
       "2         5341596.08               3041823.96             1367.00   \n",
       "3         5341596.08               3041823.96             1367.00   \n",
       "4         5341596.08               3041823.96             1367.00   \n",
       "\n",
       "   total_vaccinations_per_hundred  people_fully_vaccinated_per_hundred  \\\n",
       "0                            0.00                                11.26   \n",
       "1                           27.29                                11.26   \n",
       "2                           27.29                                11.26   \n",
       "3                           27.29                                11.26   \n",
       "4                           27.29                                11.26   \n",
       "\n",
       "   daily_vaccinations_per_million  \\\n",
       "0                         3376.55   \n",
       "1                           35.00   \n",
       "2                           35.00   \n",
       "3                           35.00   \n",
       "4                           35.00   \n",
       "\n",
       "                                            vaccines  \n",
       "0  Oxford/AstraZeneca, Pfizer/BioNTech, Sinopharm...  \n",
       "1  Oxford/AstraZeneca, Pfizer/BioNTech, Sinopharm...  \n",
       "2  Oxford/AstraZeneca, Pfizer/BioNTech, Sinopharm...  \n",
       "3  Oxford/AstraZeneca, Pfizer/BioNTech, Sinopharm...  \n",
       "4  Oxford/AstraZeneca, Pfizer/BioNTech, Sinopharm...  "
      ]
     },
     "execution_count": 5,
     "metadata": {},
     "output_type": "execute_result"
    }
   ],
   "source": [
    "df_vacc_country.head()"
   ]
  },
  {
   "cell_type": "code",
   "execution_count": 6,
   "metadata": {},
   "outputs": [
    {
     "data": {
      "text/plain": [
       "Index(['Unnamed: 0', 'country', 'iso_code', 'date', 'total_vaccinations',\n",
       "       'people_vaccinated', 'people_fully_vaccinated', 'daily_vaccinations',\n",
       "       'total_vaccinations_per_hundred', 'people_fully_vaccinated_per_hundred',\n",
       "       'daily_vaccinations_per_million', 'vaccines'],\n",
       "      dtype='object')"
      ]
     },
     "execution_count": 6,
     "metadata": {},
     "output_type": "execute_result"
    }
   ],
   "source": [
    "df_vacc_country.columns"
   ]
  },
  {
   "cell_type": "code",
   "execution_count": 7,
   "metadata": {},
   "outputs": [],
   "source": [
    "# Renaming long columns names into a shorter one\n",
    "\n",
    "df_vacc_country_1 = df_vacc_country.rename(columns = {'total_vaccinations' : 'total_vaccs', 'people_vaccinated' : 'ppl_vaccd', 'daily_vaccinations' : 'daily_vaccs', 'people_fully_vaccinated' : 'ppl_fully_vaccd', 'total_vaccinations_per_hundred' : 'total_vaccs_per_100', 'people_fully_vaccinated_per_hundred' : 'ppl_fully_vaccd_per_100', 'daily_vaccinations_per_million' : 'daily_vaccs_per_million'})"
   ]
  },
  {
   "cell_type": "code",
   "execution_count": 8,
   "metadata": {},
   "outputs": [
    {
     "data": {
      "text/html": [
       "<div>\n",
       "<style scoped>\n",
       "    .dataframe tbody tr th:only-of-type {\n",
       "        vertical-align: middle;\n",
       "    }\n",
       "\n",
       "    .dataframe tbody tr th {\n",
       "        vertical-align: top;\n",
       "    }\n",
       "\n",
       "    .dataframe thead th {\n",
       "        text-align: right;\n",
       "    }\n",
       "</style>\n",
       "<table border=\"1\" class=\"dataframe\">\n",
       "  <thead>\n",
       "    <tr style=\"text-align: right;\">\n",
       "      <th></th>\n",
       "      <th>Unnamed: 0</th>\n",
       "      <th>country</th>\n",
       "      <th>iso_code</th>\n",
       "      <th>date</th>\n",
       "      <th>total_vaccs</th>\n",
       "      <th>ppl_vaccd</th>\n",
       "      <th>ppl_fully_vaccd</th>\n",
       "      <th>daily_vaccs</th>\n",
       "      <th>total_vaccs_per_100</th>\n",
       "      <th>ppl_fully_vaccd_per_100</th>\n",
       "      <th>daily_vaccs_per_million</th>\n",
       "      <th>vaccines</th>\n",
       "    </tr>\n",
       "  </thead>\n",
       "  <tbody>\n",
       "    <tr>\n",
       "      <th>0</th>\n",
       "      <td>0</td>\n",
       "      <td>Afghanistan</td>\n",
       "      <td>AFG</td>\n",
       "      <td>22/02/2021</td>\n",
       "      <td>0.00</td>\n",
       "      <td>0.00</td>\n",
       "      <td>3041823.96</td>\n",
       "      <td>112209.42</td>\n",
       "      <td>0.00</td>\n",
       "      <td>11.26</td>\n",
       "      <td>3376.55</td>\n",
       "      <td>Oxford/AstraZeneca, Pfizer/BioNTech, Sinopharm...</td>\n",
       "    </tr>\n",
       "    <tr>\n",
       "      <th>1</th>\n",
       "      <td>1</td>\n",
       "      <td>Afghanistan</td>\n",
       "      <td>AFG</td>\n",
       "      <td>23/02/2021</td>\n",
       "      <td>1094522.96</td>\n",
       "      <td>5341596.08</td>\n",
       "      <td>3041823.96</td>\n",
       "      <td>1367.00</td>\n",
       "      <td>27.29</td>\n",
       "      <td>11.26</td>\n",
       "      <td>35.00</td>\n",
       "      <td>Oxford/AstraZeneca, Pfizer/BioNTech, Sinopharm...</td>\n",
       "    </tr>\n",
       "    <tr>\n",
       "      <th>2</th>\n",
       "      <td>2</td>\n",
       "      <td>Afghanistan</td>\n",
       "      <td>AFG</td>\n",
       "      <td>24/02/2021</td>\n",
       "      <td>1094522.96</td>\n",
       "      <td>5341596.08</td>\n",
       "      <td>3041823.96</td>\n",
       "      <td>1367.00</td>\n",
       "      <td>27.29</td>\n",
       "      <td>11.26</td>\n",
       "      <td>35.00</td>\n",
       "      <td>Oxford/AstraZeneca, Pfizer/BioNTech, Sinopharm...</td>\n",
       "    </tr>\n",
       "    <tr>\n",
       "      <th>3</th>\n",
       "      <td>3</td>\n",
       "      <td>Afghanistan</td>\n",
       "      <td>AFG</td>\n",
       "      <td>25/02/2021</td>\n",
       "      <td>1094522.96</td>\n",
       "      <td>5341596.08</td>\n",
       "      <td>3041823.96</td>\n",
       "      <td>1367.00</td>\n",
       "      <td>27.29</td>\n",
       "      <td>11.26</td>\n",
       "      <td>35.00</td>\n",
       "      <td>Oxford/AstraZeneca, Pfizer/BioNTech, Sinopharm...</td>\n",
       "    </tr>\n",
       "    <tr>\n",
       "      <th>4</th>\n",
       "      <td>4</td>\n",
       "      <td>Afghanistan</td>\n",
       "      <td>AFG</td>\n",
       "      <td>26/02/2021</td>\n",
       "      <td>1094522.96</td>\n",
       "      <td>5341596.08</td>\n",
       "      <td>3041823.96</td>\n",
       "      <td>1367.00</td>\n",
       "      <td>27.29</td>\n",
       "      <td>11.26</td>\n",
       "      <td>35.00</td>\n",
       "      <td>Oxford/AstraZeneca, Pfizer/BioNTech, Sinopharm...</td>\n",
       "    </tr>\n",
       "  </tbody>\n",
       "</table>\n",
       "</div>"
      ],
      "text/plain": [
       "   Unnamed: 0      country iso_code        date  total_vaccs   ppl_vaccd  \\\n",
       "0           0  Afghanistan      AFG  22/02/2021         0.00        0.00   \n",
       "1           1  Afghanistan      AFG  23/02/2021   1094522.96  5341596.08   \n",
       "2           2  Afghanistan      AFG  24/02/2021   1094522.96  5341596.08   \n",
       "3           3  Afghanistan      AFG  25/02/2021   1094522.96  5341596.08   \n",
       "4           4  Afghanistan      AFG  26/02/2021   1094522.96  5341596.08   \n",
       "\n",
       "   ppl_fully_vaccd  daily_vaccs  total_vaccs_per_100  ppl_fully_vaccd_per_100  \\\n",
       "0       3041823.96    112209.42                 0.00                    11.26   \n",
       "1       3041823.96      1367.00                27.29                    11.26   \n",
       "2       3041823.96      1367.00                27.29                    11.26   \n",
       "3       3041823.96      1367.00                27.29                    11.26   \n",
       "4       3041823.96      1367.00                27.29                    11.26   \n",
       "\n",
       "   daily_vaccs_per_million                                           vaccines  \n",
       "0                  3376.55  Oxford/AstraZeneca, Pfizer/BioNTech, Sinopharm...  \n",
       "1                    35.00  Oxford/AstraZeneca, Pfizer/BioNTech, Sinopharm...  \n",
       "2                    35.00  Oxford/AstraZeneca, Pfizer/BioNTech, Sinopharm...  \n",
       "3                    35.00  Oxford/AstraZeneca, Pfizer/BioNTech, Sinopharm...  \n",
       "4                    35.00  Oxford/AstraZeneca, Pfizer/BioNTech, Sinopharm...  "
      ]
     },
     "execution_count": 8,
     "metadata": {},
     "output_type": "execute_result"
    }
   ],
   "source": [
    "df_vacc_country_1.head()"
   ]
  },
  {
   "cell_type": "markdown",
   "metadata": {},
   "source": [
    "### Missing Values Check"
   ]
  },
  {
   "cell_type": "code",
   "execution_count": 9,
   "metadata": {},
   "outputs": [
    {
     "data": {
      "text/plain": [
       "Unnamed: 0                 0\n",
       "country                    0\n",
       "iso_code                   0\n",
       "date                       0\n",
       "total_vaccs                0\n",
       "ppl_vaccd                  0\n",
       "ppl_fully_vaccd            0\n",
       "daily_vaccs                0\n",
       "total_vaccs_per_100        0\n",
       "ppl_fully_vaccd_per_100    0\n",
       "daily_vaccs_per_million    0\n",
       "vaccines                   0\n",
       "dtype: int64"
      ]
     },
     "execution_count": 9,
     "metadata": {},
     "output_type": "execute_result"
    }
   ],
   "source": [
    "# Check for missing values\n",
    "\n",
    "df_vacc_country_1.isnull().sum()\n",
    "\n",
    "# No missing values to handle"
   ]
  },
  {
   "cell_type": "markdown",
   "metadata": {},
   "source": [
    "### Duplicates Check"
   ]
  },
  {
   "cell_type": "code",
   "execution_count": 13,
   "metadata": {},
   "outputs": [
    {
     "data": {
      "text/plain": [
       "(29412, 12)"
      ]
     },
     "execution_count": 13,
     "metadata": {},
     "output_type": "execute_result"
    }
   ],
   "source": [
    "df_vacc_country_1.shape"
   ]
  },
  {
   "cell_type": "code",
   "execution_count": 10,
   "metadata": {},
   "outputs": [],
   "source": [
    "dups = df_vacc_country_1.duplicated()"
   ]
  },
  {
   "cell_type": "code",
   "execution_count": 11,
   "metadata": {},
   "outputs": [
    {
     "data": {
      "text/plain": [
       "(29412,)"
      ]
     },
     "execution_count": 11,
     "metadata": {},
     "output_type": "execute_result"
    }
   ],
   "source": [
    "dups.shape  \n",
    "\n",
    "# NO DUPLICATES found"
   ]
  },
  {
   "cell_type": "markdown",
   "metadata": {},
   "source": [
    "### Dropping categorical columns"
   ]
  },
  {
   "cell_type": "code",
   "execution_count": 12,
   "metadata": {},
   "outputs": [],
   "source": [
    "df_vacc_country_2 = df_vacc_country_1.drop(columns=['country'])"
   ]
  },
  {
   "cell_type": "code",
   "execution_count": 13,
   "metadata": {},
   "outputs": [],
   "source": [
    "df_vacc_country_3 = df_vacc_country_2.drop(columns=['iso_code'])"
   ]
  },
  {
   "cell_type": "code",
   "execution_count": 14,
   "metadata": {},
   "outputs": [],
   "source": [
    "df_vacc_country_4 = df_vacc_country_3.drop(columns=['date'])"
   ]
  },
  {
   "cell_type": "code",
   "execution_count": 15,
   "metadata": {},
   "outputs": [],
   "source": [
    "df_vacc_country_5 = df_vacc_country_4.drop(columns=['vaccines'])"
   ]
  },
  {
   "cell_type": "code",
   "execution_count": 16,
   "metadata": {},
   "outputs": [],
   "source": [
    "df_vacc_country_6 = df_vacc_country_5.drop(columns=['Unnamed: 0'])"
   ]
  },
  {
   "cell_type": "code",
   "execution_count": 17,
   "metadata": {},
   "outputs": [
    {
     "data": {
      "text/html": [
       "<div>\n",
       "<style scoped>\n",
       "    .dataframe tbody tr th:only-of-type {\n",
       "        vertical-align: middle;\n",
       "    }\n",
       "\n",
       "    .dataframe tbody tr th {\n",
       "        vertical-align: top;\n",
       "    }\n",
       "\n",
       "    .dataframe thead th {\n",
       "        text-align: right;\n",
       "    }\n",
       "</style>\n",
       "<table border=\"1\" class=\"dataframe\">\n",
       "  <thead>\n",
       "    <tr style=\"text-align: right;\">\n",
       "      <th></th>\n",
       "      <th>total_vaccs</th>\n",
       "      <th>ppl_vaccd</th>\n",
       "      <th>ppl_fully_vaccd</th>\n",
       "      <th>daily_vaccs</th>\n",
       "      <th>total_vaccs_per_100</th>\n",
       "      <th>ppl_fully_vaccd_per_100</th>\n",
       "      <th>daily_vaccs_per_million</th>\n",
       "    </tr>\n",
       "  </thead>\n",
       "  <tbody>\n",
       "    <tr>\n",
       "      <th>0</th>\n",
       "      <td>0.00</td>\n",
       "      <td>0.00</td>\n",
       "      <td>3041823.96</td>\n",
       "      <td>112209.42</td>\n",
       "      <td>0.00</td>\n",
       "      <td>11.26</td>\n",
       "      <td>3376.55</td>\n",
       "    </tr>\n",
       "    <tr>\n",
       "      <th>1</th>\n",
       "      <td>1094522.96</td>\n",
       "      <td>5341596.08</td>\n",
       "      <td>3041823.96</td>\n",
       "      <td>1367.00</td>\n",
       "      <td>27.29</td>\n",
       "      <td>11.26</td>\n",
       "      <td>35.00</td>\n",
       "    </tr>\n",
       "    <tr>\n",
       "      <th>2</th>\n",
       "      <td>1094522.96</td>\n",
       "      <td>5341596.08</td>\n",
       "      <td>3041823.96</td>\n",
       "      <td>1367.00</td>\n",
       "      <td>27.29</td>\n",
       "      <td>11.26</td>\n",
       "      <td>35.00</td>\n",
       "    </tr>\n",
       "    <tr>\n",
       "      <th>3</th>\n",
       "      <td>1094522.96</td>\n",
       "      <td>5341596.08</td>\n",
       "      <td>3041823.96</td>\n",
       "      <td>1367.00</td>\n",
       "      <td>27.29</td>\n",
       "      <td>11.26</td>\n",
       "      <td>35.00</td>\n",
       "    </tr>\n",
       "    <tr>\n",
       "      <th>4</th>\n",
       "      <td>1094522.96</td>\n",
       "      <td>5341596.08</td>\n",
       "      <td>3041823.96</td>\n",
       "      <td>1367.00</td>\n",
       "      <td>27.29</td>\n",
       "      <td>11.26</td>\n",
       "      <td>35.00</td>\n",
       "    </tr>\n",
       "  </tbody>\n",
       "</table>\n",
       "</div>"
      ],
      "text/plain": [
       "   total_vaccs   ppl_vaccd  ppl_fully_vaccd  daily_vaccs  total_vaccs_per_100  \\\n",
       "0         0.00        0.00       3041823.96    112209.42                 0.00   \n",
       "1   1094522.96  5341596.08       3041823.96      1367.00                27.29   \n",
       "2   1094522.96  5341596.08       3041823.96      1367.00                27.29   \n",
       "3   1094522.96  5341596.08       3041823.96      1367.00                27.29   \n",
       "4   1094522.96  5341596.08       3041823.96      1367.00                27.29   \n",
       "\n",
       "   ppl_fully_vaccd_per_100  daily_vaccs_per_million  \n",
       "0                    11.26                  3376.55  \n",
       "1                    11.26                    35.00  \n",
       "2                    11.26                    35.00  \n",
       "3                    11.26                    35.00  \n",
       "4                    11.26                    35.00  "
      ]
     },
     "execution_count": 17,
     "metadata": {},
     "output_type": "execute_result"
    }
   ],
   "source": [
    "df_vacc_country_6.head()"
   ]
  },
  {
   "cell_type": "markdown",
   "metadata": {},
   "source": [
    "# Task 3 - Elbow Technique"
   ]
  },
  {
   "cell_type": "code",
   "execution_count": 18,
   "metadata": {},
   "outputs": [],
   "source": [
    "num_cl = range(1, 10) \n",
    "# Defines the range of potential clusters in the data.\n",
    "\n",
    "kmeans = [KMeans(n_clusters=i) for i in num_cl] \n",
    "# Defines k-means clusters in the range assigned above."
   ]
  },
  {
   "cell_type": "code",
   "execution_count": 19,
   "metadata": {},
   "outputs": [
    {
     "data": {
      "text/plain": [
       "[-6.59746678609608e+19,\n",
       " -2.671523906606642e+19,\n",
       " -9.797980069669202e+18,\n",
       " -6.971647657887863e+18,\n",
       " -5.121443525412522e+18,\n",
       " -4.01660584137382e+18,\n",
       " -3.2033140073034317e+18,\n",
       " -2.765365597069435e+18,\n",
       " -2.3374535116479846e+18]"
      ]
     },
     "execution_count": 19,
     "metadata": {},
     "output_type": "execute_result"
    }
   ],
   "source": [
    "score = [kmeans[i].fit(df_vacc_country_6).score(df_vacc_country_6) for i in range(len(kmeans))] \n",
    "# Creates a score that represents a rate of variation for the given cluster option.\n",
    "\n",
    "score"
   ]
  },
  {
   "cell_type": "code",
   "execution_count": 20,
   "metadata": {},
   "outputs": [
    {
     "data": {
      "image/png": "[encoded data removed]",
      "text/plain": [
       "<Figure size 432x288 with 1 Axes>"
      ]
     },
     "metadata": {
      "needs_background": "light"
     },
     "output_type": "display_data"
    }
   ],
   "source": [
    "# Plot the elbow curve using PyLab.\n",
    "\n",
    "pl.plot(num_cl,score)\n",
    "pl.xlabel('Number of Clusters')\n",
    "pl.ylabel('Score')\n",
    "pl.title('Elbow Curve')\n",
    "pl.show()"
   ]
  },
  {
   "cell_type": "markdown",
   "metadata": {},
   "source": [
    "# Task 4 - Make an informed decision about the number of clusters you’ll use in your k-means algorithm based on the chart."
   ]
  },
  {
   "cell_type": "markdown",
   "metadata": {},
   "source": [
    "#### There is a jump from 2 to 3 on the x-axis, but after that, the curve straightens out. This means that the optimal count for clusters is 3."
   ]
  },
  {
   "cell_type": "markdown",
   "metadata": {},
   "source": [
    "# Task 5 - Run the k-means algorithm"
   ]
  },
  {
   "cell_type": "code",
   "execution_count": 21,
   "metadata": {},
   "outputs": [],
   "source": [
    "# Create the k-means object.\n",
    "\n",
    "kmeans = KMeans(n_clusters = 3, n_jobs = -1)"
   ]
  },
  {
   "cell_type": "code",
   "execution_count": 22,
   "metadata": {},
   "outputs": [
    {
     "name": "stderr",
     "output_type": "stream",
     "text": [
      "C:\\Users\\LENOVO\\anaconda3\\lib\\site-packages\\sklearn\\cluster\\_kmeans.py:938: FutureWarning: 'n_jobs' was deprecated in version 0.23 and will be removed in 0.25.\n",
      "  warnings.warn(\"'n_jobs' was deprecated in version 0.23 and will be\"\n"
     ]
    },
    {
     "data": {
      "text/plain": [
       "KMeans(n_clusters=3, n_jobs=-1)"
      ]
     },
     "execution_count": 22,
     "metadata": {},
     "output_type": "execute_result"
    }
   ],
   "source": [
    "# Fit the k-means object to the data.\n",
    "\n",
    "kmeans.fit(df_vacc_country_6)"
   ]
  },
  {
   "cell_type": "markdown",
   "metadata": {},
   "source": [
    "# Task 6 - Attach a new column to your dataframe with the resulting clusters"
   ]
  },
  {
   "cell_type": "code",
   "execution_count": 23,
   "metadata": {},
   "outputs": [
    {
     "name": "stderr",
     "output_type": "stream",
     "text": [
      "C:\\Users\\LENOVO\\anaconda3\\lib\\site-packages\\sklearn\\cluster\\_kmeans.py:938: FutureWarning: 'n_jobs' was deprecated in version 0.23 and will be removed in 0.25.\n",
      "  warnings.warn(\"'n_jobs' was deprecated in version 0.23 and will be\"\n"
     ]
    }
   ],
   "source": [
    "df_vacc_country_6['clusters'] = kmeans.fit_predict(df_vacc_country_6)"
   ]
  },
  {
   "cell_type": "code",
   "execution_count": 24,
   "metadata": {},
   "outputs": [
    {
     "data": {
      "text/html": [
       "<div>\n",
       "<style scoped>\n",
       "    .dataframe tbody tr th:only-of-type {\n",
       "        vertical-align: middle;\n",
       "    }\n",
       "\n",
       "    .dataframe tbody tr th {\n",
       "        vertical-align: top;\n",
       "    }\n",
       "\n",
       "    .dataframe thead th {\n",
       "        text-align: right;\n",
       "    }\n",
       "</style>\n",
       "<table border=\"1\" class=\"dataframe\">\n",
       "  <thead>\n",
       "    <tr style=\"text-align: right;\">\n",
       "      <th></th>\n",
       "      <th>total_vaccs</th>\n",
       "      <th>ppl_vaccd</th>\n",
       "      <th>ppl_fully_vaccd</th>\n",
       "      <th>daily_vaccs</th>\n",
       "      <th>total_vaccs_per_100</th>\n",
       "      <th>ppl_fully_vaccd_per_100</th>\n",
       "      <th>daily_vaccs_per_million</th>\n",
       "      <th>clusters</th>\n",
       "    </tr>\n",
       "  </thead>\n",
       "  <tbody>\n",
       "    <tr>\n",
       "      <th>0</th>\n",
       "      <td>0.00</td>\n",
       "      <td>0.00</td>\n",
       "      <td>3041823.96</td>\n",
       "      <td>112209.42</td>\n",
       "      <td>0.00</td>\n",
       "      <td>11.26</td>\n",
       "      <td>3376.55</td>\n",
       "      <td>0</td>\n",
       "    </tr>\n",
       "    <tr>\n",
       "      <th>1</th>\n",
       "      <td>1094522.96</td>\n",
       "      <td>5341596.08</td>\n",
       "      <td>3041823.96</td>\n",
       "      <td>1367.00</td>\n",
       "      <td>27.29</td>\n",
       "      <td>11.26</td>\n",
       "      <td>35.00</td>\n",
       "      <td>0</td>\n",
       "    </tr>\n",
       "    <tr>\n",
       "      <th>2</th>\n",
       "      <td>1094522.96</td>\n",
       "      <td>5341596.08</td>\n",
       "      <td>3041823.96</td>\n",
       "      <td>1367.00</td>\n",
       "      <td>27.29</td>\n",
       "      <td>11.26</td>\n",
       "      <td>35.00</td>\n",
       "      <td>0</td>\n",
       "    </tr>\n",
       "    <tr>\n",
       "      <th>3</th>\n",
       "      <td>1094522.96</td>\n",
       "      <td>5341596.08</td>\n",
       "      <td>3041823.96</td>\n",
       "      <td>1367.00</td>\n",
       "      <td>27.29</td>\n",
       "      <td>11.26</td>\n",
       "      <td>35.00</td>\n",
       "      <td>0</td>\n",
       "    </tr>\n",
       "    <tr>\n",
       "      <th>4</th>\n",
       "      <td>1094522.96</td>\n",
       "      <td>5341596.08</td>\n",
       "      <td>3041823.96</td>\n",
       "      <td>1367.00</td>\n",
       "      <td>27.29</td>\n",
       "      <td>11.26</td>\n",
       "      <td>35.00</td>\n",
       "      <td>0</td>\n",
       "    </tr>\n",
       "  </tbody>\n",
       "</table>\n",
       "</div>"
      ],
      "text/plain": [
       "   total_vaccs   ppl_vaccd  ppl_fully_vaccd  daily_vaccs  total_vaccs_per_100  \\\n",
       "0         0.00        0.00       3041823.96    112209.42                 0.00   \n",
       "1   1094522.96  5341596.08       3041823.96      1367.00                27.29   \n",
       "2   1094522.96  5341596.08       3041823.96      1367.00                27.29   \n",
       "3   1094522.96  5341596.08       3041823.96      1367.00                27.29   \n",
       "4   1094522.96  5341596.08       3041823.96      1367.00                27.29   \n",
       "\n",
       "   ppl_fully_vaccd_per_100  daily_vaccs_per_million  clusters  \n",
       "0                    11.26                  3376.55         0  \n",
       "1                    11.26                    35.00         0  \n",
       "2                    11.26                    35.00         0  \n",
       "3                    11.26                    35.00         0  \n",
       "4                    11.26                    35.00         0  "
      ]
     },
     "execution_count": 24,
     "metadata": {},
     "output_type": "execute_result"
    }
   ],
   "source": [
    "df_vacc_country_6.head()"
   ]
  },
  {
   "cell_type": "code",
   "execution_count": 25,
   "metadata": {},
   "outputs": [
    {
     "data": {
      "text/plain": [
       "0    29139\n",
       "2      233\n",
       "1       40\n",
       "Name: clusters, dtype: int64"
      ]
     },
     "execution_count": 25,
     "metadata": {},
     "output_type": "execute_result"
    }
   ],
   "source": [
    "df_vacc_country_6['clusters'].value_counts()"
   ]
  },
  {
   "cell_type": "code",
   "execution_count": 26,
   "metadata": {},
   "outputs": [],
   "source": [
    "df_vacc_country_6.to_csv(os.path.join(path, '02 Data', 'Prepared Data', 'country_vaccs_clusters.csv'))"
   ]
  },
  {
   "cell_type": "markdown",
   "metadata": {},
   "source": [
    "# Task 7 - Create a few different visualizations (e.g., scatterplots) using your clustered data."
   ]
  },
  {
   "cell_type": "code",
   "execution_count": 33,
   "metadata": {},
   "outputs": [
    {
     "data": {
      "image/png": "[encoded data removed]",
      "text/plain": [
       "<Figure size 864x576 with 1 Axes>"
      ]
     },
     "metadata": {
      "needs_background": "light"
     },
     "output_type": "display_data"
    }
   ],
   "source": [
    "# Plot the clusters for the \"ppl_fully_vaccd\" and \"daily_vaccs\" variables.\n",
    "\n",
    "plt.figure(figsize=(12,8))\n",
    "ax = sns.scatterplot(x=df_vacc_country_6['daily_vaccs'], y=df_vacc_country_6['ppl_fully_vaccd'], hue=kmeans.labels_, s=100) \n",
    "\n",
    "ax.grid(False) # This removes the grid from the background.\n",
    "plt.xlabel('Daily Vaccinations') # Label x-axis.\n",
    "plt.ylabel('People Fully Vaccinated') # Label y-axis.\n",
    "plt.show()"
   ]
  },
  {
   "cell_type": "code",
   "execution_count": 34,
   "metadata": {},
   "outputs": [
    {
     "data": {
      "image/png": "[encoded data removed]",
      "text/plain": [
       "<Figure size 864x576 with 1 Axes>"
      ]
     },
     "metadata": {
      "needs_background": "light"
     },
     "output_type": "display_data"
    }
   ],
   "source": [
    "# Plot the clusters for the \"ppl_fully_vaccd_per_100\" and \"total_vaccs_per_100\" variables.\n",
    "\n",
    "plt.figure(figsize=(12,8))\n",
    "ax = sns.scatterplot(x=df_vacc_country_6['total_vaccs_per_100'], y=df_vacc_country_6['ppl_fully_vaccd_per_100'], hue=kmeans.labels_, s=100) \n",
    "\n",
    "ax.grid(False) # This removes the grid from the background.\n",
    "plt.xlabel('Total Vaccinations Per 100') # Label x-axis.\n",
    "plt.ylabel('People Fully Vaccinated Per 100') # Label y-axis.\n",
    "plt.show()"
   ]
  },
  {
   "cell_type": "markdown",
   "metadata": {},
   "source": [
    "# Task 8 - Discuss how and why the clusters make sense."
   ]
  },
  {
   "cell_type": "markdown",
   "metadata": {},
   "source": [
    "### For the 1st graph - 'Daily Vaccinations' vs 'People Fully Vaccinated', three different groups of clusters can be seen.\n",
    "\n",
    "### The 1st cluster of data points is denoted by light purple (0 in legend) and they represent the countries that have slight increased the number of daily vaccinations, but have only seen a small rise in the number of people being fully vaccinated.\n",
    "\n",
    "### The 2nd cluster of data points is denoted by medium purple (1 in legend) and they represent the countries that have significantly increased their daily number of vaccinations, but have only seen a small rise in the number of people being fully vaccinated.\n",
    "\n",
    "### The 3rd cluster of data points is denoted by dark purple (2 in legend) and they represent the countries that have increased their number of daily vaccinations and have seen a significant rise in the number of people being fully vaccinated.\n",
    "\n",
    "### The 3rd cluster of data points also represent a group of countries that have increased their number of daily vaccinations but only to see a small rise in the number of people being fully vaccinated. This does not make sense here as this group should be part of the 2nd cluster denoted by medium purple (1 in legend)."
   ]
  },
  {
   "cell_type": "markdown",
   "metadata": {},
   "source": [
    "### For the 2nd graph - 'Total Vaccinations per 100' vs 'People Fully Vaccinated per 100', two different groups of clusters can be seen.\n",
    "\n",
    "### The 1st cluster of data points (denoted by 0 - light purple) represents the countries that have significanlty increased their number of total vaccinations per 100 and this has resulted in a large increase in the number of people being fully vaccinated.\n",
    "\n",
    "### Another observation from this cluster that does not make sense is that it also shows a few countries that have not seen an increase in the number of people being fully vaccinated despite the significant increase in the number of total vaccinations per 100\n",
    "\n",
    "### The 2nd cluster of data points (denoted by 2 - dark purple) represents only the countries that have increased the number of total vaccinations per 100 and these countries have seen a significant rise in the number of people being fully vaccinated per 100"
   ]
  },
  {
   "cell_type": "markdown",
   "metadata": {},
   "source": [
    "# Task 9 - Calculate the descriptive statistics for your clusters using the groupby() function and discuss your findings."
   ]
  },
  {
   "cell_type": "code",
   "execution_count": 35,
   "metadata": {},
   "outputs": [],
   "source": [
    "df_vacc_country_6.loc[df_vacc_country_6['clusters'] == 2, 'cluster'] = 'dark purple'\n",
    "df_vacc_country_6.loc[df_vacc_country_6['clusters'] == 1, 'cluster'] = 'purple'\n",
    "df_vacc_country_6.loc[df_vacc_country_6['clusters'] == 0, 'cluster'] = 'pink'"
   ]
  },
  {
   "cell_type": "code",
   "execution_count": 36,
   "metadata": {},
   "outputs": [
    {
     "data": {
      "text/html": [
       "<div>\n",
       "<style scoped>\n",
       "    .dataframe tbody tr th:only-of-type {\n",
       "        vertical-align: middle;\n",
       "    }\n",
       "\n",
       "    .dataframe tbody tr th {\n",
       "        vertical-align: top;\n",
       "    }\n",
       "\n",
       "    .dataframe thead tr th {\n",
       "        text-align: left;\n",
       "    }\n",
       "\n",
       "    .dataframe thead tr:last-of-type th {\n",
       "        text-align: right;\n",
       "    }\n",
       "</style>\n",
       "<table border=\"1\" class=\"dataframe\">\n",
       "  <thead>\n",
       "    <tr>\n",
       "      <th></th>\n",
       "      <th colspan=\"2\" halign=\"left\">ppl_fully_vaccd</th>\n",
       "      <th colspan=\"2\" halign=\"left\">daily_vaccs</th>\n",
       "      <th colspan=\"2\" halign=\"left\">total_vaccs_per_100</th>\n",
       "      <th colspan=\"2\" halign=\"left\">ppl_fully_vaccd_per_100</th>\n",
       "    </tr>\n",
       "    <tr>\n",
       "      <th></th>\n",
       "      <th>mean</th>\n",
       "      <th>median</th>\n",
       "      <th>mean</th>\n",
       "      <th>median</th>\n",
       "      <th>mean</th>\n",
       "      <th>median</th>\n",
       "      <th>mean</th>\n",
       "      <th>median</th>\n",
       "    </tr>\n",
       "    <tr>\n",
       "      <th>cluster</th>\n",
       "      <th></th>\n",
       "      <th></th>\n",
       "      <th></th>\n",
       "      <th></th>\n",
       "      <th></th>\n",
       "      <th></th>\n",
       "      <th></th>\n",
       "      <th></th>\n",
       "    </tr>\n",
       "  </thead>\n",
       "  <tbody>\n",
       "    <tr>\n",
       "      <th>dark purple</th>\n",
       "      <td>6.486076e+07</td>\n",
       "      <td>49745316.00</td>\n",
       "      <td>3.542003e+06</td>\n",
       "      <td>2656575.0</td>\n",
       "      <td>44.070000</td>\n",
       "      <td>30.270</td>\n",
       "      <td>18.335751</td>\n",
       "      <td>11.26</td>\n",
       "    </tr>\n",
       "    <tr>\n",
       "      <th>pink</th>\n",
       "      <td>2.539951e+06</td>\n",
       "      <td>3041823.96</td>\n",
       "      <td>5.882161e+04</td>\n",
       "      <td>6335.0</td>\n",
       "      <td>27.103192</td>\n",
       "      <td>27.290</td>\n",
       "      <td>11.204501</td>\n",
       "      <td>11.26</td>\n",
       "    </tr>\n",
       "    <tr>\n",
       "      <th>purple</th>\n",
       "      <td>8.548253e+06</td>\n",
       "      <td>3041823.96</td>\n",
       "      <td>1.902535e+07</td>\n",
       "      <td>19062928.5</td>\n",
       "      <td>67.579000</td>\n",
       "      <td>66.415</td>\n",
       "      <td>11.366250</td>\n",
       "      <td>11.26</td>\n",
       "    </tr>\n",
       "  </tbody>\n",
       "</table>\n",
       "</div>"
      ],
      "text/plain": [
       "            ppl_fully_vaccd                daily_vaccs              \\\n",
       "                       mean       median          mean      median   \n",
       "cluster                                                              \n",
       "dark purple    6.486076e+07  49745316.00  3.542003e+06   2656575.0   \n",
       "pink           2.539951e+06   3041823.96  5.882161e+04      6335.0   \n",
       "purple         8.548253e+06   3041823.96  1.902535e+07  19062928.5   \n",
       "\n",
       "            total_vaccs_per_100         ppl_fully_vaccd_per_100         \n",
       "                           mean  median                    mean median  \n",
       "cluster                                                                 \n",
       "dark purple           44.070000  30.270               18.335751  11.26  \n",
       "pink                  27.103192  27.290               11.204501  11.26  \n",
       "purple                67.579000  66.415               11.366250  11.26  "
      ]
     },
     "execution_count": 36,
     "metadata": {},
     "output_type": "execute_result"
    }
   ],
   "source": [
    "df_vacc_country_6.groupby('cluster').agg({'ppl_fully_vaccd':['mean', 'median'], \n",
    "                         'daily_vaccs':['mean', 'median'], \n",
    "                         'total_vaccs_per_100':['mean', 'median'],\n",
    "                          'ppl_fully_vaccd_per_100':['mean', 'median']})"
   ]
  },
  {
   "cell_type": "markdown",
   "metadata": {},
   "source": [
    "# Task 10 - Propose what these results could be useful for in future steps of an analytics pipeline"
   ]
  },
  {
   "cell_type": "markdown",
   "metadata": {},
   "source": [
    "#### not sure what to answer .. please guide"
   ]
  }
 ],
 "metadata": {
  "kernelspec": {
   "display_name": "Python 3",
   "language": "python",
   "name": "python3"
  },
  "language_info": {
   "codemirror_mode": {
    "name": "ipython",
    "version": 3
   },
   "file_extension": ".py",
   "mimetype": "text/x-python",
   "name": "python",
   "nbconvert_exporter": "python",
   "pygments_lexer": "ipython3",
   "version": "3.8.5"
  }
 },
 "nbformat": 4,
 "nbformat_minor": 4
}
